{
 "cells": [
  {
   "cell_type": "code",
   "execution_count": 129,
   "metadata": {},
   "outputs": [],
   "source": [
    "# import sklearn\n",
    "from sklearn.linear_model import LinearRegression\n",
    "\n",
    "# Importing for Data Manipulation\n",
    "import numpy as np # linear algebra\n",
    "import pandas as pd # data processing, CSV file I/O (e.g. pd.read_csv)\n",
    "\n",
    "# Importing For Data Visualization\n",
    "import plotly.express as px\n",
    "import plotly.graph_objs as go\n",
    "from plotly.offline import init_notebook_mode, iplot\n",
    "\n",
    "# Input data files are available in the read-only \"../input/\" directory\n",
    "# For example, running this (by clicking run or pressing Shift+Enter) will list all files under the input directory\n",
    "\n",
    "# import os\n",
    "# for dirname, _, filenames in os.walk('/kaggle/input'):\n",
    "#     for filename in filenames:\n",
    "#         print(os.path.join(dirname, filename))\n",
    "\n",
    "# You can write up to 20GB to the current directory (/kaggle/working/) that gets preserved as output when you create a version using \"Save & Run All\"\n",
    "# You can also write temporary files to /kaggle/temp/, but they won't be saved outside of the current session"
   ]
  },
  {
   "cell_type": "code",
   "execution_count": 130,
   "metadata": {},
   "outputs": [],
   "source": [
    "# Load the dataset\n",
    "df = pd.read_csv(\"Sales Transaction v.4a.csv\")"
   ]
  },
  {
   "cell_type": "code",
   "execution_count": 131,
   "metadata": {},
   "outputs": [
    {
     "data": {
      "text/html": [
       "<div>\n",
       "<style scoped>\n",
       "    .dataframe tbody tr th:only-of-type {\n",
       "        vertical-align: middle;\n",
       "    }\n",
       "\n",
       "    .dataframe tbody tr th {\n",
       "        vertical-align: top;\n",
       "    }\n",
       "\n",
       "    .dataframe thead th {\n",
       "        text-align: right;\n",
       "    }\n",
       "</style>\n",
       "<table border=\"1\" class=\"dataframe\">\n",
       "  <thead>\n",
       "    <tr style=\"text-align: right;\">\n",
       "      <th></th>\n",
       "      <th>TransactionNo</th>\n",
       "      <th>Date</th>\n",
       "      <th>ProductNo</th>\n",
       "      <th>ProductName</th>\n",
       "      <th>Price</th>\n",
       "      <th>Quantity</th>\n",
       "      <th>CustomerNo</th>\n",
       "      <th>Country</th>\n",
       "    </tr>\n",
       "  </thead>\n",
       "  <tbody>\n",
       "    <tr>\n",
       "      <th>0</th>\n",
       "      <td>581482</td>\n",
       "      <td>12/9/2019</td>\n",
       "      <td>22485</td>\n",
       "      <td>Set Of 2 Wooden Market Crates</td>\n",
       "      <td>21.47</td>\n",
       "      <td>12</td>\n",
       "      <td>17490.0</td>\n",
       "      <td>United Kingdom</td>\n",
       "    </tr>\n",
       "    <tr>\n",
       "      <th>1</th>\n",
       "      <td>581475</td>\n",
       "      <td>12/9/2019</td>\n",
       "      <td>22596</td>\n",
       "      <td>Christmas Star Wish List Chalkboard</td>\n",
       "      <td>10.65</td>\n",
       "      <td>36</td>\n",
       "      <td>13069.0</td>\n",
       "      <td>United Kingdom</td>\n",
       "    </tr>\n",
       "    <tr>\n",
       "      <th>2</th>\n",
       "      <td>581475</td>\n",
       "      <td>12/9/2019</td>\n",
       "      <td>23235</td>\n",
       "      <td>Storage Tin Vintage Leaf</td>\n",
       "      <td>11.53</td>\n",
       "      <td>12</td>\n",
       "      <td>13069.0</td>\n",
       "      <td>United Kingdom</td>\n",
       "    </tr>\n",
       "    <tr>\n",
       "      <th>3</th>\n",
       "      <td>581475</td>\n",
       "      <td>12/9/2019</td>\n",
       "      <td>23272</td>\n",
       "      <td>Tree T-Light Holder Willie Winkie</td>\n",
       "      <td>10.65</td>\n",
       "      <td>12</td>\n",
       "      <td>13069.0</td>\n",
       "      <td>United Kingdom</td>\n",
       "    </tr>\n",
       "    <tr>\n",
       "      <th>4</th>\n",
       "      <td>581475</td>\n",
       "      <td>12/9/2019</td>\n",
       "      <td>23239</td>\n",
       "      <td>Set Of 4 Knick Knack Tins Poppies</td>\n",
       "      <td>11.94</td>\n",
       "      <td>6</td>\n",
       "      <td>13069.0</td>\n",
       "      <td>United Kingdom</td>\n",
       "    </tr>\n",
       "    <tr>\n",
       "      <th>...</th>\n",
       "      <td>...</td>\n",
       "      <td>...</td>\n",
       "      <td>...</td>\n",
       "      <td>...</td>\n",
       "      <td>...</td>\n",
       "      <td>...</td>\n",
       "      <td>...</td>\n",
       "      <td>...</td>\n",
       "    </tr>\n",
       "    <tr>\n",
       "      <th>536345</th>\n",
       "      <td>C536548</td>\n",
       "      <td>12/1/2018</td>\n",
       "      <td>22168</td>\n",
       "      <td>Organiser Wood Antique White</td>\n",
       "      <td>18.96</td>\n",
       "      <td>-2</td>\n",
       "      <td>12472.0</td>\n",
       "      <td>Germany</td>\n",
       "    </tr>\n",
       "    <tr>\n",
       "      <th>536346</th>\n",
       "      <td>C536548</td>\n",
       "      <td>12/1/2018</td>\n",
       "      <td>21218</td>\n",
       "      <td>Red Spotty Biscuit Tin</td>\n",
       "      <td>14.09</td>\n",
       "      <td>-3</td>\n",
       "      <td>12472.0</td>\n",
       "      <td>Germany</td>\n",
       "    </tr>\n",
       "    <tr>\n",
       "      <th>536347</th>\n",
       "      <td>C536548</td>\n",
       "      <td>12/1/2018</td>\n",
       "      <td>20957</td>\n",
       "      <td>Porcelain Hanging Bell Small</td>\n",
       "      <td>11.74</td>\n",
       "      <td>-1</td>\n",
       "      <td>12472.0</td>\n",
       "      <td>Germany</td>\n",
       "    </tr>\n",
       "    <tr>\n",
       "      <th>536348</th>\n",
       "      <td>C536548</td>\n",
       "      <td>12/1/2018</td>\n",
       "      <td>22580</td>\n",
       "      <td>Advent Calendar Gingham Sack</td>\n",
       "      <td>16.35</td>\n",
       "      <td>-4</td>\n",
       "      <td>12472.0</td>\n",
       "      <td>Germany</td>\n",
       "    </tr>\n",
       "    <tr>\n",
       "      <th>536349</th>\n",
       "      <td>C536548</td>\n",
       "      <td>12/1/2018</td>\n",
       "      <td>22767</td>\n",
       "      <td>Triple Photo Frame Cornice</td>\n",
       "      <td>20.45</td>\n",
       "      <td>-2</td>\n",
       "      <td>12472.0</td>\n",
       "      <td>Germany</td>\n",
       "    </tr>\n",
       "  </tbody>\n",
       "</table>\n",
       "<p>536295 rows × 8 columns</p>\n",
       "</div>"
      ],
      "text/plain": [
       "       TransactionNo       Date ProductNo  \\\n",
       "0             581482  12/9/2019     22485   \n",
       "1             581475  12/9/2019     22596   \n",
       "2             581475  12/9/2019     23235   \n",
       "3             581475  12/9/2019     23272   \n",
       "4             581475  12/9/2019     23239   \n",
       "...              ...        ...       ...   \n",
       "536345       C536548  12/1/2018     22168   \n",
       "536346       C536548  12/1/2018     21218   \n",
       "536347       C536548  12/1/2018     20957   \n",
       "536348       C536548  12/1/2018     22580   \n",
       "536349       C536548  12/1/2018     22767   \n",
       "\n",
       "                                ProductName  Price  Quantity  CustomerNo  \\\n",
       "0             Set Of 2 Wooden Market Crates  21.47        12     17490.0   \n",
       "1       Christmas Star Wish List Chalkboard  10.65        36     13069.0   \n",
       "2                  Storage Tin Vintage Leaf  11.53        12     13069.0   \n",
       "3         Tree T-Light Holder Willie Winkie  10.65        12     13069.0   \n",
       "4         Set Of 4 Knick Knack Tins Poppies  11.94         6     13069.0   \n",
       "...                                     ...    ...       ...         ...   \n",
       "536345         Organiser Wood Antique White  18.96        -2     12472.0   \n",
       "536346               Red Spotty Biscuit Tin  14.09        -3     12472.0   \n",
       "536347         Porcelain Hanging Bell Small  11.74        -1     12472.0   \n",
       "536348         Advent Calendar Gingham Sack  16.35        -4     12472.0   \n",
       "536349           Triple Photo Frame Cornice  20.45        -2     12472.0   \n",
       "\n",
       "               Country  \n",
       "0       United Kingdom  \n",
       "1       United Kingdom  \n",
       "2       United Kingdom  \n",
       "3       United Kingdom  \n",
       "4       United Kingdom  \n",
       "...                ...  \n",
       "536345         Germany  \n",
       "536346         Germany  \n",
       "536347         Germany  \n",
       "536348         Germany  \n",
       "536349         Germany  \n",
       "\n",
       "[536295 rows x 8 columns]"
      ]
     },
     "execution_count": 131,
     "metadata": {},
     "output_type": "execute_result"
    }
   ],
   "source": [
    "#cleaning the data with missing values\n",
    "df = df.dropna()\n",
    "df"
   ]
  },
  {
   "cell_type": "code",
   "execution_count": 132,
   "metadata": {},
   "outputs": [
    {
     "data": {
      "text/html": [
       "<div>\n",
       "<style scoped>\n",
       "    .dataframe tbody tr th:only-of-type {\n",
       "        vertical-align: middle;\n",
       "    }\n",
       "\n",
       "    .dataframe tbody tr th {\n",
       "        vertical-align: top;\n",
       "    }\n",
       "\n",
       "    .dataframe thead th {\n",
       "        text-align: right;\n",
       "    }\n",
       "</style>\n",
       "<table border=\"1\" class=\"dataframe\">\n",
       "  <thead>\n",
       "    <tr style=\"text-align: right;\">\n",
       "      <th></th>\n",
       "      <th>TransactionNo</th>\n",
       "      <th>Date</th>\n",
       "      <th>ProductNo</th>\n",
       "      <th>ProductName</th>\n",
       "      <th>Price</th>\n",
       "      <th>Quantity</th>\n",
       "      <th>CustomerNo</th>\n",
       "      <th>Country</th>\n",
       "    </tr>\n",
       "  </thead>\n",
       "  <tbody>\n",
       "    <tr>\n",
       "      <th>0</th>\n",
       "      <td>581482</td>\n",
       "      <td>12/9/2019</td>\n",
       "      <td>22485</td>\n",
       "      <td>Set Of 2 Wooden Market Crates</td>\n",
       "      <td>21.47</td>\n",
       "      <td>12</td>\n",
       "      <td>17490.0</td>\n",
       "      <td>United Kingdom</td>\n",
       "    </tr>\n",
       "    <tr>\n",
       "      <th>1</th>\n",
       "      <td>581475</td>\n",
       "      <td>12/9/2019</td>\n",
       "      <td>22596</td>\n",
       "      <td>Christmas Star Wish List Chalkboard</td>\n",
       "      <td>10.65</td>\n",
       "      <td>36</td>\n",
       "      <td>13069.0</td>\n",
       "      <td>United Kingdom</td>\n",
       "    </tr>\n",
       "    <tr>\n",
       "      <th>2</th>\n",
       "      <td>581475</td>\n",
       "      <td>12/9/2019</td>\n",
       "      <td>23235</td>\n",
       "      <td>Storage Tin Vintage Leaf</td>\n",
       "      <td>11.53</td>\n",
       "      <td>12</td>\n",
       "      <td>13069.0</td>\n",
       "      <td>United Kingdom</td>\n",
       "    </tr>\n",
       "    <tr>\n",
       "      <th>3</th>\n",
       "      <td>581475</td>\n",
       "      <td>12/9/2019</td>\n",
       "      <td>23272</td>\n",
       "      <td>Tree T-Light Holder Willie Winkie</td>\n",
       "      <td>10.65</td>\n",
       "      <td>12</td>\n",
       "      <td>13069.0</td>\n",
       "      <td>United Kingdom</td>\n",
       "    </tr>\n",
       "    <tr>\n",
       "      <th>4</th>\n",
       "      <td>581475</td>\n",
       "      <td>12/9/2019</td>\n",
       "      <td>23239</td>\n",
       "      <td>Set Of 4 Knick Knack Tins Poppies</td>\n",
       "      <td>11.94</td>\n",
       "      <td>6</td>\n",
       "      <td>13069.0</td>\n",
       "      <td>United Kingdom</td>\n",
       "    </tr>\n",
       "    <tr>\n",
       "      <th>...</th>\n",
       "      <td>...</td>\n",
       "      <td>...</td>\n",
       "      <td>...</td>\n",
       "      <td>...</td>\n",
       "      <td>...</td>\n",
       "      <td>...</td>\n",
       "      <td>...</td>\n",
       "      <td>...</td>\n",
       "    </tr>\n",
       "    <tr>\n",
       "      <th>536345</th>\n",
       "      <td>C536548</td>\n",
       "      <td>12/1/2018</td>\n",
       "      <td>22168</td>\n",
       "      <td>Organiser Wood Antique White</td>\n",
       "      <td>18.96</td>\n",
       "      <td>-2</td>\n",
       "      <td>12472.0</td>\n",
       "      <td>Germany</td>\n",
       "    </tr>\n",
       "    <tr>\n",
       "      <th>536346</th>\n",
       "      <td>C536548</td>\n",
       "      <td>12/1/2018</td>\n",
       "      <td>21218</td>\n",
       "      <td>Red Spotty Biscuit Tin</td>\n",
       "      <td>14.09</td>\n",
       "      <td>-3</td>\n",
       "      <td>12472.0</td>\n",
       "      <td>Germany</td>\n",
       "    </tr>\n",
       "    <tr>\n",
       "      <th>536347</th>\n",
       "      <td>C536548</td>\n",
       "      <td>12/1/2018</td>\n",
       "      <td>20957</td>\n",
       "      <td>Porcelain Hanging Bell Small</td>\n",
       "      <td>11.74</td>\n",
       "      <td>-1</td>\n",
       "      <td>12472.0</td>\n",
       "      <td>Germany</td>\n",
       "    </tr>\n",
       "    <tr>\n",
       "      <th>536348</th>\n",
       "      <td>C536548</td>\n",
       "      <td>12/1/2018</td>\n",
       "      <td>22580</td>\n",
       "      <td>Advent Calendar Gingham Sack</td>\n",
       "      <td>16.35</td>\n",
       "      <td>-4</td>\n",
       "      <td>12472.0</td>\n",
       "      <td>Germany</td>\n",
       "    </tr>\n",
       "    <tr>\n",
       "      <th>536349</th>\n",
       "      <td>C536548</td>\n",
       "      <td>12/1/2018</td>\n",
       "      <td>22767</td>\n",
       "      <td>Triple Photo Frame Cornice</td>\n",
       "      <td>20.45</td>\n",
       "      <td>-2</td>\n",
       "      <td>12472.0</td>\n",
       "      <td>Germany</td>\n",
       "    </tr>\n",
       "  </tbody>\n",
       "</table>\n",
       "<p>531095 rows × 8 columns</p>\n",
       "</div>"
      ],
      "text/plain": [
       "       TransactionNo       Date ProductNo  \\\n",
       "0             581482  12/9/2019     22485   \n",
       "1             581475  12/9/2019     22596   \n",
       "2             581475  12/9/2019     23235   \n",
       "3             581475  12/9/2019     23272   \n",
       "4             581475  12/9/2019     23239   \n",
       "...              ...        ...       ...   \n",
       "536345       C536548  12/1/2018     22168   \n",
       "536346       C536548  12/1/2018     21218   \n",
       "536347       C536548  12/1/2018     20957   \n",
       "536348       C536548  12/1/2018     22580   \n",
       "536349       C536548  12/1/2018     22767   \n",
       "\n",
       "                                ProductName  Price  Quantity  CustomerNo  \\\n",
       "0             Set Of 2 Wooden Market Crates  21.47        12     17490.0   \n",
       "1       Christmas Star Wish List Chalkboard  10.65        36     13069.0   \n",
       "2                  Storage Tin Vintage Leaf  11.53        12     13069.0   \n",
       "3         Tree T-Light Holder Willie Winkie  10.65        12     13069.0   \n",
       "4         Set Of 4 Knick Knack Tins Poppies  11.94         6     13069.0   \n",
       "...                                     ...    ...       ...         ...   \n",
       "536345         Organiser Wood Antique White  18.96        -2     12472.0   \n",
       "536346               Red Spotty Biscuit Tin  14.09        -3     12472.0   \n",
       "536347         Porcelain Hanging Bell Small  11.74        -1     12472.0   \n",
       "536348         Advent Calendar Gingham Sack  16.35        -4     12472.0   \n",
       "536349           Triple Photo Frame Cornice  20.45        -2     12472.0   \n",
       "\n",
       "               Country  \n",
       "0       United Kingdom  \n",
       "1       United Kingdom  \n",
       "2       United Kingdom  \n",
       "3       United Kingdom  \n",
       "4       United Kingdom  \n",
       "...                ...  \n",
       "536345         Germany  \n",
       "536346         Germany  \n",
       "536347         Germany  \n",
       "536348         Germany  \n",
       "536349         Germany  \n",
       "\n",
       "[531095 rows x 8 columns]"
      ]
     },
     "execution_count": 132,
     "metadata": {},
     "output_type": "execute_result"
    }
   ],
   "source": [
    "#cleaning the duplicates\n",
    "df = df.drop_duplicates()\n",
    "df"
   ]
  },
  {
   "cell_type": "code",
   "execution_count": 133,
   "metadata": {},
   "outputs": [
    {
     "data": {
      "text/html": [
       "<div>\n",
       "<style scoped>\n",
       "    .dataframe tbody tr th:only-of-type {\n",
       "        vertical-align: middle;\n",
       "    }\n",
       "\n",
       "    .dataframe tbody tr th {\n",
       "        vertical-align: top;\n",
       "    }\n",
       "\n",
       "    .dataframe thead th {\n",
       "        text-align: right;\n",
       "    }\n",
       "</style>\n",
       "<table border=\"1\" class=\"dataframe\">\n",
       "  <thead>\n",
       "    <tr style=\"text-align: right;\">\n",
       "      <th></th>\n",
       "      <th>TransactionNo</th>\n",
       "      <th>Date</th>\n",
       "      <th>ProductNo</th>\n",
       "      <th>ProductName</th>\n",
       "      <th>Price</th>\n",
       "      <th>Quantity</th>\n",
       "      <th>CustomerNo</th>\n",
       "      <th>Country</th>\n",
       "    </tr>\n",
       "  </thead>\n",
       "  <tbody>\n",
       "    <tr>\n",
       "      <th>0</th>\n",
       "      <td>581482</td>\n",
       "      <td>12/9/2019</td>\n",
       "      <td>22485</td>\n",
       "      <td>Set Of 2 Wooden Market Crates</td>\n",
       "      <td>21.47</td>\n",
       "      <td>12</td>\n",
       "      <td>17490.0</td>\n",
       "      <td>United Kingdom</td>\n",
       "    </tr>\n",
       "    <tr>\n",
       "      <th>1</th>\n",
       "      <td>581475</td>\n",
       "      <td>12/9/2019</td>\n",
       "      <td>22596</td>\n",
       "      <td>Christmas Star Wish List Chalkboard</td>\n",
       "      <td>10.65</td>\n",
       "      <td>36</td>\n",
       "      <td>13069.0</td>\n",
       "      <td>United Kingdom</td>\n",
       "    </tr>\n",
       "    <tr>\n",
       "      <th>2</th>\n",
       "      <td>581475</td>\n",
       "      <td>12/9/2019</td>\n",
       "      <td>23235</td>\n",
       "      <td>Storage Tin Vintage Leaf</td>\n",
       "      <td>11.53</td>\n",
       "      <td>12</td>\n",
       "      <td>13069.0</td>\n",
       "      <td>United Kingdom</td>\n",
       "    </tr>\n",
       "    <tr>\n",
       "      <th>3</th>\n",
       "      <td>581475</td>\n",
       "      <td>12/9/2019</td>\n",
       "      <td>23272</td>\n",
       "      <td>Tree T-Light Holder Willie Winkie</td>\n",
       "      <td>10.65</td>\n",
       "      <td>12</td>\n",
       "      <td>13069.0</td>\n",
       "      <td>United Kingdom</td>\n",
       "    </tr>\n",
       "    <tr>\n",
       "      <th>4</th>\n",
       "      <td>581475</td>\n",
       "      <td>12/9/2019</td>\n",
       "      <td>23239</td>\n",
       "      <td>Set Of 4 Knick Knack Tins Poppies</td>\n",
       "      <td>11.94</td>\n",
       "      <td>6</td>\n",
       "      <td>13069.0</td>\n",
       "      <td>United Kingdom</td>\n",
       "    </tr>\n",
       "    <tr>\n",
       "      <th>...</th>\n",
       "      <td>...</td>\n",
       "      <td>...</td>\n",
       "      <td>...</td>\n",
       "      <td>...</td>\n",
       "      <td>...</td>\n",
       "      <td>...</td>\n",
       "      <td>...</td>\n",
       "      <td>...</td>\n",
       "    </tr>\n",
       "    <tr>\n",
       "      <th>536320</th>\n",
       "      <td>536585</td>\n",
       "      <td>12/1/2018</td>\n",
       "      <td>37449</td>\n",
       "      <td>Ceramic Cake Stand + Hanging Cakes</td>\n",
       "      <td>20.45</td>\n",
       "      <td>2</td>\n",
       "      <td>17460.0</td>\n",
       "      <td>United Kingdom</td>\n",
       "    </tr>\n",
       "    <tr>\n",
       "      <th>536321</th>\n",
       "      <td>536590</td>\n",
       "      <td>12/1/2018</td>\n",
       "      <td>22776</td>\n",
       "      <td>Sweetheart 3 Tier Cake Stand</td>\n",
       "      <td>20.45</td>\n",
       "      <td>1</td>\n",
       "      <td>13065.0</td>\n",
       "      <td>United Kingdom</td>\n",
       "    </tr>\n",
       "    <tr>\n",
       "      <th>536322</th>\n",
       "      <td>536590</td>\n",
       "      <td>12/1/2018</td>\n",
       "      <td>22622</td>\n",
       "      <td>Box Of Vintage Alphabet Blocks</td>\n",
       "      <td>20.45</td>\n",
       "      <td>2</td>\n",
       "      <td>13065.0</td>\n",
       "      <td>United Kingdom</td>\n",
       "    </tr>\n",
       "    <tr>\n",
       "      <th>536323</th>\n",
       "      <td>536591</td>\n",
       "      <td>12/1/2018</td>\n",
       "      <td>37449</td>\n",
       "      <td>Ceramic Cake Stand + Hanging Cakes</td>\n",
       "      <td>20.45</td>\n",
       "      <td>1</td>\n",
       "      <td>14606.0</td>\n",
       "      <td>United Kingdom</td>\n",
       "    </tr>\n",
       "    <tr>\n",
       "      <th>536324</th>\n",
       "      <td>536597</td>\n",
       "      <td>12/1/2018</td>\n",
       "      <td>22220</td>\n",
       "      <td>Cake Stand Lovebird 2 Tier White</td>\n",
       "      <td>20.45</td>\n",
       "      <td>1</td>\n",
       "      <td>18011.0</td>\n",
       "      <td>United Kingdom</td>\n",
       "    </tr>\n",
       "  </tbody>\n",
       "</table>\n",
       "<p>522601 rows × 8 columns</p>\n",
       "</div>"
      ],
      "text/plain": [
       "       TransactionNo       Date ProductNo  \\\n",
       "0             581482  12/9/2019     22485   \n",
       "1             581475  12/9/2019     22596   \n",
       "2             581475  12/9/2019     23235   \n",
       "3             581475  12/9/2019     23272   \n",
       "4             581475  12/9/2019     23239   \n",
       "...              ...        ...       ...   \n",
       "536320        536585  12/1/2018     37449   \n",
       "536321        536590  12/1/2018     22776   \n",
       "536322        536590  12/1/2018     22622   \n",
       "536323        536591  12/1/2018     37449   \n",
       "536324        536597  12/1/2018     22220   \n",
       "\n",
       "                                ProductName  Price  Quantity  CustomerNo  \\\n",
       "0             Set Of 2 Wooden Market Crates  21.47        12     17490.0   \n",
       "1       Christmas Star Wish List Chalkboard  10.65        36     13069.0   \n",
       "2                  Storage Tin Vintage Leaf  11.53        12     13069.0   \n",
       "3         Tree T-Light Holder Willie Winkie  10.65        12     13069.0   \n",
       "4         Set Of 4 Knick Knack Tins Poppies  11.94         6     13069.0   \n",
       "...                                     ...    ...       ...         ...   \n",
       "536320   Ceramic Cake Stand + Hanging Cakes  20.45         2     17460.0   \n",
       "536321         Sweetheart 3 Tier Cake Stand  20.45         1     13065.0   \n",
       "536322       Box Of Vintage Alphabet Blocks  20.45         2     13065.0   \n",
       "536323   Ceramic Cake Stand + Hanging Cakes  20.45         1     14606.0   \n",
       "536324     Cake Stand Lovebird 2 Tier White  20.45         1     18011.0   \n",
       "\n",
       "               Country  \n",
       "0       United Kingdom  \n",
       "1       United Kingdom  \n",
       "2       United Kingdom  \n",
       "3       United Kingdom  \n",
       "4       United Kingdom  \n",
       "...                ...  \n",
       "536320  United Kingdom  \n",
       "536321  United Kingdom  \n",
       "536322  United Kingdom  \n",
       "536323  United Kingdom  \n",
       "536324  United Kingdom  \n",
       "\n",
       "[522601 rows x 8 columns]"
      ]
     },
     "execution_count": 133,
     "metadata": {},
     "output_type": "execute_result"
    }
   ],
   "source": [
    "# Delete Cancelation Transaction based on Quantity below 0\n",
    "df = df[df['Quantity'] > 0]\n",
    "df"
   ]
  },
  {
   "cell_type": "code",
   "execution_count": 134,
   "metadata": {},
   "outputs": [
    {
     "name": "stderr",
     "output_type": "stream",
     "text": [
      "C:\\Users\\Zarel\\AppData\\Local\\Temp\\ipykernel_15528\\3772160851.py:2: SettingWithCopyWarning:\n",
      "\n",
      "\n",
      "A value is trying to be set on a copy of a slice from a DataFrame.\n",
      "Try using .loc[row_indexer,col_indexer] = value instead\n",
      "\n",
      "See the caveats in the documentation: https://pandas.pydata.org/pandas-docs/stable/user_guide/indexing.html#returning-a-view-versus-a-copy\n",
      "\n"
     ]
    },
    {
     "data": {
      "text/html": [
       "<div>\n",
       "<style scoped>\n",
       "    .dataframe tbody tr th:only-of-type {\n",
       "        vertical-align: middle;\n",
       "    }\n",
       "\n",
       "    .dataframe tbody tr th {\n",
       "        vertical-align: top;\n",
       "    }\n",
       "\n",
       "    .dataframe thead th {\n",
       "        text-align: right;\n",
       "    }\n",
       "</style>\n",
       "<table border=\"1\" class=\"dataframe\">\n",
       "  <thead>\n",
       "    <tr style=\"text-align: right;\">\n",
       "      <th></th>\n",
       "      <th>TransactionNo</th>\n",
       "      <th>Date</th>\n",
       "      <th>ProductNo</th>\n",
       "      <th>ProductName</th>\n",
       "      <th>Price</th>\n",
       "      <th>Quantity</th>\n",
       "      <th>CustomerNo</th>\n",
       "      <th>Country</th>\n",
       "    </tr>\n",
       "  </thead>\n",
       "  <tbody>\n",
       "    <tr>\n",
       "      <th>0</th>\n",
       "      <td>581482</td>\n",
       "      <td>2019-12-09</td>\n",
       "      <td>22485</td>\n",
       "      <td>Set Of 2 Wooden Market Crates</td>\n",
       "      <td>21.47</td>\n",
       "      <td>12</td>\n",
       "      <td>17490.0</td>\n",
       "      <td>United Kingdom</td>\n",
       "    </tr>\n",
       "    <tr>\n",
       "      <th>1</th>\n",
       "      <td>581475</td>\n",
       "      <td>2019-12-09</td>\n",
       "      <td>22596</td>\n",
       "      <td>Christmas Star Wish List Chalkboard</td>\n",
       "      <td>10.65</td>\n",
       "      <td>36</td>\n",
       "      <td>13069.0</td>\n",
       "      <td>United Kingdom</td>\n",
       "    </tr>\n",
       "    <tr>\n",
       "      <th>2</th>\n",
       "      <td>581475</td>\n",
       "      <td>2019-12-09</td>\n",
       "      <td>23235</td>\n",
       "      <td>Storage Tin Vintage Leaf</td>\n",
       "      <td>11.53</td>\n",
       "      <td>12</td>\n",
       "      <td>13069.0</td>\n",
       "      <td>United Kingdom</td>\n",
       "    </tr>\n",
       "    <tr>\n",
       "      <th>3</th>\n",
       "      <td>581475</td>\n",
       "      <td>2019-12-09</td>\n",
       "      <td>23272</td>\n",
       "      <td>Tree T-Light Holder Willie Winkie</td>\n",
       "      <td>10.65</td>\n",
       "      <td>12</td>\n",
       "      <td>13069.0</td>\n",
       "      <td>United Kingdom</td>\n",
       "    </tr>\n",
       "    <tr>\n",
       "      <th>4</th>\n",
       "      <td>581475</td>\n",
       "      <td>2019-12-09</td>\n",
       "      <td>23239</td>\n",
       "      <td>Set Of 4 Knick Knack Tins Poppies</td>\n",
       "      <td>11.94</td>\n",
       "      <td>6</td>\n",
       "      <td>13069.0</td>\n",
       "      <td>United Kingdom</td>\n",
       "    </tr>\n",
       "    <tr>\n",
       "      <th>...</th>\n",
       "      <td>...</td>\n",
       "      <td>...</td>\n",
       "      <td>...</td>\n",
       "      <td>...</td>\n",
       "      <td>...</td>\n",
       "      <td>...</td>\n",
       "      <td>...</td>\n",
       "      <td>...</td>\n",
       "    </tr>\n",
       "    <tr>\n",
       "      <th>536320</th>\n",
       "      <td>536585</td>\n",
       "      <td>2018-12-01</td>\n",
       "      <td>37449</td>\n",
       "      <td>Ceramic Cake Stand + Hanging Cakes</td>\n",
       "      <td>20.45</td>\n",
       "      <td>2</td>\n",
       "      <td>17460.0</td>\n",
       "      <td>United Kingdom</td>\n",
       "    </tr>\n",
       "    <tr>\n",
       "      <th>536321</th>\n",
       "      <td>536590</td>\n",
       "      <td>2018-12-01</td>\n",
       "      <td>22776</td>\n",
       "      <td>Sweetheart 3 Tier Cake Stand</td>\n",
       "      <td>20.45</td>\n",
       "      <td>1</td>\n",
       "      <td>13065.0</td>\n",
       "      <td>United Kingdom</td>\n",
       "    </tr>\n",
       "    <tr>\n",
       "      <th>536322</th>\n",
       "      <td>536590</td>\n",
       "      <td>2018-12-01</td>\n",
       "      <td>22622</td>\n",
       "      <td>Box Of Vintage Alphabet Blocks</td>\n",
       "      <td>20.45</td>\n",
       "      <td>2</td>\n",
       "      <td>13065.0</td>\n",
       "      <td>United Kingdom</td>\n",
       "    </tr>\n",
       "    <tr>\n",
       "      <th>536323</th>\n",
       "      <td>536591</td>\n",
       "      <td>2018-12-01</td>\n",
       "      <td>37449</td>\n",
       "      <td>Ceramic Cake Stand + Hanging Cakes</td>\n",
       "      <td>20.45</td>\n",
       "      <td>1</td>\n",
       "      <td>14606.0</td>\n",
       "      <td>United Kingdom</td>\n",
       "    </tr>\n",
       "    <tr>\n",
       "      <th>536324</th>\n",
       "      <td>536597</td>\n",
       "      <td>2018-12-01</td>\n",
       "      <td>22220</td>\n",
       "      <td>Cake Stand Lovebird 2 Tier White</td>\n",
       "      <td>20.45</td>\n",
       "      <td>1</td>\n",
       "      <td>18011.0</td>\n",
       "      <td>United Kingdom</td>\n",
       "    </tr>\n",
       "  </tbody>\n",
       "</table>\n",
       "<p>522601 rows × 8 columns</p>\n",
       "</div>"
      ],
      "text/plain": [
       "       TransactionNo       Date ProductNo  \\\n",
       "0             581482 2019-12-09     22485   \n",
       "1             581475 2019-12-09     22596   \n",
       "2             581475 2019-12-09     23235   \n",
       "3             581475 2019-12-09     23272   \n",
       "4             581475 2019-12-09     23239   \n",
       "...              ...        ...       ...   \n",
       "536320        536585 2018-12-01     37449   \n",
       "536321        536590 2018-12-01     22776   \n",
       "536322        536590 2018-12-01     22622   \n",
       "536323        536591 2018-12-01     37449   \n",
       "536324        536597 2018-12-01     22220   \n",
       "\n",
       "                                ProductName  Price  Quantity  CustomerNo  \\\n",
       "0             Set Of 2 Wooden Market Crates  21.47        12     17490.0   \n",
       "1       Christmas Star Wish List Chalkboard  10.65        36     13069.0   \n",
       "2                  Storage Tin Vintage Leaf  11.53        12     13069.0   \n",
       "3         Tree T-Light Holder Willie Winkie  10.65        12     13069.0   \n",
       "4         Set Of 4 Knick Knack Tins Poppies  11.94         6     13069.0   \n",
       "...                                     ...    ...       ...         ...   \n",
       "536320   Ceramic Cake Stand + Hanging Cakes  20.45         2     17460.0   \n",
       "536321         Sweetheart 3 Tier Cake Stand  20.45         1     13065.0   \n",
       "536322       Box Of Vintage Alphabet Blocks  20.45         2     13065.0   \n",
       "536323   Ceramic Cake Stand + Hanging Cakes  20.45         1     14606.0   \n",
       "536324     Cake Stand Lovebird 2 Tier White  20.45         1     18011.0   \n",
       "\n",
       "               Country  \n",
       "0       United Kingdom  \n",
       "1       United Kingdom  \n",
       "2       United Kingdom  \n",
       "3       United Kingdom  \n",
       "4       United Kingdom  \n",
       "...                ...  \n",
       "536320  United Kingdom  \n",
       "536321  United Kingdom  \n",
       "536322  United Kingdom  \n",
       "536323  United Kingdom  \n",
       "536324  United Kingdom  \n",
       "\n",
       "[522601 rows x 8 columns]"
      ]
     },
     "execution_count": 134,
     "metadata": {},
     "output_type": "execute_result"
    }
   ],
   "source": [
    "# Changing the type 'Date' to datetime\n",
    "df['Date'] = pd.to_datetime(df['Date'])\n",
    "df"
   ]
  },
  {
   "cell_type": "code",
   "execution_count": 135,
   "metadata": {},
   "outputs": [
    {
     "name": "stderr",
     "output_type": "stream",
     "text": [
      "C:\\Users\\Zarel\\AppData\\Local\\Temp\\ipykernel_15528\\1524001543.py:2: SettingWithCopyWarning:\n",
      "\n",
      "\n",
      "A value is trying to be set on a copy of a slice from a DataFrame.\n",
      "Try using .loc[row_indexer,col_indexer] = value instead\n",
      "\n",
      "See the caveats in the documentation: https://pandas.pydata.org/pandas-docs/stable/user_guide/indexing.html#returning-a-view-versus-a-copy\n",
      "\n",
      "C:\\Users\\Zarel\\AppData\\Local\\Temp\\ipykernel_15528\\1524001543.py:3: SettingWithCopyWarning:\n",
      "\n",
      "\n",
      "A value is trying to be set on a copy of a slice from a DataFrame.\n",
      "Try using .loc[row_indexer,col_indexer] = value instead\n",
      "\n",
      "See the caveats in the documentation: https://pandas.pydata.org/pandas-docs/stable/user_guide/indexing.html#returning-a-view-versus-a-copy\n",
      "\n"
     ]
    },
    {
     "data": {
      "text/html": [
       "<div>\n",
       "<style scoped>\n",
       "    .dataframe tbody tr th:only-of-type {\n",
       "        vertical-align: middle;\n",
       "    }\n",
       "\n",
       "    .dataframe tbody tr th {\n",
       "        vertical-align: top;\n",
       "    }\n",
       "\n",
       "    .dataframe thead th {\n",
       "        text-align: right;\n",
       "    }\n",
       "</style>\n",
       "<table border=\"1\" class=\"dataframe\">\n",
       "  <thead>\n",
       "    <tr style=\"text-align: right;\">\n",
       "      <th></th>\n",
       "      <th>TransactionNo</th>\n",
       "      <th>Date</th>\n",
       "      <th>ProductNo</th>\n",
       "      <th>ProductName</th>\n",
       "      <th>Price</th>\n",
       "      <th>Quantity</th>\n",
       "      <th>CustomerNo</th>\n",
       "      <th>Country</th>\n",
       "    </tr>\n",
       "  </thead>\n",
       "  <tbody>\n",
       "    <tr>\n",
       "      <th>0</th>\n",
       "      <td>581482</td>\n",
       "      <td>2019-12-09</td>\n",
       "      <td>22485</td>\n",
       "      <td>Set Of 2 Wooden Market Crates</td>\n",
       "      <td>21.47</td>\n",
       "      <td>12</td>\n",
       "      <td>17490</td>\n",
       "      <td>United Kingdom</td>\n",
       "    </tr>\n",
       "    <tr>\n",
       "      <th>1</th>\n",
       "      <td>581475</td>\n",
       "      <td>2019-12-09</td>\n",
       "      <td>22596</td>\n",
       "      <td>Christmas Star Wish List Chalkboard</td>\n",
       "      <td>10.65</td>\n",
       "      <td>36</td>\n",
       "      <td>13069</td>\n",
       "      <td>United Kingdom</td>\n",
       "    </tr>\n",
       "    <tr>\n",
       "      <th>2</th>\n",
       "      <td>581475</td>\n",
       "      <td>2019-12-09</td>\n",
       "      <td>23235</td>\n",
       "      <td>Storage Tin Vintage Leaf</td>\n",
       "      <td>11.53</td>\n",
       "      <td>12</td>\n",
       "      <td>13069</td>\n",
       "      <td>United Kingdom</td>\n",
       "    </tr>\n",
       "    <tr>\n",
       "      <th>3</th>\n",
       "      <td>581475</td>\n",
       "      <td>2019-12-09</td>\n",
       "      <td>23272</td>\n",
       "      <td>Tree T-Light Holder Willie Winkie</td>\n",
       "      <td>10.65</td>\n",
       "      <td>12</td>\n",
       "      <td>13069</td>\n",
       "      <td>United Kingdom</td>\n",
       "    </tr>\n",
       "    <tr>\n",
       "      <th>4</th>\n",
       "      <td>581475</td>\n",
       "      <td>2019-12-09</td>\n",
       "      <td>23239</td>\n",
       "      <td>Set Of 4 Knick Knack Tins Poppies</td>\n",
       "      <td>11.94</td>\n",
       "      <td>6</td>\n",
       "      <td>13069</td>\n",
       "      <td>United Kingdom</td>\n",
       "    </tr>\n",
       "    <tr>\n",
       "      <th>...</th>\n",
       "      <td>...</td>\n",
       "      <td>...</td>\n",
       "      <td>...</td>\n",
       "      <td>...</td>\n",
       "      <td>...</td>\n",
       "      <td>...</td>\n",
       "      <td>...</td>\n",
       "      <td>...</td>\n",
       "    </tr>\n",
       "    <tr>\n",
       "      <th>536320</th>\n",
       "      <td>536585</td>\n",
       "      <td>2018-12-01</td>\n",
       "      <td>37449</td>\n",
       "      <td>Ceramic Cake Stand + Hanging Cakes</td>\n",
       "      <td>20.45</td>\n",
       "      <td>2</td>\n",
       "      <td>17460</td>\n",
       "      <td>United Kingdom</td>\n",
       "    </tr>\n",
       "    <tr>\n",
       "      <th>536321</th>\n",
       "      <td>536590</td>\n",
       "      <td>2018-12-01</td>\n",
       "      <td>22776</td>\n",
       "      <td>Sweetheart 3 Tier Cake Stand</td>\n",
       "      <td>20.45</td>\n",
       "      <td>1</td>\n",
       "      <td>13065</td>\n",
       "      <td>United Kingdom</td>\n",
       "    </tr>\n",
       "    <tr>\n",
       "      <th>536322</th>\n",
       "      <td>536590</td>\n",
       "      <td>2018-12-01</td>\n",
       "      <td>22622</td>\n",
       "      <td>Box Of Vintage Alphabet Blocks</td>\n",
       "      <td>20.45</td>\n",
       "      <td>2</td>\n",
       "      <td>13065</td>\n",
       "      <td>United Kingdom</td>\n",
       "    </tr>\n",
       "    <tr>\n",
       "      <th>536323</th>\n",
       "      <td>536591</td>\n",
       "      <td>2018-12-01</td>\n",
       "      <td>37449</td>\n",
       "      <td>Ceramic Cake Stand + Hanging Cakes</td>\n",
       "      <td>20.45</td>\n",
       "      <td>1</td>\n",
       "      <td>14606</td>\n",
       "      <td>United Kingdom</td>\n",
       "    </tr>\n",
       "    <tr>\n",
       "      <th>536324</th>\n",
       "      <td>536597</td>\n",
       "      <td>2018-12-01</td>\n",
       "      <td>22220</td>\n",
       "      <td>Cake Stand Lovebird 2 Tier White</td>\n",
       "      <td>20.45</td>\n",
       "      <td>1</td>\n",
       "      <td>18011</td>\n",
       "      <td>United Kingdom</td>\n",
       "    </tr>\n",
       "  </tbody>\n",
       "</table>\n",
       "<p>522601 rows × 8 columns</p>\n",
       "</div>"
      ],
      "text/plain": [
       "        TransactionNo       Date ProductNo  \\\n",
       "0              581482 2019-12-09     22485   \n",
       "1              581475 2019-12-09     22596   \n",
       "2              581475 2019-12-09     23235   \n",
       "3              581475 2019-12-09     23272   \n",
       "4              581475 2019-12-09     23239   \n",
       "...               ...        ...       ...   \n",
       "536320         536585 2018-12-01     37449   \n",
       "536321         536590 2018-12-01     22776   \n",
       "536322         536590 2018-12-01     22622   \n",
       "536323         536591 2018-12-01     37449   \n",
       "536324         536597 2018-12-01     22220   \n",
       "\n",
       "                                ProductName  Price  Quantity  CustomerNo  \\\n",
       "0             Set Of 2 Wooden Market Crates  21.47        12       17490   \n",
       "1       Christmas Star Wish List Chalkboard  10.65        36       13069   \n",
       "2                  Storage Tin Vintage Leaf  11.53        12       13069   \n",
       "3         Tree T-Light Holder Willie Winkie  10.65        12       13069   \n",
       "4         Set Of 4 Knick Knack Tins Poppies  11.94         6       13069   \n",
       "...                                     ...    ...       ...         ...   \n",
       "536320   Ceramic Cake Stand + Hanging Cakes  20.45         2       17460   \n",
       "536321         Sweetheart 3 Tier Cake Stand  20.45         1       13065   \n",
       "536322       Box Of Vintage Alphabet Blocks  20.45         2       13065   \n",
       "536323   Ceramic Cake Stand + Hanging Cakes  20.45         1       14606   \n",
       "536324     Cake Stand Lovebird 2 Tier White  20.45         1       18011   \n",
       "\n",
       "               Country  \n",
       "0       United Kingdom  \n",
       "1       United Kingdom  \n",
       "2       United Kingdom  \n",
       "3       United Kingdom  \n",
       "4       United Kingdom  \n",
       "...                ...  \n",
       "536320  United Kingdom  \n",
       "536321  United Kingdom  \n",
       "536322  United Kingdom  \n",
       "536323  United Kingdom  \n",
       "536324  United Kingdom  \n",
       "\n",
       "[522601 rows x 8 columns]"
      ]
     },
     "execution_count": 135,
     "metadata": {},
     "output_type": "execute_result"
    }
   ],
   "source": [
    "# Changing the data type 'CustomerNo' and 'TransactionId' into integer\n",
    "df['CustomerNo'] = df['CustomerNo'].astype(int)\n",
    "df['TransactionNo'] = df['TransactionNo'].astype(int)\n",
    "df"
   ]
  },
  {
   "cell_type": "code",
   "execution_count": 136,
   "metadata": {},
   "outputs": [
    {
     "name": "stderr",
     "output_type": "stream",
     "text": [
      "C:\\Users\\Zarel\\AppData\\Local\\Temp\\ipykernel_15528\\3660806164.py:2: SettingWithCopyWarning:\n",
      "\n",
      "\n",
      "A value is trying to be set on a copy of a slice from a DataFrame.\n",
      "Try using .loc[row_indexer,col_indexer] = value instead\n",
      "\n",
      "See the caveats in the documentation: https://pandas.pydata.org/pandas-docs/stable/user_guide/indexing.html#returning-a-view-versus-a-copy\n",
      "\n"
     ]
    },
    {
     "data": {
      "text/html": [
       "<div>\n",
       "<style scoped>\n",
       "    .dataframe tbody tr th:only-of-type {\n",
       "        vertical-align: middle;\n",
       "    }\n",
       "\n",
       "    .dataframe tbody tr th {\n",
       "        vertical-align: top;\n",
       "    }\n",
       "\n",
       "    .dataframe thead th {\n",
       "        text-align: right;\n",
       "    }\n",
       "</style>\n",
       "<table border=\"1\" class=\"dataframe\">\n",
       "  <thead>\n",
       "    <tr style=\"text-align: right;\">\n",
       "      <th></th>\n",
       "      <th>TransactionNo</th>\n",
       "      <th>Date</th>\n",
       "      <th>ProductNo</th>\n",
       "      <th>ProductName</th>\n",
       "      <th>Price</th>\n",
       "      <th>Quantity</th>\n",
       "      <th>CustomerNo</th>\n",
       "      <th>Country</th>\n",
       "    </tr>\n",
       "  </thead>\n",
       "  <tbody>\n",
       "    <tr>\n",
       "      <th>0</th>\n",
       "      <td>581482</td>\n",
       "      <td>374</td>\n",
       "      <td>22485</td>\n",
       "      <td>Set Of 2 Wooden Market Crates</td>\n",
       "      <td>21.47</td>\n",
       "      <td>12</td>\n",
       "      <td>17490</td>\n",
       "      <td>United Kingdom</td>\n",
       "    </tr>\n",
       "    <tr>\n",
       "      <th>1</th>\n",
       "      <td>581475</td>\n",
       "      <td>374</td>\n",
       "      <td>22596</td>\n",
       "      <td>Christmas Star Wish List Chalkboard</td>\n",
       "      <td>10.65</td>\n",
       "      <td>36</td>\n",
       "      <td>13069</td>\n",
       "      <td>United Kingdom</td>\n",
       "    </tr>\n",
       "    <tr>\n",
       "      <th>2</th>\n",
       "      <td>581475</td>\n",
       "      <td>374</td>\n",
       "      <td>23235</td>\n",
       "      <td>Storage Tin Vintage Leaf</td>\n",
       "      <td>11.53</td>\n",
       "      <td>12</td>\n",
       "      <td>13069</td>\n",
       "      <td>United Kingdom</td>\n",
       "    </tr>\n",
       "    <tr>\n",
       "      <th>3</th>\n",
       "      <td>581475</td>\n",
       "      <td>374</td>\n",
       "      <td>23272</td>\n",
       "      <td>Tree T-Light Holder Willie Winkie</td>\n",
       "      <td>10.65</td>\n",
       "      <td>12</td>\n",
       "      <td>13069</td>\n",
       "      <td>United Kingdom</td>\n",
       "    </tr>\n",
       "    <tr>\n",
       "      <th>4</th>\n",
       "      <td>581475</td>\n",
       "      <td>374</td>\n",
       "      <td>23239</td>\n",
       "      <td>Set Of 4 Knick Knack Tins Poppies</td>\n",
       "      <td>11.94</td>\n",
       "      <td>6</td>\n",
       "      <td>13069</td>\n",
       "      <td>United Kingdom</td>\n",
       "    </tr>\n",
       "    <tr>\n",
       "      <th>...</th>\n",
       "      <td>...</td>\n",
       "      <td>...</td>\n",
       "      <td>...</td>\n",
       "      <td>...</td>\n",
       "      <td>...</td>\n",
       "      <td>...</td>\n",
       "      <td>...</td>\n",
       "      <td>...</td>\n",
       "    </tr>\n",
       "    <tr>\n",
       "      <th>536320</th>\n",
       "      <td>536585</td>\n",
       "      <td>1</td>\n",
       "      <td>37449</td>\n",
       "      <td>Ceramic Cake Stand + Hanging Cakes</td>\n",
       "      <td>20.45</td>\n",
       "      <td>2</td>\n",
       "      <td>17460</td>\n",
       "      <td>United Kingdom</td>\n",
       "    </tr>\n",
       "    <tr>\n",
       "      <th>536321</th>\n",
       "      <td>536590</td>\n",
       "      <td>1</td>\n",
       "      <td>22776</td>\n",
       "      <td>Sweetheart 3 Tier Cake Stand</td>\n",
       "      <td>20.45</td>\n",
       "      <td>1</td>\n",
       "      <td>13065</td>\n",
       "      <td>United Kingdom</td>\n",
       "    </tr>\n",
       "    <tr>\n",
       "      <th>536322</th>\n",
       "      <td>536590</td>\n",
       "      <td>1</td>\n",
       "      <td>22622</td>\n",
       "      <td>Box Of Vintage Alphabet Blocks</td>\n",
       "      <td>20.45</td>\n",
       "      <td>2</td>\n",
       "      <td>13065</td>\n",
       "      <td>United Kingdom</td>\n",
       "    </tr>\n",
       "    <tr>\n",
       "      <th>536323</th>\n",
       "      <td>536591</td>\n",
       "      <td>1</td>\n",
       "      <td>37449</td>\n",
       "      <td>Ceramic Cake Stand + Hanging Cakes</td>\n",
       "      <td>20.45</td>\n",
       "      <td>1</td>\n",
       "      <td>14606</td>\n",
       "      <td>United Kingdom</td>\n",
       "    </tr>\n",
       "    <tr>\n",
       "      <th>536324</th>\n",
       "      <td>536597</td>\n",
       "      <td>1</td>\n",
       "      <td>22220</td>\n",
       "      <td>Cake Stand Lovebird 2 Tier White</td>\n",
       "      <td>20.45</td>\n",
       "      <td>1</td>\n",
       "      <td>18011</td>\n",
       "      <td>United Kingdom</td>\n",
       "    </tr>\n",
       "  </tbody>\n",
       "</table>\n",
       "<p>522601 rows × 8 columns</p>\n",
       "</div>"
      ],
      "text/plain": [
       "        TransactionNo  Date ProductNo                          ProductName  \\\n",
       "0              581482   374     22485        Set Of 2 Wooden Market Crates   \n",
       "1              581475   374     22596  Christmas Star Wish List Chalkboard   \n",
       "2              581475   374     23235             Storage Tin Vintage Leaf   \n",
       "3              581475   374     23272    Tree T-Light Holder Willie Winkie   \n",
       "4              581475   374     23239    Set Of 4 Knick Knack Tins Poppies   \n",
       "...               ...   ...       ...                                  ...   \n",
       "536320         536585     1     37449   Ceramic Cake Stand + Hanging Cakes   \n",
       "536321         536590     1     22776         Sweetheart 3 Tier Cake Stand   \n",
       "536322         536590     1     22622       Box Of Vintage Alphabet Blocks   \n",
       "536323         536591     1     37449   Ceramic Cake Stand + Hanging Cakes   \n",
       "536324         536597     1     22220     Cake Stand Lovebird 2 Tier White   \n",
       "\n",
       "        Price  Quantity  CustomerNo         Country  \n",
       "0       21.47        12       17490  United Kingdom  \n",
       "1       10.65        36       13069  United Kingdom  \n",
       "2       11.53        12       13069  United Kingdom  \n",
       "3       10.65        12       13069  United Kingdom  \n",
       "4       11.94         6       13069  United Kingdom  \n",
       "...       ...       ...         ...             ...  \n",
       "536320  20.45         2       17460  United Kingdom  \n",
       "536321  20.45         1       13065  United Kingdom  \n",
       "536322  20.45         2       13065  United Kingdom  \n",
       "536323  20.45         1       14606  United Kingdom  \n",
       "536324  20.45         1       18011  United Kingdom  \n",
       "\n",
       "[522601 rows x 8 columns]"
      ]
     },
     "execution_count": 136,
     "metadata": {},
     "output_type": "execute_result"
    }
   ],
   "source": [
    "# Convert date to days\n",
    "df[\"Date\"] = (pd.to_datetime(df[\"Date\"]) - pd.to_datetime(\"2018-12-01\")).dt.days +1\n",
    "df"
   ]
  },
  {
   "cell_type": "code",
   "execution_count": 137,
   "metadata": {},
   "outputs": [
    {
     "data": {
      "text/html": [
       "<div>\n",
       "<style scoped>\n",
       "    .dataframe tbody tr th:only-of-type {\n",
       "        vertical-align: middle;\n",
       "    }\n",
       "\n",
       "    .dataframe tbody tr th {\n",
       "        vertical-align: top;\n",
       "    }\n",
       "\n",
       "    .dataframe thead th {\n",
       "        text-align: right;\n",
       "    }\n",
       "</style>\n",
       "<table border=\"1\" class=\"dataframe\">\n",
       "  <thead>\n",
       "    <tr style=\"text-align: right;\">\n",
       "      <th></th>\n",
       "      <th>TransactionNo</th>\n",
       "      <th>Date</th>\n",
       "      <th>ProductNo</th>\n",
       "      <th>ProductName</th>\n",
       "      <th>Price</th>\n",
       "      <th>Quantity</th>\n",
       "      <th>CustomerNo</th>\n",
       "      <th>Country</th>\n",
       "    </tr>\n",
       "  </thead>\n",
       "  <tbody>\n",
       "    <tr>\n",
       "      <th>536324</th>\n",
       "      <td>536597</td>\n",
       "      <td>1</td>\n",
       "      <td>22220</td>\n",
       "      <td>Cake Stand Lovebird 2 Tier White</td>\n",
       "      <td>20.45</td>\n",
       "      <td>1</td>\n",
       "      <td>18011</td>\n",
       "      <td>United Kingdom</td>\n",
       "    </tr>\n",
       "    <tr>\n",
       "      <th>534297</th>\n",
       "      <td>536523</td>\n",
       "      <td>1</td>\n",
       "      <td>22699</td>\n",
       "      <td>Roses Regency Teacup And Saucer</td>\n",
       "      <td>13.27</td>\n",
       "      <td>6</td>\n",
       "      <td>12868</td>\n",
       "      <td>United Kingdom</td>\n",
       "    </tr>\n",
       "    <tr>\n",
       "      <th>534296</th>\n",
       "      <td>536523</td>\n",
       "      <td>1</td>\n",
       "      <td>22969</td>\n",
       "      <td>Homemade Jam Scented Candles</td>\n",
       "      <td>11.74</td>\n",
       "      <td>12</td>\n",
       "      <td>12868</td>\n",
       "      <td>United Kingdom</td>\n",
       "    </tr>\n",
       "    <tr>\n",
       "      <th>534295</th>\n",
       "      <td>536523</td>\n",
       "      <td>1</td>\n",
       "      <td>21259</td>\n",
       "      <td>Victorian Sewing Box Small</td>\n",
       "      <td>16.35</td>\n",
       "      <td>2</td>\n",
       "      <td>12868</td>\n",
       "      <td>United Kingdom</td>\n",
       "    </tr>\n",
       "    <tr>\n",
       "      <th>534294</th>\n",
       "      <td>536523</td>\n",
       "      <td>1</td>\n",
       "      <td>21485</td>\n",
       "      <td>Retrospot Heart Hot Water Bottle</td>\n",
       "      <td>15.32</td>\n",
       "      <td>3</td>\n",
       "      <td>12868</td>\n",
       "      <td>United Kingdom</td>\n",
       "    </tr>\n",
       "    <tr>\n",
       "      <th>...</th>\n",
       "      <td>...</td>\n",
       "      <td>...</td>\n",
       "      <td>...</td>\n",
       "      <td>...</td>\n",
       "      <td>...</td>\n",
       "      <td>...</td>\n",
       "      <td>...</td>\n",
       "      <td>...</td>\n",
       "    </tr>\n",
       "    <tr>\n",
       "      <th>1079</th>\n",
       "      <td>581498</td>\n",
       "      <td>374</td>\n",
       "      <td>21935</td>\n",
       "      <td>Suki Shoulder Bag</td>\n",
       "      <td>6.19</td>\n",
       "      <td>7</td>\n",
       "      <td>14498</td>\n",
       "      <td>United Kingdom</td>\n",
       "    </tr>\n",
       "    <tr>\n",
       "      <th>1080</th>\n",
       "      <td>581498</td>\n",
       "      <td>374</td>\n",
       "      <td>21942</td>\n",
       "      <td>Skulls Design Flannel</td>\n",
       "      <td>6.19</td>\n",
       "      <td>1</td>\n",
       "      <td>14498</td>\n",
       "      <td>United Kingdom</td>\n",
       "    </tr>\n",
       "    <tr>\n",
       "      <th>1081</th>\n",
       "      <td>581498</td>\n",
       "      <td>374</td>\n",
       "      <td>21955</td>\n",
       "      <td>Doormat Union Jack Guns And Roses</td>\n",
       "      <td>6.19</td>\n",
       "      <td>1</td>\n",
       "      <td>14498</td>\n",
       "      <td>United Kingdom</td>\n",
       "    </tr>\n",
       "    <tr>\n",
       "      <th>1071</th>\n",
       "      <td>581498</td>\n",
       "      <td>374</td>\n",
       "      <td>21874</td>\n",
       "      <td>Gin And Tonic Mug</td>\n",
       "      <td>6.19</td>\n",
       "      <td>2</td>\n",
       "      <td>14498</td>\n",
       "      <td>United Kingdom</td>\n",
       "    </tr>\n",
       "    <tr>\n",
       "      <th>0</th>\n",
       "      <td>581482</td>\n",
       "      <td>374</td>\n",
       "      <td>22485</td>\n",
       "      <td>Set Of 2 Wooden Market Crates</td>\n",
       "      <td>21.47</td>\n",
       "      <td>12</td>\n",
       "      <td>17490</td>\n",
       "      <td>United Kingdom</td>\n",
       "    </tr>\n",
       "  </tbody>\n",
       "</table>\n",
       "<p>522601 rows × 8 columns</p>\n",
       "</div>"
      ],
      "text/plain": [
       "        TransactionNo  Date ProductNo                        ProductName  \\\n",
       "536324         536597     1     22220   Cake Stand Lovebird 2 Tier White   \n",
       "534297         536523     1     22699    Roses Regency Teacup And Saucer   \n",
       "534296         536523     1     22969       Homemade Jam Scented Candles   \n",
       "534295         536523     1     21259         Victorian Sewing Box Small   \n",
       "534294         536523     1     21485   Retrospot Heart Hot Water Bottle   \n",
       "...               ...   ...       ...                                ...   \n",
       "1079           581498   374     21935                  Suki Shoulder Bag   \n",
       "1080           581498   374     21942              Skulls Design Flannel   \n",
       "1081           581498   374     21955  Doormat Union Jack Guns And Roses   \n",
       "1071           581498   374     21874                  Gin And Tonic Mug   \n",
       "0              581482   374     22485      Set Of 2 Wooden Market Crates   \n",
       "\n",
       "        Price  Quantity  CustomerNo         Country  \n",
       "536324  20.45         1       18011  United Kingdom  \n",
       "534297  13.27         6       12868  United Kingdom  \n",
       "534296  11.74        12       12868  United Kingdom  \n",
       "534295  16.35         2       12868  United Kingdom  \n",
       "534294  15.32         3       12868  United Kingdom  \n",
       "...       ...       ...         ...             ...  \n",
       "1079     6.19         7       14498  United Kingdom  \n",
       "1080     6.19         1       14498  United Kingdom  \n",
       "1081     6.19         1       14498  United Kingdom  \n",
       "1071     6.19         2       14498  United Kingdom  \n",
       "0       21.47        12       17490  United Kingdom  \n",
       "\n",
       "[522601 rows x 8 columns]"
      ]
     },
     "execution_count": 137,
     "metadata": {},
     "output_type": "execute_result"
    }
   ],
   "source": [
    "df = df.dropna(axis=0)\n",
    "df = df.sort_values(by='Date')\n",
    "df"
   ]
  },
  {
   "cell_type": "code",
   "execution_count": 138,
   "metadata": {},
   "outputs": [
    {
     "data": {
      "application/vnd.plotly.v1+json": {
       "config": {
        "plotlyServerURL": "https://plot.ly"
       },
       "data": [
        {
         "alignmentgroup": "True",
         "hovertemplate": "ProductName=%{x}<br>Quantity=%{y}<extra></extra>",
         "legendgroup": "",
         "marker": {
          "color": "#636efa",
          "pattern": {
           "shape": ""
          }
         },
         "name": "",
         "offsetgroup": "",
         "orientation": "v",
         "showlegend": false,
         "textposition": "auto",
         "type": "bar",
         "x": [
          "Paper Craft Little Birdie",
          "Medium Ceramic Top Storage Jar",
          "Popcorn Holder",
          "World War 2 Gliders Asstd Designs",
          "Jumbo Bag Red Retrospot"
         ],
         "xaxis": "x",
         "y": [
          80995,
          78033,
          56902,
          54951,
          48375
         ],
         "yaxis": "y"
        }
       ],
       "layout": {
        "barmode": "relative",
        "legend": {
         "tracegroupgap": 0
        },
        "template": {
         "data": {
          "bar": [
           {
            "error_x": {
             "color": "#2a3f5f"
            },
            "error_y": {
             "color": "#2a3f5f"
            },
            "marker": {
             "line": {
              "color": "#E5ECF6",
              "width": 0.5
             },
             "pattern": {
              "fillmode": "overlay",
              "size": 10,
              "solidity": 0.2
             }
            },
            "type": "bar"
           }
          ],
          "barpolar": [
           {
            "marker": {
             "line": {
              "color": "#E5ECF6",
              "width": 0.5
             },
             "pattern": {
              "fillmode": "overlay",
              "size": 10,
              "solidity": 0.2
             }
            },
            "type": "barpolar"
           }
          ],
          "carpet": [
           {
            "aaxis": {
             "endlinecolor": "#2a3f5f",
             "gridcolor": "white",
             "linecolor": "white",
             "minorgridcolor": "white",
             "startlinecolor": "#2a3f5f"
            },
            "baxis": {
             "endlinecolor": "#2a3f5f",
             "gridcolor": "white",
             "linecolor": "white",
             "minorgridcolor": "white",
             "startlinecolor": "#2a3f5f"
            },
            "type": "carpet"
           }
          ],
          "choropleth": [
           {
            "colorbar": {
             "outlinewidth": 0,
             "ticks": ""
            },
            "type": "choropleth"
           }
          ],
          "contour": [
           {
            "colorbar": {
             "outlinewidth": 0,
             "ticks": ""
            },
            "colorscale": [
             [
              0,
              "#0d0887"
             ],
             [
              0.1111111111111111,
              "#46039f"
             ],
             [
              0.2222222222222222,
              "#7201a8"
             ],
             [
              0.3333333333333333,
              "#9c179e"
             ],
             [
              0.4444444444444444,
              "#bd3786"
             ],
             [
              0.5555555555555556,
              "#d8576b"
             ],
             [
              0.6666666666666666,
              "#ed7953"
             ],
             [
              0.7777777777777778,
              "#fb9f3a"
             ],
             [
              0.8888888888888888,
              "#fdca26"
             ],
             [
              1,
              "#f0f921"
             ]
            ],
            "type": "contour"
           }
          ],
          "contourcarpet": [
           {
            "colorbar": {
             "outlinewidth": 0,
             "ticks": ""
            },
            "type": "contourcarpet"
           }
          ],
          "heatmap": [
           {
            "colorbar": {
             "outlinewidth": 0,
             "ticks": ""
            },
            "colorscale": [
             [
              0,
              "#0d0887"
             ],
             [
              0.1111111111111111,
              "#46039f"
             ],
             [
              0.2222222222222222,
              "#7201a8"
             ],
             [
              0.3333333333333333,
              "#9c179e"
             ],
             [
              0.4444444444444444,
              "#bd3786"
             ],
             [
              0.5555555555555556,
              "#d8576b"
             ],
             [
              0.6666666666666666,
              "#ed7953"
             ],
             [
              0.7777777777777778,
              "#fb9f3a"
             ],
             [
              0.8888888888888888,
              "#fdca26"
             ],
             [
              1,
              "#f0f921"
             ]
            ],
            "type": "heatmap"
           }
          ],
          "heatmapgl": [
           {
            "colorbar": {
             "outlinewidth": 0,
             "ticks": ""
            },
            "colorscale": [
             [
              0,
              "#0d0887"
             ],
             [
              0.1111111111111111,
              "#46039f"
             ],
             [
              0.2222222222222222,
              "#7201a8"
             ],
             [
              0.3333333333333333,
              "#9c179e"
             ],
             [
              0.4444444444444444,
              "#bd3786"
             ],
             [
              0.5555555555555556,
              "#d8576b"
             ],
             [
              0.6666666666666666,
              "#ed7953"
             ],
             [
              0.7777777777777778,
              "#fb9f3a"
             ],
             [
              0.8888888888888888,
              "#fdca26"
             ],
             [
              1,
              "#f0f921"
             ]
            ],
            "type": "heatmapgl"
           }
          ],
          "histogram": [
           {
            "marker": {
             "pattern": {
              "fillmode": "overlay",
              "size": 10,
              "solidity": 0.2
             }
            },
            "type": "histogram"
           }
          ],
          "histogram2d": [
           {
            "colorbar": {
             "outlinewidth": 0,
             "ticks": ""
            },
            "colorscale": [
             [
              0,
              "#0d0887"
             ],
             [
              0.1111111111111111,
              "#46039f"
             ],
             [
              0.2222222222222222,
              "#7201a8"
             ],
             [
              0.3333333333333333,
              "#9c179e"
             ],
             [
              0.4444444444444444,
              "#bd3786"
             ],
             [
              0.5555555555555556,
              "#d8576b"
             ],
             [
              0.6666666666666666,
              "#ed7953"
             ],
             [
              0.7777777777777778,
              "#fb9f3a"
             ],
             [
              0.8888888888888888,
              "#fdca26"
             ],
             [
              1,
              "#f0f921"
             ]
            ],
            "type": "histogram2d"
           }
          ],
          "histogram2dcontour": [
           {
            "colorbar": {
             "outlinewidth": 0,
             "ticks": ""
            },
            "colorscale": [
             [
              0,
              "#0d0887"
             ],
             [
              0.1111111111111111,
              "#46039f"
             ],
             [
              0.2222222222222222,
              "#7201a8"
             ],
             [
              0.3333333333333333,
              "#9c179e"
             ],
             [
              0.4444444444444444,
              "#bd3786"
             ],
             [
              0.5555555555555556,
              "#d8576b"
             ],
             [
              0.6666666666666666,
              "#ed7953"
             ],
             [
              0.7777777777777778,
              "#fb9f3a"
             ],
             [
              0.8888888888888888,
              "#fdca26"
             ],
             [
              1,
              "#f0f921"
             ]
            ],
            "type": "histogram2dcontour"
           }
          ],
          "mesh3d": [
           {
            "colorbar": {
             "outlinewidth": 0,
             "ticks": ""
            },
            "type": "mesh3d"
           }
          ],
          "parcoords": [
           {
            "line": {
             "colorbar": {
              "outlinewidth": 0,
              "ticks": ""
             }
            },
            "type": "parcoords"
           }
          ],
          "pie": [
           {
            "automargin": true,
            "type": "pie"
           }
          ],
          "scatter": [
           {
            "fillpattern": {
             "fillmode": "overlay",
             "size": 10,
             "solidity": 0.2
            },
            "type": "scatter"
           }
          ],
          "scatter3d": [
           {
            "line": {
             "colorbar": {
              "outlinewidth": 0,
              "ticks": ""
             }
            },
            "marker": {
             "colorbar": {
              "outlinewidth": 0,
              "ticks": ""
             }
            },
            "type": "scatter3d"
           }
          ],
          "scattercarpet": [
           {
            "marker": {
             "colorbar": {
              "outlinewidth": 0,
              "ticks": ""
             }
            },
            "type": "scattercarpet"
           }
          ],
          "scattergeo": [
           {
            "marker": {
             "colorbar": {
              "outlinewidth": 0,
              "ticks": ""
             }
            },
            "type": "scattergeo"
           }
          ],
          "scattergl": [
           {
            "marker": {
             "colorbar": {
              "outlinewidth": 0,
              "ticks": ""
             }
            },
            "type": "scattergl"
           }
          ],
          "scattermapbox": [
           {
            "marker": {
             "colorbar": {
              "outlinewidth": 0,
              "ticks": ""
             }
            },
            "type": "scattermapbox"
           }
          ],
          "scatterpolar": [
           {
            "marker": {
             "colorbar": {
              "outlinewidth": 0,
              "ticks": ""
             }
            },
            "type": "scatterpolar"
           }
          ],
          "scatterpolargl": [
           {
            "marker": {
             "colorbar": {
              "outlinewidth": 0,
              "ticks": ""
             }
            },
            "type": "scatterpolargl"
           }
          ],
          "scatterternary": [
           {
            "marker": {
             "colorbar": {
              "outlinewidth": 0,
              "ticks": ""
             }
            },
            "type": "scatterternary"
           }
          ],
          "surface": [
           {
            "colorbar": {
             "outlinewidth": 0,
             "ticks": ""
            },
            "colorscale": [
             [
              0,
              "#0d0887"
             ],
             [
              0.1111111111111111,
              "#46039f"
             ],
             [
              0.2222222222222222,
              "#7201a8"
             ],
             [
              0.3333333333333333,
              "#9c179e"
             ],
             [
              0.4444444444444444,
              "#bd3786"
             ],
             [
              0.5555555555555556,
              "#d8576b"
             ],
             [
              0.6666666666666666,
              "#ed7953"
             ],
             [
              0.7777777777777778,
              "#fb9f3a"
             ],
             [
              0.8888888888888888,
              "#fdca26"
             ],
             [
              1,
              "#f0f921"
             ]
            ],
            "type": "surface"
           }
          ],
          "table": [
           {
            "cells": {
             "fill": {
              "color": "#EBF0F8"
             },
             "line": {
              "color": "white"
             }
            },
            "header": {
             "fill": {
              "color": "#C8D4E3"
             },
             "line": {
              "color": "white"
             }
            },
            "type": "table"
           }
          ]
         },
         "layout": {
          "annotationdefaults": {
           "arrowcolor": "#2a3f5f",
           "arrowhead": 0,
           "arrowwidth": 1
          },
          "autotypenumbers": "strict",
          "coloraxis": {
           "colorbar": {
            "outlinewidth": 0,
            "ticks": ""
           }
          },
          "colorscale": {
           "diverging": [
            [
             0,
             "#8e0152"
            ],
            [
             0.1,
             "#c51b7d"
            ],
            [
             0.2,
             "#de77ae"
            ],
            [
             0.3,
             "#f1b6da"
            ],
            [
             0.4,
             "#fde0ef"
            ],
            [
             0.5,
             "#f7f7f7"
            ],
            [
             0.6,
             "#e6f5d0"
            ],
            [
             0.7,
             "#b8e186"
            ],
            [
             0.8,
             "#7fbc41"
            ],
            [
             0.9,
             "#4d9221"
            ],
            [
             1,
             "#276419"
            ]
           ],
           "sequential": [
            [
             0,
             "#0d0887"
            ],
            [
             0.1111111111111111,
             "#46039f"
            ],
            [
             0.2222222222222222,
             "#7201a8"
            ],
            [
             0.3333333333333333,
             "#9c179e"
            ],
            [
             0.4444444444444444,
             "#bd3786"
            ],
            [
             0.5555555555555556,
             "#d8576b"
            ],
            [
             0.6666666666666666,
             "#ed7953"
            ],
            [
             0.7777777777777778,
             "#fb9f3a"
            ],
            [
             0.8888888888888888,
             "#fdca26"
            ],
            [
             1,
             "#f0f921"
            ]
           ],
           "sequentialminus": [
            [
             0,
             "#0d0887"
            ],
            [
             0.1111111111111111,
             "#46039f"
            ],
            [
             0.2222222222222222,
             "#7201a8"
            ],
            [
             0.3333333333333333,
             "#9c179e"
            ],
            [
             0.4444444444444444,
             "#bd3786"
            ],
            [
             0.5555555555555556,
             "#d8576b"
            ],
            [
             0.6666666666666666,
             "#ed7953"
            ],
            [
             0.7777777777777778,
             "#fb9f3a"
            ],
            [
             0.8888888888888888,
             "#fdca26"
            ],
            [
             1,
             "#f0f921"
            ]
           ]
          },
          "colorway": [
           "#636efa",
           "#EF553B",
           "#00cc96",
           "#ab63fa",
           "#FFA15A",
           "#19d3f3",
           "#FF6692",
           "#B6E880",
           "#FF97FF",
           "#FECB52"
          ],
          "font": {
           "color": "#2a3f5f"
          },
          "geo": {
           "bgcolor": "white",
           "lakecolor": "white",
           "landcolor": "#E5ECF6",
           "showlakes": true,
           "showland": true,
           "subunitcolor": "white"
          },
          "hoverlabel": {
           "align": "left"
          },
          "hovermode": "closest",
          "mapbox": {
           "style": "light"
          },
          "paper_bgcolor": "white",
          "plot_bgcolor": "#E5ECF6",
          "polar": {
           "angularaxis": {
            "gridcolor": "white",
            "linecolor": "white",
            "ticks": ""
           },
           "bgcolor": "#E5ECF6",
           "radialaxis": {
            "gridcolor": "white",
            "linecolor": "white",
            "ticks": ""
           }
          },
          "scene": {
           "xaxis": {
            "backgroundcolor": "#E5ECF6",
            "gridcolor": "white",
            "gridwidth": 2,
            "linecolor": "white",
            "showbackground": true,
            "ticks": "",
            "zerolinecolor": "white"
           },
           "yaxis": {
            "backgroundcolor": "#E5ECF6",
            "gridcolor": "white",
            "gridwidth": 2,
            "linecolor": "white",
            "showbackground": true,
            "ticks": "",
            "zerolinecolor": "white"
           },
           "zaxis": {
            "backgroundcolor": "#E5ECF6",
            "gridcolor": "white",
            "gridwidth": 2,
            "linecolor": "white",
            "showbackground": true,
            "ticks": "",
            "zerolinecolor": "white"
           }
          },
          "shapedefaults": {
           "line": {
            "color": "#2a3f5f"
           }
          },
          "ternary": {
           "aaxis": {
            "gridcolor": "white",
            "linecolor": "white",
            "ticks": ""
           },
           "baxis": {
            "gridcolor": "white",
            "linecolor": "white",
            "ticks": ""
           },
           "bgcolor": "#E5ECF6",
           "caxis": {
            "gridcolor": "white",
            "linecolor": "white",
            "ticks": ""
           }
          },
          "title": {
           "x": 0.05
          },
          "xaxis": {
           "automargin": true,
           "gridcolor": "white",
           "linecolor": "white",
           "ticks": "",
           "title": {
            "standoff": 15
           },
           "zerolinecolor": "white",
           "zerolinewidth": 2
          },
          "yaxis": {
           "automargin": true,
           "gridcolor": "white",
           "linecolor": "white",
           "ticks": "",
           "title": {
            "standoff": 15
           },
           "zerolinecolor": "white",
           "zerolinewidth": 2
          }
         }
        },
        "title": {
         "text": "Top Product Based on Quantity"
        },
        "xaxis": {
         "anchor": "y",
         "domain": [
          0,
          1
         ],
         "title": {
          "text": "Nama Produk"
         }
        },
        "yaxis": {
         "anchor": "x",
         "domain": [
          0,
          1
         ],
         "title": {
          "text": "Jumlah Terjual"
         }
        }
       }
      }
     },
     "metadata": {},
     "output_type": "display_data"
    }
   ],
   "source": [
    "# Grouping ProductName with Quantity\n",
    "top_contry = df.groupby(['Country'])['Quantity'].sum().reset_index()\n",
    "top_contry = top_contry.sort_values(by=['Quantity'], ascending = False)\n",
    "\n",
    "# Creating Diagram Bar to determine which country has top revenue\n",
    "fig = px.bar(top_contry.head(5), x='Country', y='Quantity', title='Top Country Based on Quantity')\n",
    "fig.update_xaxes(title='Nama Negara')\n",
    "fig.update_yaxes(title='Jumlah Terjual')\n",
    "fig.show()"
   ]
  },
  {
   "cell_type": "code",
   "execution_count": 139,
   "metadata": {},
   "outputs": [
    {
     "data": {
      "text/html": [
       "<div>\n",
       "<style scoped>\n",
       "    .dataframe tbody tr th:only-of-type {\n",
       "        vertical-align: middle;\n",
       "    }\n",
       "\n",
       "    .dataframe tbody tr th {\n",
       "        vertical-align: top;\n",
       "    }\n",
       "\n",
       "    .dataframe thead th {\n",
       "        text-align: right;\n",
       "    }\n",
       "</style>\n",
       "<table border=\"1\" class=\"dataframe\">\n",
       "  <thead>\n",
       "    <tr style=\"text-align: right;\">\n",
       "      <th></th>\n",
       "      <th>TransactionNo</th>\n",
       "      <th>Date</th>\n",
       "      <th>ProductNo</th>\n",
       "      <th>ProductName</th>\n",
       "      <th>Price</th>\n",
       "      <th>Quantity</th>\n",
       "      <th>CustomerNo</th>\n",
       "      <th>Country</th>\n",
       "    </tr>\n",
       "  </thead>\n",
       "  <tbody>\n",
       "    <tr>\n",
       "      <th>0</th>\n",
       "      <td>536597</td>\n",
       "      <td>1</td>\n",
       "      <td>22220</td>\n",
       "      <td>Cake Stand Lovebird 2 Tier White</td>\n",
       "      <td>20.45</td>\n",
       "      <td>1</td>\n",
       "      <td>18011</td>\n",
       "      <td>United Kingdom</td>\n",
       "    </tr>\n",
       "    <tr>\n",
       "      <th>1</th>\n",
       "      <td>536523</td>\n",
       "      <td>1</td>\n",
       "      <td>22699</td>\n",
       "      <td>Roses Regency Teacup And Saucer</td>\n",
       "      <td>13.27</td>\n",
       "      <td>6</td>\n",
       "      <td>12868</td>\n",
       "      <td>United Kingdom</td>\n",
       "    </tr>\n",
       "    <tr>\n",
       "      <th>2</th>\n",
       "      <td>536523</td>\n",
       "      <td>1</td>\n",
       "      <td>22969</td>\n",
       "      <td>Homemade Jam Scented Candles</td>\n",
       "      <td>11.74</td>\n",
       "      <td>12</td>\n",
       "      <td>12868</td>\n",
       "      <td>United Kingdom</td>\n",
       "    </tr>\n",
       "    <tr>\n",
       "      <th>3</th>\n",
       "      <td>536523</td>\n",
       "      <td>1</td>\n",
       "      <td>21259</td>\n",
       "      <td>Victorian Sewing Box Small</td>\n",
       "      <td>16.35</td>\n",
       "      <td>2</td>\n",
       "      <td>12868</td>\n",
       "      <td>United Kingdom</td>\n",
       "    </tr>\n",
       "    <tr>\n",
       "      <th>4</th>\n",
       "      <td>536523</td>\n",
       "      <td>1</td>\n",
       "      <td>21485</td>\n",
       "      <td>Retrospot Heart Hot Water Bottle</td>\n",
       "      <td>15.32</td>\n",
       "      <td>3</td>\n",
       "      <td>12868</td>\n",
       "      <td>United Kingdom</td>\n",
       "    </tr>\n",
       "    <tr>\n",
       "      <th>...</th>\n",
       "      <td>...</td>\n",
       "      <td>...</td>\n",
       "      <td>...</td>\n",
       "      <td>...</td>\n",
       "      <td>...</td>\n",
       "      <td>...</td>\n",
       "      <td>...</td>\n",
       "      <td>...</td>\n",
       "    </tr>\n",
       "    <tr>\n",
       "      <th>472711</th>\n",
       "      <td>581498</td>\n",
       "      <td>374</td>\n",
       "      <td>21935</td>\n",
       "      <td>Suki Shoulder Bag</td>\n",
       "      <td>6.19</td>\n",
       "      <td>7</td>\n",
       "      <td>14498</td>\n",
       "      <td>United Kingdom</td>\n",
       "    </tr>\n",
       "    <tr>\n",
       "      <th>472712</th>\n",
       "      <td>581498</td>\n",
       "      <td>374</td>\n",
       "      <td>21942</td>\n",
       "      <td>Skulls Design Flannel</td>\n",
       "      <td>6.19</td>\n",
       "      <td>1</td>\n",
       "      <td>14498</td>\n",
       "      <td>United Kingdom</td>\n",
       "    </tr>\n",
       "    <tr>\n",
       "      <th>472713</th>\n",
       "      <td>581498</td>\n",
       "      <td>374</td>\n",
       "      <td>21955</td>\n",
       "      <td>Doormat Union Jack Guns And Roses</td>\n",
       "      <td>6.19</td>\n",
       "      <td>1</td>\n",
       "      <td>14498</td>\n",
       "      <td>United Kingdom</td>\n",
       "    </tr>\n",
       "    <tr>\n",
       "      <th>472714</th>\n",
       "      <td>581498</td>\n",
       "      <td>374</td>\n",
       "      <td>21874</td>\n",
       "      <td>Gin And Tonic Mug</td>\n",
       "      <td>6.19</td>\n",
       "      <td>2</td>\n",
       "      <td>14498</td>\n",
       "      <td>United Kingdom</td>\n",
       "    </tr>\n",
       "    <tr>\n",
       "      <th>472715</th>\n",
       "      <td>581482</td>\n",
       "      <td>374</td>\n",
       "      <td>22485</td>\n",
       "      <td>Set Of 2 Wooden Market Crates</td>\n",
       "      <td>21.47</td>\n",
       "      <td>12</td>\n",
       "      <td>17490</td>\n",
       "      <td>United Kingdom</td>\n",
       "    </tr>\n",
       "  </tbody>\n",
       "</table>\n",
       "<p>472716 rows × 8 columns</p>\n",
       "</div>"
      ],
      "text/plain": [
       "        TransactionNo  Date ProductNo                        ProductName  \\\n",
       "0              536597     1     22220   Cake Stand Lovebird 2 Tier White   \n",
       "1              536523     1     22699    Roses Regency Teacup And Saucer   \n",
       "2              536523     1     22969       Homemade Jam Scented Candles   \n",
       "3              536523     1     21259         Victorian Sewing Box Small   \n",
       "4              536523     1     21485   Retrospot Heart Hot Water Bottle   \n",
       "...               ...   ...       ...                                ...   \n",
       "472711         581498   374     21935                  Suki Shoulder Bag   \n",
       "472712         581498   374     21942              Skulls Design Flannel   \n",
       "472713         581498   374     21955  Doormat Union Jack Guns And Roses   \n",
       "472714         581498   374     21874                  Gin And Tonic Mug   \n",
       "472715         581482   374     22485      Set Of 2 Wooden Market Crates   \n",
       "\n",
       "        Price  Quantity  CustomerNo         Country  \n",
       "0       20.45         1       18011  United Kingdom  \n",
       "1       13.27         6       12868  United Kingdom  \n",
       "2       11.74        12       12868  United Kingdom  \n",
       "3       16.35         2       12868  United Kingdom  \n",
       "4       15.32         3       12868  United Kingdom  \n",
       "...       ...       ...         ...             ...  \n",
       "472711   6.19         7       14498  United Kingdom  \n",
       "472712   6.19         1       14498  United Kingdom  \n",
       "472713   6.19         1       14498  United Kingdom  \n",
       "472714   6.19         2       14498  United Kingdom  \n",
       "472715  21.47        12       17490  United Kingdom  \n",
       "\n",
       "[472716 rows x 8 columns]"
      ]
     },
     "execution_count": 139,
     "metadata": {},
     "output_type": "execute_result"
    }
   ],
   "source": [
    "df_contry = df.loc[df['Country'] == 'United Kingdom'].reset_index(drop=True)\n",
    "df_contry"
   ]
  },
  {
   "cell_type": "code",
   "execution_count": 140,
   "metadata": {},
   "outputs": [
    {
     "data": {
      "application/vnd.plotly.v1+json": {
       "config": {
        "plotlyServerURL": "https://plot.ly"
       },
       "data": [
        {
         "alignmentgroup": "True",
         "hovertemplate": "ProductName=%{x}<br>Quantity=%{y}<extra></extra>",
         "legendgroup": "",
         "marker": {
          "color": "#636efa",
          "pattern": {
           "shape": ""
          }
         },
         "name": "",
         "offsetgroup": "",
         "orientation": "v",
         "showlegend": false,
         "textposition": "auto",
         "type": "bar",
         "x": [
          "Paper Craft Little Birdie",
          "Medium Ceramic Top Storage Jar",
          "Popcorn Holder",
          "World War 2 Gliders Asstd Designs",
          "Jumbo Bag Red Retrospot"
         ],
         "xaxis": "x",
         "y": [
          80995,
          77030,
          53217,
          49608,
          44105
         ],
         "yaxis": "y"
        }
       ],
       "layout": {
        "barmode": "relative",
        "legend": {
         "tracegroupgap": 0
        },
        "template": {
         "data": {
          "bar": [
           {
            "error_x": {
             "color": "#2a3f5f"
            },
            "error_y": {
             "color": "#2a3f5f"
            },
            "marker": {
             "line": {
              "color": "#E5ECF6",
              "width": 0.5
             },
             "pattern": {
              "fillmode": "overlay",
              "size": 10,
              "solidity": 0.2
             }
            },
            "type": "bar"
           }
          ],
          "barpolar": [
           {
            "marker": {
             "line": {
              "color": "#E5ECF6",
              "width": 0.5
             },
             "pattern": {
              "fillmode": "overlay",
              "size": 10,
              "solidity": 0.2
             }
            },
            "type": "barpolar"
           }
          ],
          "carpet": [
           {
            "aaxis": {
             "endlinecolor": "#2a3f5f",
             "gridcolor": "white",
             "linecolor": "white",
             "minorgridcolor": "white",
             "startlinecolor": "#2a3f5f"
            },
            "baxis": {
             "endlinecolor": "#2a3f5f",
             "gridcolor": "white",
             "linecolor": "white",
             "minorgridcolor": "white",
             "startlinecolor": "#2a3f5f"
            },
            "type": "carpet"
           }
          ],
          "choropleth": [
           {
            "colorbar": {
             "outlinewidth": 0,
             "ticks": ""
            },
            "type": "choropleth"
           }
          ],
          "contour": [
           {
            "colorbar": {
             "outlinewidth": 0,
             "ticks": ""
            },
            "colorscale": [
             [
              0,
              "#0d0887"
             ],
             [
              0.1111111111111111,
              "#46039f"
             ],
             [
              0.2222222222222222,
              "#7201a8"
             ],
             [
              0.3333333333333333,
              "#9c179e"
             ],
             [
              0.4444444444444444,
              "#bd3786"
             ],
             [
              0.5555555555555556,
              "#d8576b"
             ],
             [
              0.6666666666666666,
              "#ed7953"
             ],
             [
              0.7777777777777778,
              "#fb9f3a"
             ],
             [
              0.8888888888888888,
              "#fdca26"
             ],
             [
              1,
              "#f0f921"
             ]
            ],
            "type": "contour"
           }
          ],
          "contourcarpet": [
           {
            "colorbar": {
             "outlinewidth": 0,
             "ticks": ""
            },
            "type": "contourcarpet"
           }
          ],
          "heatmap": [
           {
            "colorbar": {
             "outlinewidth": 0,
             "ticks": ""
            },
            "colorscale": [
             [
              0,
              "#0d0887"
             ],
             [
              0.1111111111111111,
              "#46039f"
             ],
             [
              0.2222222222222222,
              "#7201a8"
             ],
             [
              0.3333333333333333,
              "#9c179e"
             ],
             [
              0.4444444444444444,
              "#bd3786"
             ],
             [
              0.5555555555555556,
              "#d8576b"
             ],
             [
              0.6666666666666666,
              "#ed7953"
             ],
             [
              0.7777777777777778,
              "#fb9f3a"
             ],
             [
              0.8888888888888888,
              "#fdca26"
             ],
             [
              1,
              "#f0f921"
             ]
            ],
            "type": "heatmap"
           }
          ],
          "heatmapgl": [
           {
            "colorbar": {
             "outlinewidth": 0,
             "ticks": ""
            },
            "colorscale": [
             [
              0,
              "#0d0887"
             ],
             [
              0.1111111111111111,
              "#46039f"
             ],
             [
              0.2222222222222222,
              "#7201a8"
             ],
             [
              0.3333333333333333,
              "#9c179e"
             ],
             [
              0.4444444444444444,
              "#bd3786"
             ],
             [
              0.5555555555555556,
              "#d8576b"
             ],
             [
              0.6666666666666666,
              "#ed7953"
             ],
             [
              0.7777777777777778,
              "#fb9f3a"
             ],
             [
              0.8888888888888888,
              "#fdca26"
             ],
             [
              1,
              "#f0f921"
             ]
            ],
            "type": "heatmapgl"
           }
          ],
          "histogram": [
           {
            "marker": {
             "pattern": {
              "fillmode": "overlay",
              "size": 10,
              "solidity": 0.2
             }
            },
            "type": "histogram"
           }
          ],
          "histogram2d": [
           {
            "colorbar": {
             "outlinewidth": 0,
             "ticks": ""
            },
            "colorscale": [
             [
              0,
              "#0d0887"
             ],
             [
              0.1111111111111111,
              "#46039f"
             ],
             [
              0.2222222222222222,
              "#7201a8"
             ],
             [
              0.3333333333333333,
              "#9c179e"
             ],
             [
              0.4444444444444444,
              "#bd3786"
             ],
             [
              0.5555555555555556,
              "#d8576b"
             ],
             [
              0.6666666666666666,
              "#ed7953"
             ],
             [
              0.7777777777777778,
              "#fb9f3a"
             ],
             [
              0.8888888888888888,
              "#fdca26"
             ],
             [
              1,
              "#f0f921"
             ]
            ],
            "type": "histogram2d"
           }
          ],
          "histogram2dcontour": [
           {
            "colorbar": {
             "outlinewidth": 0,
             "ticks": ""
            },
            "colorscale": [
             [
              0,
              "#0d0887"
             ],
             [
              0.1111111111111111,
              "#46039f"
             ],
             [
              0.2222222222222222,
              "#7201a8"
             ],
             [
              0.3333333333333333,
              "#9c179e"
             ],
             [
              0.4444444444444444,
              "#bd3786"
             ],
             [
              0.5555555555555556,
              "#d8576b"
             ],
             [
              0.6666666666666666,
              "#ed7953"
             ],
             [
              0.7777777777777778,
              "#fb9f3a"
             ],
             [
              0.8888888888888888,
              "#fdca26"
             ],
             [
              1,
              "#f0f921"
             ]
            ],
            "type": "histogram2dcontour"
           }
          ],
          "mesh3d": [
           {
            "colorbar": {
             "outlinewidth": 0,
             "ticks": ""
            },
            "type": "mesh3d"
           }
          ],
          "parcoords": [
           {
            "line": {
             "colorbar": {
              "outlinewidth": 0,
              "ticks": ""
             }
            },
            "type": "parcoords"
           }
          ],
          "pie": [
           {
            "automargin": true,
            "type": "pie"
           }
          ],
          "scatter": [
           {
            "fillpattern": {
             "fillmode": "overlay",
             "size": 10,
             "solidity": 0.2
            },
            "type": "scatter"
           }
          ],
          "scatter3d": [
           {
            "line": {
             "colorbar": {
              "outlinewidth": 0,
              "ticks": ""
             }
            },
            "marker": {
             "colorbar": {
              "outlinewidth": 0,
              "ticks": ""
             }
            },
            "type": "scatter3d"
           }
          ],
          "scattercarpet": [
           {
            "marker": {
             "colorbar": {
              "outlinewidth": 0,
              "ticks": ""
             }
            },
            "type": "scattercarpet"
           }
          ],
          "scattergeo": [
           {
            "marker": {
             "colorbar": {
              "outlinewidth": 0,
              "ticks": ""
             }
            },
            "type": "scattergeo"
           }
          ],
          "scattergl": [
           {
            "marker": {
             "colorbar": {
              "outlinewidth": 0,
              "ticks": ""
             }
            },
            "type": "scattergl"
           }
          ],
          "scattermapbox": [
           {
            "marker": {
             "colorbar": {
              "outlinewidth": 0,
              "ticks": ""
             }
            },
            "type": "scattermapbox"
           }
          ],
          "scatterpolar": [
           {
            "marker": {
             "colorbar": {
              "outlinewidth": 0,
              "ticks": ""
             }
            },
            "type": "scatterpolar"
           }
          ],
          "scatterpolargl": [
           {
            "marker": {
             "colorbar": {
              "outlinewidth": 0,
              "ticks": ""
             }
            },
            "type": "scatterpolargl"
           }
          ],
          "scatterternary": [
           {
            "marker": {
             "colorbar": {
              "outlinewidth": 0,
              "ticks": ""
             }
            },
            "type": "scatterternary"
           }
          ],
          "surface": [
           {
            "colorbar": {
             "outlinewidth": 0,
             "ticks": ""
            },
            "colorscale": [
             [
              0,
              "#0d0887"
             ],
             [
              0.1111111111111111,
              "#46039f"
             ],
             [
              0.2222222222222222,
              "#7201a8"
             ],
             [
              0.3333333333333333,
              "#9c179e"
             ],
             [
              0.4444444444444444,
              "#bd3786"
             ],
             [
              0.5555555555555556,
              "#d8576b"
             ],
             [
              0.6666666666666666,
              "#ed7953"
             ],
             [
              0.7777777777777778,
              "#fb9f3a"
             ],
             [
              0.8888888888888888,
              "#fdca26"
             ],
             [
              1,
              "#f0f921"
             ]
            ],
            "type": "surface"
           }
          ],
          "table": [
           {
            "cells": {
             "fill": {
              "color": "#EBF0F8"
             },
             "line": {
              "color": "white"
             }
            },
            "header": {
             "fill": {
              "color": "#C8D4E3"
             },
             "line": {
              "color": "white"
             }
            },
            "type": "table"
           }
          ]
         },
         "layout": {
          "annotationdefaults": {
           "arrowcolor": "#2a3f5f",
           "arrowhead": 0,
           "arrowwidth": 1
          },
          "autotypenumbers": "strict",
          "coloraxis": {
           "colorbar": {
            "outlinewidth": 0,
            "ticks": ""
           }
          },
          "colorscale": {
           "diverging": [
            [
             0,
             "#8e0152"
            ],
            [
             0.1,
             "#c51b7d"
            ],
            [
             0.2,
             "#de77ae"
            ],
            [
             0.3,
             "#f1b6da"
            ],
            [
             0.4,
             "#fde0ef"
            ],
            [
             0.5,
             "#f7f7f7"
            ],
            [
             0.6,
             "#e6f5d0"
            ],
            [
             0.7,
             "#b8e186"
            ],
            [
             0.8,
             "#7fbc41"
            ],
            [
             0.9,
             "#4d9221"
            ],
            [
             1,
             "#276419"
            ]
           ],
           "sequential": [
            [
             0,
             "#0d0887"
            ],
            [
             0.1111111111111111,
             "#46039f"
            ],
            [
             0.2222222222222222,
             "#7201a8"
            ],
            [
             0.3333333333333333,
             "#9c179e"
            ],
            [
             0.4444444444444444,
             "#bd3786"
            ],
            [
             0.5555555555555556,
             "#d8576b"
            ],
            [
             0.6666666666666666,
             "#ed7953"
            ],
            [
             0.7777777777777778,
             "#fb9f3a"
            ],
            [
             0.8888888888888888,
             "#fdca26"
            ],
            [
             1,
             "#f0f921"
            ]
           ],
           "sequentialminus": [
            [
             0,
             "#0d0887"
            ],
            [
             0.1111111111111111,
             "#46039f"
            ],
            [
             0.2222222222222222,
             "#7201a8"
            ],
            [
             0.3333333333333333,
             "#9c179e"
            ],
            [
             0.4444444444444444,
             "#bd3786"
            ],
            [
             0.5555555555555556,
             "#d8576b"
            ],
            [
             0.6666666666666666,
             "#ed7953"
            ],
            [
             0.7777777777777778,
             "#fb9f3a"
            ],
            [
             0.8888888888888888,
             "#fdca26"
            ],
            [
             1,
             "#f0f921"
            ]
           ]
          },
          "colorway": [
           "#636efa",
           "#EF553B",
           "#00cc96",
           "#ab63fa",
           "#FFA15A",
           "#19d3f3",
           "#FF6692",
           "#B6E880",
           "#FF97FF",
           "#FECB52"
          ],
          "font": {
           "color": "#2a3f5f"
          },
          "geo": {
           "bgcolor": "white",
           "lakecolor": "white",
           "landcolor": "#E5ECF6",
           "showlakes": true,
           "showland": true,
           "subunitcolor": "white"
          },
          "hoverlabel": {
           "align": "left"
          },
          "hovermode": "closest",
          "mapbox": {
           "style": "light"
          },
          "paper_bgcolor": "white",
          "plot_bgcolor": "#E5ECF6",
          "polar": {
           "angularaxis": {
            "gridcolor": "white",
            "linecolor": "white",
            "ticks": ""
           },
           "bgcolor": "#E5ECF6",
           "radialaxis": {
            "gridcolor": "white",
            "linecolor": "white",
            "ticks": ""
           }
          },
          "scene": {
           "xaxis": {
            "backgroundcolor": "#E5ECF6",
            "gridcolor": "white",
            "gridwidth": 2,
            "linecolor": "white",
            "showbackground": true,
            "ticks": "",
            "zerolinecolor": "white"
           },
           "yaxis": {
            "backgroundcolor": "#E5ECF6",
            "gridcolor": "white",
            "gridwidth": 2,
            "linecolor": "white",
            "showbackground": true,
            "ticks": "",
            "zerolinecolor": "white"
           },
           "zaxis": {
            "backgroundcolor": "#E5ECF6",
            "gridcolor": "white",
            "gridwidth": 2,
            "linecolor": "white",
            "showbackground": true,
            "ticks": "",
            "zerolinecolor": "white"
           }
          },
          "shapedefaults": {
           "line": {
            "color": "#2a3f5f"
           }
          },
          "ternary": {
           "aaxis": {
            "gridcolor": "white",
            "linecolor": "white",
            "ticks": ""
           },
           "baxis": {
            "gridcolor": "white",
            "linecolor": "white",
            "ticks": ""
           },
           "bgcolor": "#E5ECF6",
           "caxis": {
            "gridcolor": "white",
            "linecolor": "white",
            "ticks": ""
           }
          },
          "title": {
           "x": 0.05
          },
          "xaxis": {
           "automargin": true,
           "gridcolor": "white",
           "linecolor": "white",
           "ticks": "",
           "title": {
            "standoff": 15
           },
           "zerolinecolor": "white",
           "zerolinewidth": 2
          },
          "yaxis": {
           "automargin": true,
           "gridcolor": "white",
           "linecolor": "white",
           "ticks": "",
           "title": {
            "standoff": 15
           },
           "zerolinecolor": "white",
           "zerolinewidth": 2
          }
         }
        },
        "title": {
         "text": "Top Product Based on Quantity"
        },
        "xaxis": {
         "anchor": "y",
         "domain": [
          0,
          1
         ],
         "title": {
          "text": "Nama Produk"
         }
        },
        "yaxis": {
         "anchor": "x",
         "domain": [
          0,
          1
         ],
         "title": {
          "text": "Jumlah Terjual"
         }
        }
       }
      }
     },
     "metadata": {},
     "output_type": "display_data"
    }
   ],
   "source": [
    "# Grouping ProductName with Quantity\n",
    "top_product = df_contry.groupby(['ProductName'])['Quantity'].sum().reset_index()\n",
    "top_product = top_product.sort_values(by=['Quantity'], ascending = False)\n",
    "\n",
    "# Creating Diagram Bar to determine which country has top revenue\n",
    "fig = px.bar(top_product.head(5), x='ProductName', y='Quantity', title='Top Product Based on Quantity')\n",
    "fig.update_xaxes(title='Nama Produk')\n",
    "fig.update_yaxes(title='Jumlah Terjual')\n",
    "fig.show()"
   ]
  },
  {
   "cell_type": "code",
   "execution_count": 141,
   "metadata": {},
   "outputs": [
    {
     "data": {
      "text/html": [
       "<div>\n",
       "<style scoped>\n",
       "    .dataframe tbody tr th:only-of-type {\n",
       "        vertical-align: middle;\n",
       "    }\n",
       "\n",
       "    .dataframe tbody tr th {\n",
       "        vertical-align: top;\n",
       "    }\n",
       "\n",
       "    .dataframe thead th {\n",
       "        text-align: right;\n",
       "    }\n",
       "</style>\n",
       "<table border=\"1\" class=\"dataframe\">\n",
       "  <thead>\n",
       "    <tr style=\"text-align: right;\">\n",
       "      <th></th>\n",
       "      <th>TransactionNo</th>\n",
       "      <th>Date</th>\n",
       "      <th>ProductNo</th>\n",
       "      <th>ProductName</th>\n",
       "      <th>Price</th>\n",
       "      <th>Quantity</th>\n",
       "      <th>CustomerNo</th>\n",
       "      <th>Country</th>\n",
       "    </tr>\n",
       "  </thead>\n",
       "  <tbody>\n",
       "    <tr>\n",
       "      <th>0</th>\n",
       "      <td>536520</td>\n",
       "      <td>1</td>\n",
       "      <td>85123A</td>\n",
       "      <td>Cream Hanging Heart T-Light Holder</td>\n",
       "      <td>13.27</td>\n",
       "      <td>3</td>\n",
       "      <td>14729</td>\n",
       "      <td>United Kingdom</td>\n",
       "    </tr>\n",
       "    <tr>\n",
       "      <th>1</th>\n",
       "      <td>536502</td>\n",
       "      <td>1</td>\n",
       "      <td>85123A</td>\n",
       "      <td>Cream Hanging Heart T-Light Holder</td>\n",
       "      <td>13.27</td>\n",
       "      <td>6</td>\n",
       "      <td>16552</td>\n",
       "      <td>United Kingdom</td>\n",
       "    </tr>\n",
       "    <tr>\n",
       "      <th>2</th>\n",
       "      <td>536542</td>\n",
       "      <td>1</td>\n",
       "      <td>85123A</td>\n",
       "      <td>Cream Hanging Heart T-Light Holder</td>\n",
       "      <td>13.27</td>\n",
       "      <td>32</td>\n",
       "      <td>16456</td>\n",
       "      <td>United Kingdom</td>\n",
       "    </tr>\n",
       "    <tr>\n",
       "      <th>3</th>\n",
       "      <td>536394</td>\n",
       "      <td>1</td>\n",
       "      <td>85123A</td>\n",
       "      <td>Cream Hanging Heart T-Light Holder</td>\n",
       "      <td>12.86</td>\n",
       "      <td>32</td>\n",
       "      <td>13408</td>\n",
       "      <td>United Kingdom</td>\n",
       "    </tr>\n",
       "    <tr>\n",
       "      <th>4</th>\n",
       "      <td>536396</td>\n",
       "      <td>1</td>\n",
       "      <td>85123A</td>\n",
       "      <td>Cream Hanging Heart T-Light Holder</td>\n",
       "      <td>12.86</td>\n",
       "      <td>6</td>\n",
       "      <td>17850</td>\n",
       "      <td>United Kingdom</td>\n",
       "    </tr>\n",
       "    <tr>\n",
       "      <th>...</th>\n",
       "      <td>...</td>\n",
       "      <td>...</td>\n",
       "      <td>...</td>\n",
       "      <td>...</td>\n",
       "      <td>...</td>\n",
       "      <td>...</td>\n",
       "      <td>...</td>\n",
       "      <td>...</td>\n",
       "    </tr>\n",
       "    <tr>\n",
       "      <th>2215</th>\n",
       "      <td>581356</td>\n",
       "      <td>373</td>\n",
       "      <td>85123A</td>\n",
       "      <td>Cream Hanging Heart T-Light Holder</td>\n",
       "      <td>6.19</td>\n",
       "      <td>6</td>\n",
       "      <td>17830</td>\n",
       "      <td>United Kingdom</td>\n",
       "    </tr>\n",
       "    <tr>\n",
       "      <th>2216</th>\n",
       "      <td>581395</td>\n",
       "      <td>373</td>\n",
       "      <td>85123A</td>\n",
       "      <td>Cream Hanging Heart T-Light Holder</td>\n",
       "      <td>7.24</td>\n",
       "      <td>6</td>\n",
       "      <td>16892</td>\n",
       "      <td>United Kingdom</td>\n",
       "    </tr>\n",
       "    <tr>\n",
       "      <th>2217</th>\n",
       "      <td>581412</td>\n",
       "      <td>373</td>\n",
       "      <td>85123A</td>\n",
       "      <td>Cream Hanging Heart T-Light Holder</td>\n",
       "      <td>6.19</td>\n",
       "      <td>4</td>\n",
       "      <td>14415</td>\n",
       "      <td>United Kingdom</td>\n",
       "    </tr>\n",
       "    <tr>\n",
       "      <th>2218</th>\n",
       "      <td>581492</td>\n",
       "      <td>374</td>\n",
       "      <td>85123A</td>\n",
       "      <td>Cream Hanging Heart T-Light Holder</td>\n",
       "      <td>6.19</td>\n",
       "      <td>3</td>\n",
       "      <td>15492</td>\n",
       "      <td>United Kingdom</td>\n",
       "    </tr>\n",
       "    <tr>\n",
       "      <th>2219</th>\n",
       "      <td>581538</td>\n",
       "      <td>374</td>\n",
       "      <td>85123A</td>\n",
       "      <td>Cream Hanging Heart T-Light Holder</td>\n",
       "      <td>6.19</td>\n",
       "      <td>1</td>\n",
       "      <td>14446</td>\n",
       "      <td>United Kingdom</td>\n",
       "    </tr>\n",
       "  </tbody>\n",
       "</table>\n",
       "<p>2220 rows × 8 columns</p>\n",
       "</div>"
      ],
      "text/plain": [
       "      TransactionNo  Date ProductNo                         ProductName  \\\n",
       "0            536520     1    85123A  Cream Hanging Heart T-Light Holder   \n",
       "1            536502     1    85123A  Cream Hanging Heart T-Light Holder   \n",
       "2            536542     1    85123A  Cream Hanging Heart T-Light Holder   \n",
       "3            536394     1    85123A  Cream Hanging Heart T-Light Holder   \n",
       "4            536396     1    85123A  Cream Hanging Heart T-Light Holder   \n",
       "...             ...   ...       ...                                 ...   \n",
       "2215         581356   373    85123A  Cream Hanging Heart T-Light Holder   \n",
       "2216         581395   373    85123A  Cream Hanging Heart T-Light Holder   \n",
       "2217         581412   373    85123A  Cream Hanging Heart T-Light Holder   \n",
       "2218         581492   374    85123A  Cream Hanging Heart T-Light Holder   \n",
       "2219         581538   374    85123A  Cream Hanging Heart T-Light Holder   \n",
       "\n",
       "      Price  Quantity  CustomerNo         Country  \n",
       "0     13.27         3       14729  United Kingdom  \n",
       "1     13.27         6       16552  United Kingdom  \n",
       "2     13.27        32       16456  United Kingdom  \n",
       "3     12.86        32       13408  United Kingdom  \n",
       "4     12.86         6       17850  United Kingdom  \n",
       "...     ...       ...         ...             ...  \n",
       "2215   6.19         6       17830  United Kingdom  \n",
       "2216   7.24         6       16892  United Kingdom  \n",
       "2217   6.19         4       14415  United Kingdom  \n",
       "2218   6.19         3       15492  United Kingdom  \n",
       "2219   6.19         1       14446  United Kingdom  \n",
       "\n",
       "[2220 rows x 8 columns]"
      ]
     },
     "execution_count": 141,
     "metadata": {},
     "output_type": "execute_result"
    }
   ],
   "source": [
    "df_prod = df_contry.loc[df_contry[\"ProductName\"] == \"Cream Hanging Heart T-Light Holder\"].reset_index(drop=True)\n",
    "df_prod"
   ]
  },
  {
   "cell_type": "code",
   "execution_count": 142,
   "metadata": {},
   "outputs": [
    {
     "data": {
      "text/html": [
       "<div>\n",
       "<style scoped>\n",
       "    .dataframe tbody tr th:only-of-type {\n",
       "        vertical-align: middle;\n",
       "    }\n",
       "\n",
       "    .dataframe tbody tr th {\n",
       "        vertical-align: top;\n",
       "    }\n",
       "\n",
       "    .dataframe thead th {\n",
       "        text-align: right;\n",
       "    }\n",
       "</style>\n",
       "<table border=\"1\" class=\"dataframe\">\n",
       "  <thead>\n",
       "    <tr style=\"text-align: right;\">\n",
       "      <th></th>\n",
       "      <th>Date</th>\n",
       "      <th>Quantity</th>\n",
       "    </tr>\n",
       "  </thead>\n",
       "  <tbody>\n",
       "    <tr>\n",
       "      <th>0</th>\n",
       "      <td>1</td>\n",
       "      <td>454</td>\n",
       "    </tr>\n",
       "    <tr>\n",
       "      <th>1</th>\n",
       "      <td>2</td>\n",
       "      <td>309</td>\n",
       "    </tr>\n",
       "    <tr>\n",
       "      <th>2</th>\n",
       "      <td>3</td>\n",
       "      <td>55</td>\n",
       "    </tr>\n",
       "    <tr>\n",
       "      <th>3</th>\n",
       "      <td>5</td>\n",
       "      <td>198</td>\n",
       "    </tr>\n",
       "    <tr>\n",
       "      <th>4</th>\n",
       "      <td>6</td>\n",
       "      <td>161</td>\n",
       "    </tr>\n",
       "    <tr>\n",
       "      <th>...</th>\n",
       "      <td>...</td>\n",
       "      <td>...</td>\n",
       "    </tr>\n",
       "    <tr>\n",
       "      <th>300</th>\n",
       "      <td>370</td>\n",
       "      <td>249</td>\n",
       "    </tr>\n",
       "    <tr>\n",
       "      <th>301</th>\n",
       "      <td>371</td>\n",
       "      <td>21</td>\n",
       "    </tr>\n",
       "    <tr>\n",
       "      <th>302</th>\n",
       "      <td>372</td>\n",
       "      <td>177</td>\n",
       "    </tr>\n",
       "    <tr>\n",
       "      <th>303</th>\n",
       "      <td>373</td>\n",
       "      <td>115</td>\n",
       "    </tr>\n",
       "    <tr>\n",
       "      <th>304</th>\n",
       "      <td>374</td>\n",
       "      <td>4</td>\n",
       "    </tr>\n",
       "  </tbody>\n",
       "</table>\n",
       "<p>305 rows × 2 columns</p>\n",
       "</div>"
      ],
      "text/plain": [
       "     Date  Quantity\n",
       "0       1       454\n",
       "1       2       309\n",
       "2       3        55\n",
       "3       5       198\n",
       "4       6       161\n",
       "..    ...       ...\n",
       "300   370       249\n",
       "301   371        21\n",
       "302   372       177\n",
       "303   373       115\n",
       "304   374         4\n",
       "\n",
       "[305 rows x 2 columns]"
      ]
     },
     "execution_count": 142,
     "metadata": {},
     "output_type": "execute_result"
    }
   ],
   "source": [
    "dayly_out = df_prod.groupby([\"Date\"])['Quantity'].sum().reset_index()\n",
    "dayly_out"
   ]
  },
  {
   "cell_type": "code",
   "execution_count": 143,
   "metadata": {},
   "outputs": [],
   "source": [
    "# Create the features and target variables\n",
    "X = dayly_out[[\"Date\"]]\n",
    "y = dayly_out[\"Quantity\"]"
   ]
  },
  {
   "cell_type": "code",
   "execution_count": 144,
   "metadata": {},
   "outputs": [
    {
     "name": "stdout",
     "output_type": "stream",
     "text": [
      "Nilai MSE: 57424.1223879878\n",
      "Nilai RMSE: 239.63330817728115\n",
      "Nilai Quantity untuk hari ke-400: 135.5389565974713\n"
     ]
    },
    {
     "name": "stderr",
     "output_type": "stream",
     "text": [
      "d:\\an-online-shop-business\\env\\lib\\site-packages\\sklearn\\base.py:465: UserWarning:\n",
      "\n",
      "X does not have valid feature names, but LinearRegression was fitted with feature names\n",
      "\n"
     ]
    }
   ],
   "source": [
    "model = LinearRegression()\n",
    "\n",
    "# Lakukan fitting model ke data\n",
    "model.fit(X, y)\n",
    "\n",
    "y_pred = model.predict(X)\n",
    "\n",
    "# Hitung MSE\n",
    "mse = np.mean((y - y_pred) ** 2)\n",
    "\n",
    "# Hitung RMSE\n",
    "rmse = np.sqrt(mse)\n",
    "\n",
    "quantity = model.predict([[100]])[0]\n",
    "\n",
    "print(\"Nilai MSE:\", mse)\n",
    "print(\"Nilai RMSE:\", rmse)\n",
    "print(\"Nilai Quantity untuk hari ke-400:\", quantity)"
   ]
  },
  {
   "cell_type": "code",
   "execution_count": 145,
   "metadata": {},
   "outputs": [],
   "source": [
    "\n",
    "# X = dayly_out.Quantity.values.reshape(-1, 1)\n",
    "# # Create the model\n",
    "# model = LinearRegression()\n",
    "\n",
    "# # Fit the model to the data\n",
    "# model.fit(X, y)\n",
    "\n",
    "# # Combine the prediction data with the original dataset\n",
    "# # dayly_out = dayly_out.concat(prediction_data)\n",
    "# # dayly_out = pd.append([dayly_out, prediction_data[[\"Date\"]]], ignore_index=True)\n",
    "# # dayly_out = dayly_out.append(prediction_data[[\"Date\"]], ignore_index=True)\n",
    "# # dayly_out\n",
    "\n",
    "# # Evaluasi model dengan menggunakan nilai koefisien determinasi (R^2)\n",
    "# # r2 = model.score(X, y)\n",
    "\n",
    "# # print(\"Nilai koefisien determinasi (R^2):\", r2)\n",
    "# x_range = np.linspace(X.min(), X.max(), 100)\n",
    "# y_range = model.predict(x_range.reshape(-1, 1))\n",
    "\n",
    "# fig = px.scatter(dayly_out, x='Date', y='Quantity', opacity=0.65)\n",
    "# fig.add_traces(go.Scatter(x=x_range, y=y_range, name='Regression Fit'))\n",
    "# fig.show()\n",
    "\n",
    "# # quantity = model.predict(400)[0]\n",
    "# # print(\"Nilai Quantity untuk tanggal 2023-11-11:\", quantity)\n",
    "\n",
    "# # Fit the model to the combined data\n",
    "# # model.fit(dayly_out[[\"Quantity\"]], dayly_out[\"Date\"])\n",
    "\n",
    "# # # Make predictions for the prediction data\n",
    "# # y_pred = model.predict(prediction_data[[\"Date\"]])\n",
    "\n",
    "# # # Print the prediction results\n",
    "# # print(y_pred)"
   ]
  }
 ],
 "metadata": {
  "kernelspec": {
   "display_name": "env",
   "language": "python",
   "name": "python3"
  },
  "language_info": {
   "codemirror_mode": {
    "name": "ipython",
    "version": 3
   },
   "file_extension": ".py",
   "mimetype": "text/x-python",
   "name": "python",
   "nbconvert_exporter": "python",
   "pygments_lexer": "ipython3",
   "version": "3.9.0"
  }
 },
 "nbformat": 4,
 "nbformat_minor": 2
}
