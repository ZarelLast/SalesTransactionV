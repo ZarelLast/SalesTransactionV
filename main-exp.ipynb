{
  "cells": [
    {
      "cell_type": "markdown",
      "id": "f1861ffa",
      "metadata": {},
      "source": [
        "# Install Libraries"
      ]
    },
    {
      "cell_type": "code",
      "execution_count": 1,
      "id": "62d51782",
      "metadata": {},
      "outputs": [
        {
          "name": "stdout",
          "output_type": "stream",
          "text": [
            "Requirement already satisfied: scikit-learn in .\\env\\lib\\site-packages (1.3.2)\n",
            "Requirement already satisfied: numpy<2.0,>=1.17.3 in .\\env\\lib\\site-packages (from scikit-learn) (1.26.1)\n",
            "Requirement already satisfied: threadpoolctl>=2.0.0 in .\\env\\lib\\site-packages (from scikit-learn) (3.2.0)\n",
            "Requirement already satisfied: scipy>=1.5.0 in .\\env\\lib\\site-packages (from scikit-learn) (1.11.3)\n",
            "Requirement already satisfied: joblib>=1.1.1 in .\\env\\lib\\site-packages (from scikit-learn) (1.3.2)\n",
            "Note: you may need to restart the kernel to use updated packages.\n"
          ]
        },
        {
          "name": "stderr",
          "output_type": "stream",
          "text": [
            "WARNING: You are using pip version 20.2.3; however, version 23.3.1 is available.\n",
            "You should consider upgrading via the 'd:\\an-online-shop-business\\env\\Scripts\\python.exe -m pip install --upgrade pip' command.\n"
          ]
        },
        {
          "name": "stdout",
          "output_type": "stream",
          "text": [
            "Requirement already satisfied: pandas in .\\env\\lib\\site-packages (2.1.1)\n",
            "Requirement already satisfied: numpy>=1.22.4; python_version < \"3.11\" in .\\env\\lib\\site-packages (from pandas) (1.26.1)\n",
            "Requirement already satisfied: python-dateutil>=2.8.2 in .\\env\\lib\\site-packages (from pandas) (2.8.2)\n",
            "Requirement already satisfied: pytz>=2020.1 in .\\env\\lib\\site-packages (from pandas) (2023.3.post1)\n",
            "Requirement already satisfied: tzdata>=2022.1 in .\\env\\lib\\site-packages (from pandas) (2023.3)\n",
            "Requirement already satisfied: six>=1.5 in .\\env\\lib\\site-packages (from python-dateutil>=2.8.2->pandas) (1.16.0)\n",
            "Note: you may need to restart the kernel to use updated packages.\n"
          ]
        },
        {
          "name": "stderr",
          "output_type": "stream",
          "text": [
            "WARNING: You are using pip version 20.2.3; however, version 23.3.1 is available.\n",
            "You should consider upgrading via the 'd:\\an-online-shop-business\\env\\Scripts\\python.exe -m pip install --upgrade pip' command.\n"
          ]
        },
        {
          "name": "stdout",
          "output_type": "stream",
          "text": [
            "Requirement already satisfied: matplotlib in .\\env\\lib\\site-packages (3.8.0)\n",
            "Requirement already satisfied: kiwisolver>=1.0.1 in .\\env\\lib\\site-packages (from matplotlib) (1.4.5)\n",
            "Requirement already satisfied: python-dateutil>=2.7 in .\\env\\lib\\site-packages (from matplotlib) (2.8.2)\n",
            "Requirement already satisfied: cycler>=0.10 in .\\env\\lib\\site-packages (from matplotlib) (0.12.1)\n",
            "Requirement already satisfied: fonttools>=4.22.0 in .\\env\\lib\\site-packages (from matplotlib) (4.43.1)\n",
            "Requirement already satisfied: contourpy>=1.0.1 in .\\env\\lib\\site-packages (from matplotlib) (1.1.1)\n",
            "Requirement already satisfied: numpy<2,>=1.21 in .\\env\\lib\\site-packages (from matplotlib) (1.26.1)\n",
            "Requirement already satisfied: importlib-resources>=3.2.0; python_version < \"3.10\" in .\\env\\lib\\site-packages (from matplotlib) (6.1.0)\n",
            "Requirement already satisfied: pillow>=6.2.0 in .\\env\\lib\\site-packages (from matplotlib) (10.1.0)\n",
            "Requirement already satisfied: pyparsing>=2.3.1 in .\\env\\lib\\site-packages (from matplotlib) (3.1.1)\n",
            "Requirement already satisfied: packaging>=20.0 in .\\env\\lib\\site-packages (from matplotlib) (23.2)\n",
            "Requirement already satisfied: six>=1.5 in .\\env\\lib\\site-packages (from python-dateutil>=2.7->matplotlib) (1.16.0)\n",
            "Requirement already satisfied: zipp>=3.1.0; python_version < \"3.10\" in .\\env\\lib\\site-packages (from importlib-resources>=3.2.0; python_version < \"3.10\"->matplotlib) (3.17.0)\n",
            "Note: you may need to restart the kernel to use updated packages.\n"
          ]
        },
        {
          "name": "stderr",
          "output_type": "stream",
          "text": [
            "WARNING: You are using pip version 20.2.3; however, version 23.3.1 is available.\n",
            "You should consider upgrading via the 'd:\\an-online-shop-business\\env\\Scripts\\python.exe -m pip install --upgrade pip' command.\n"
          ]
        },
        {
          "name": "stdout",
          "output_type": "stream",
          "text": [
            "Requirement already satisfied: seaborn in .\\env\\lib\\site-packages (0.13.0)\n",
            "Requirement already satisfied: pandas>=1.2 in .\\env\\lib\\site-packages (from seaborn) (2.1.1)\n",
            "Requirement already satisfied: numpy!=1.24.0,>=1.20 in .\\env\\lib\\site-packages (from seaborn) (1.26.1)\n",
            "Requirement already satisfied: matplotlib!=3.6.1,>=3.3 in .\\env\\lib\\site-packages (from seaborn) (3.8.0)\n",
            "Requirement already satisfied: pytz>=2020.1 in .\\env\\lib\\site-packages (from pandas>=1.2->seaborn) (2023.3.post1)\n",
            "Requirement already satisfied: python-dateutil>=2.8.2 in .\\env\\lib\\site-packages (from pandas>=1.2->seaborn) (2.8.2)\n",
            "Requirement already satisfied: tzdata>=2022.1 in .\\env\\lib\\site-packages (from pandas>=1.2->seaborn) (2023.3)\n",
            "Requirement already satisfied: cycler>=0.10 in .\\env\\lib\\site-packages (from matplotlib!=3.6.1,>=3.3->seaborn) (0.12.1)\n",
            "Requirement already satisfied: contourpy>=1.0.1 in .\\env\\lib\\site-packages (from matplotlib!=3.6.1,>=3.3->seaborn) (1.1.1)\n",
            "Requirement already satisfied: pyparsing>=2.3.1 in .\\env\\lib\\site-packages (from matplotlib!=3.6.1,>=3.3->seaborn) (3.1.1)\n",
            "Requirement already satisfied: fonttools>=4.22.0 in .\\env\\lib\\site-packages (from matplotlib!=3.6.1,>=3.3->seaborn) (4.43.1)\n",
            "Requirement already satisfied: importlib-resources>=3.2.0; python_version < \"3.10\" in .\\env\\lib\\site-packages (from matplotlib!=3.6.1,>=3.3->seaborn) (6.1.0)\n",
            "Requirement already satisfied: kiwisolver>=1.0.1 in .\\env\\lib\\site-packages (from matplotlib!=3.6.1,>=3.3->seaborn) (1.4.5)\n",
            "Requirement already satisfied: pillow>=6.2.0 in .\\env\\lib\\site-packages (from matplotlib!=3.6.1,>=3.3->seaborn) (10.1.0)\n",
            "Requirement already satisfied: packaging>=20.0 in .\\env\\lib\\site-packages (from matplotlib!=3.6.1,>=3.3->seaborn) (23.2)\n",
            "Requirement already satisfied: six>=1.5 in .\\env\\lib\\site-packages (from python-dateutil>=2.8.2->pandas>=1.2->seaborn) (1.16.0)\n",
            "Requirement already satisfied: zipp>=3.1.0; python_version < \"3.10\" in .\\env\\lib\\site-packages (from importlib-resources>=3.2.0; python_version < \"3.10\"->matplotlib!=3.6.1,>=3.3->seaborn) (3.17.0)\n",
            "Note: you may need to restart the kernel to use updated packages.\n"
          ]
        },
        {
          "name": "stderr",
          "output_type": "stream",
          "text": [
            "WARNING: You are using pip version 20.2.3; however, version 23.3.1 is available.\n",
            "You should consider upgrading via the 'd:\\an-online-shop-business\\env\\Scripts\\python.exe -m pip install --upgrade pip' command.\n"
          ]
        },
        {
          "name": "stdout",
          "output_type": "stream",
          "text": [
            "Requirement already satisfied: plotly in .\\env\\lib\\site-packages (5.17.0)\n",
            "Requirement already satisfied: packaging in .\\env\\lib\\site-packages (from plotly) (23.2)\n",
            "Requirement already satisfied: tenacity>=6.2.0 in .\\env\\lib\\site-packages (from plotly) (8.2.3)\n",
            "Note: you may need to restart the kernel to use updated packages.\n"
          ]
        },
        {
          "name": "stderr",
          "output_type": "stream",
          "text": [
            "WARNING: You are using pip version 20.2.3; however, version 23.3.1 is available.\n",
            "You should consider upgrading via the 'd:\\an-online-shop-business\\env\\Scripts\\python.exe -m pip install --upgrade pip' command.\n"
          ]
        },
        {
          "name": "stdout",
          "output_type": "stream",
          "text": [
            "Requirement already up-to-date: nbformat in .\\env\\lib\\site-packages (5.9.2)\n",
            "Requirement already satisfied, skipping upgrade: jupyter-core in .\\env\\lib\\site-packages (from nbformat) (5.4.0)\n",
            "Requirement already satisfied, skipping upgrade: traitlets>=5.1 in .\\env\\lib\\site-packages (from nbformat) (5.12.0)\n",
            "Requirement already satisfied, skipping upgrade: fastjsonschema in .\\env\\lib\\site-packages (from nbformat) (2.18.1)\n",
            "Requirement already satisfied, skipping upgrade: jsonschema>=2.6 in .\\env\\lib\\site-packages (from nbformat) (4.19.1)\n",
            "Requirement already satisfied, skipping upgrade: platformdirs>=2.5 in .\\env\\lib\\site-packages (from jupyter-core->nbformat) (3.11.0)\n",
            "Requirement already satisfied, skipping upgrade: pywin32>=300; sys_platform == \"win32\" and platform_python_implementation != \"PyPy\" in .\\env\\lib\\site-packages (from jupyter-core->nbformat) (306)\n",
            "Requirement already satisfied, skipping upgrade: referencing>=0.28.4 in .\\env\\lib\\site-packages (from jsonschema>=2.6->nbformat) (0.30.2)\n",
            "Requirement already satisfied, skipping upgrade: attrs>=22.2.0 in .\\env\\lib\\site-packages (from jsonschema>=2.6->nbformat) (23.1.0)\n",
            "Requirement already satisfied, skipping upgrade: rpds-py>=0.7.1 in .\\env\\lib\\site-packages (from jsonschema>=2.6->nbformat) (0.10.6)\n",
            "Requirement already satisfied, skipping upgrade: jsonschema-specifications>=2023.03.6 in .\\env\\lib\\site-packages (from jsonschema>=2.6->nbformat) (2023.7.1)\n",
            "Note: you may need to restart the kernel to use updated packages.\n"
          ]
        },
        {
          "name": "stderr",
          "output_type": "stream",
          "text": [
            "WARNING: You are using pip version 20.2.3; however, version 23.3.1 is available.\n",
            "You should consider upgrading via the 'd:\\an-online-shop-business\\env\\Scripts\\python.exe -m pip install --upgrade pip' command.\n"
          ]
        }
      ],
      "source": [
        "%pip install scikit-learn\n",
        "%pip install pandas\n",
        "%pip install matplotlib\n",
        "%pip install seaborn\n",
        "%pip install plotly\n",
        "%pip install --upgrade nbformat"
      ]
    },
    {
      "cell_type": "markdown",
      "id": "69b1dc97",
      "metadata": {
        "id": "69b1dc97",
        "papermill": {
          "duration": 0.010929,
          "end_time": "2023-09-07T15:44:51.142195",
          "exception": false,
          "start_time": "2023-09-07T15:44:51.131266",
          "status": "completed"
        },
        "tags": []
      },
      "source": [
        "# Importing Libraries"
      ]
    },
    {
      "cell_type": "code",
      "execution_count": 2,
      "id": "b1438d68",
      "metadata": {
        "_cell_guid": "b1076dfc-b9ad-4769-8c92-a6c4dae69d19",
        "_uuid": "8f2839f25d086af736a60e9eeb907d3b93b6e0e5",
        "execution": {
          "iopub.execute_input": "2023-09-07T15:44:51.164679Z",
          "iopub.status.busy": "2023-09-07T15:44:51.164172Z",
          "iopub.status.idle": "2023-09-07T15:44:53.149023Z",
          "shell.execute_reply": "2023-09-07T15:44:53.147790Z"
        },
        "id": "b1438d68",
        "papermill": {
          "duration": 1.998828,
          "end_time": "2023-09-07T15:44:53.151237",
          "exception": false,
          "start_time": "2023-09-07T15:44:51.152409",
          "status": "completed"
        },
        "tags": []
      },
      "outputs": [],
      "source": [
        "# import sklearn\n",
        "# from sklearn.linear_model import LinearRegression\n",
        "\n",
        "# Importing for Data Manipulation\n",
        "# import numpy as np # linear algebra\n",
        "import pandas as pd # data processing, CSV file I/O (e.g. pd.read_csv)\n",
        "\n",
        "# Importing For Data Visualization\n",
        "# import matplotlib.pyplot as plt # for data visualization\n",
        "# import seaborn as sns\n",
        "# from wordcloud import WordCloud\n",
        "# import plotly.express as px\n",
        "# import plotly.graph_objs as go\n",
        "# from plotly.offline import init_notebook_mode, iplot\n",
        "\n",
        "# Input data files are available in the read-only \"../input/\" directory\n",
        "# For example, running this (by clicking run or pressing Shift+Enter) will list all files under the input directory\n",
        "\n",
        "# import os\n",
        "# for dirname, _, filenames in os.walk('/kaggle/input'):\n",
        "#     for filename in filenames:\n",
        "#         print(os.path.join(dirname, filename))\n",
        "\n",
        "# You can write up to 20GB to the current directory (/kaggle/working/) that gets preserved as output when you create a version using \"Save & Run All\"\n",
        "# You can also write temporary files to /kaggle/temp/, but they won't be saved outside of the current session"
      ]
    },
    {
      "cell_type": "markdown",
      "id": "4ada51a9",
      "metadata": {
        "id": "4ada51a9",
        "papermill": {
          "duration": 0.010584,
          "end_time": "2023-09-07T15:44:53.173847",
          "exception": false,
          "start_time": "2023-09-07T15:44:53.163263",
          "status": "completed"
        },
        "tags": []
      },
      "source": [
        "# Reading The Dataset"
      ]
    },
    {
      "cell_type": "code",
      "execution_count": 3,
      "id": "5f0ee6ea",
      "metadata": {
        "colab": {
          "base_uri": "https://localhost:8080/",
          "height": 206
        },
        "execution": {
          "iopub.execute_input": "2023-09-07T15:44:53.196303Z",
          "iopub.status.busy": "2023-09-07T15:44:53.195922Z",
          "iopub.status.idle": "2023-09-07T15:44:54.499339Z",
          "shell.execute_reply": "2023-09-07T15:44:54.498366Z"
        },
        "id": "5f0ee6ea",
        "outputId": "64d10436-19bd-4312-90db-04a3ceaf5756",
        "papermill": {
          "duration": 1.317421,
          "end_time": "2023-09-07T15:44:54.501546",
          "exception": false,
          "start_time": "2023-09-07T15:44:53.184125",
          "status": "completed"
        },
        "tags": []
      },
      "outputs": [
        {
          "data": {
            "text/html": [
              "<div>\n",
              "<style scoped>\n",
              "    .dataframe tbody tr th:only-of-type {\n",
              "        vertical-align: middle;\n",
              "    }\n",
              "\n",
              "    .dataframe tbody tr th {\n",
              "        vertical-align: top;\n",
              "    }\n",
              "\n",
              "    .dataframe thead th {\n",
              "        text-align: right;\n",
              "    }\n",
              "</style>\n",
              "<table border=\"1\" class=\"dataframe\">\n",
              "  <thead>\n",
              "    <tr style=\"text-align: right;\">\n",
              "      <th></th>\n",
              "      <th>TransactionNo</th>\n",
              "      <th>Date</th>\n",
              "      <th>ProductNo</th>\n",
              "      <th>ProductName</th>\n",
              "      <th>Price</th>\n",
              "      <th>Quantity</th>\n",
              "      <th>CustomerNo</th>\n",
              "      <th>Country</th>\n",
              "    </tr>\n",
              "  </thead>\n",
              "  <tbody>\n",
              "    <tr>\n",
              "      <th>0</th>\n",
              "      <td>581482</td>\n",
              "      <td>12/9/2019</td>\n",
              "      <td>22485</td>\n",
              "      <td>Set Of 2 Wooden Market Crates</td>\n",
              "      <td>21.47</td>\n",
              "      <td>12</td>\n",
              "      <td>17490.0</td>\n",
              "      <td>United Kingdom</td>\n",
              "    </tr>\n",
              "    <tr>\n",
              "      <th>1</th>\n",
              "      <td>581475</td>\n",
              "      <td>12/9/2019</td>\n",
              "      <td>22596</td>\n",
              "      <td>Christmas Star Wish List Chalkboard</td>\n",
              "      <td>10.65</td>\n",
              "      <td>36</td>\n",
              "      <td>13069.0</td>\n",
              "      <td>United Kingdom</td>\n",
              "    </tr>\n",
              "    <tr>\n",
              "      <th>2</th>\n",
              "      <td>581475</td>\n",
              "      <td>12/9/2019</td>\n",
              "      <td>23235</td>\n",
              "      <td>Storage Tin Vintage Leaf</td>\n",
              "      <td>11.53</td>\n",
              "      <td>12</td>\n",
              "      <td>13069.0</td>\n",
              "      <td>United Kingdom</td>\n",
              "    </tr>\n",
              "    <tr>\n",
              "      <th>3</th>\n",
              "      <td>581475</td>\n",
              "      <td>12/9/2019</td>\n",
              "      <td>23272</td>\n",
              "      <td>Tree T-Light Holder Willie Winkie</td>\n",
              "      <td>10.65</td>\n",
              "      <td>12</td>\n",
              "      <td>13069.0</td>\n",
              "      <td>United Kingdom</td>\n",
              "    </tr>\n",
              "    <tr>\n",
              "      <th>4</th>\n",
              "      <td>581475</td>\n",
              "      <td>12/9/2019</td>\n",
              "      <td>23239</td>\n",
              "      <td>Set Of 4 Knick Knack Tins Poppies</td>\n",
              "      <td>11.94</td>\n",
              "      <td>6</td>\n",
              "      <td>13069.0</td>\n",
              "      <td>United Kingdom</td>\n",
              "    </tr>\n",
              "  </tbody>\n",
              "</table>\n",
              "</div>"
            ],
            "text/plain": [
              "  TransactionNo       Date ProductNo                          ProductName  \\\n",
              "0        581482  12/9/2019     22485        Set Of 2 Wooden Market Crates   \n",
              "1        581475  12/9/2019     22596  Christmas Star Wish List Chalkboard   \n",
              "2        581475  12/9/2019     23235             Storage Tin Vintage Leaf   \n",
              "3        581475  12/9/2019     23272    Tree T-Light Holder Willie Winkie   \n",
              "4        581475  12/9/2019     23239    Set Of 4 Knick Knack Tins Poppies   \n",
              "\n",
              "   Price  Quantity  CustomerNo         Country  \n",
              "0  21.47        12     17490.0  United Kingdom  \n",
              "1  10.65        36     13069.0  United Kingdom  \n",
              "2  11.53        12     13069.0  United Kingdom  \n",
              "3  10.65        12     13069.0  United Kingdom  \n",
              "4  11.94         6     13069.0  United Kingdom  "
            ]
          },
          "execution_count": 3,
          "metadata": {},
          "output_type": "execute_result"
        }
      ],
      "source": [
        "# Reading the dataset with Pandas\n",
        "df = pd.read_csv(\"./Sales Transaction v.4a.csv\")\n",
        "\n",
        "# Sampling the data based on heads (5 top ranks)\n",
        "df.head()"
      ]
    },
    {
      "cell_type": "code",
      "execution_count": 4,
      "id": "893251aa",
      "metadata": {
        "colab": {
          "base_uri": "https://localhost:8080/",
          "height": 206
        },
        "execution": {
          "iopub.execute_input": "2023-09-07T15:44:54.524233Z",
          "iopub.status.busy": "2023-09-07T15:44:54.523598Z",
          "iopub.status.idle": "2023-09-07T15:44:54.536692Z",
          "shell.execute_reply": "2023-09-07T15:44:54.535815Z"
        },
        "id": "893251aa",
        "outputId": "a4ba3448-a616-4e7f-8060-69b80bdb7f6e",
        "papermill": {
          "duration": 0.026375,
          "end_time": "2023-09-07T15:44:54.538640",
          "exception": false,
          "start_time": "2023-09-07T15:44:54.512265",
          "status": "completed"
        },
        "tags": []
      },
      "outputs": [
        {
          "data": {
            "text/html": [
              "<div>\n",
              "<style scoped>\n",
              "    .dataframe tbody tr th:only-of-type {\n",
              "        vertical-align: middle;\n",
              "    }\n",
              "\n",
              "    .dataframe tbody tr th {\n",
              "        vertical-align: top;\n",
              "    }\n",
              "\n",
              "    .dataframe thead th {\n",
              "        text-align: right;\n",
              "    }\n",
              "</style>\n",
              "<table border=\"1\" class=\"dataframe\">\n",
              "  <thead>\n",
              "    <tr style=\"text-align: right;\">\n",
              "      <th></th>\n",
              "      <th>TransactionNo</th>\n",
              "      <th>Date</th>\n",
              "      <th>ProductNo</th>\n",
              "      <th>ProductName</th>\n",
              "      <th>Price</th>\n",
              "      <th>Quantity</th>\n",
              "      <th>CustomerNo</th>\n",
              "      <th>Country</th>\n",
              "    </tr>\n",
              "  </thead>\n",
              "  <tbody>\n",
              "    <tr>\n",
              "      <th>536345</th>\n",
              "      <td>C536548</td>\n",
              "      <td>12/1/2018</td>\n",
              "      <td>22168</td>\n",
              "      <td>Organiser Wood Antique White</td>\n",
              "      <td>18.96</td>\n",
              "      <td>-2</td>\n",
              "      <td>12472.0</td>\n",
              "      <td>Germany</td>\n",
              "    </tr>\n",
              "    <tr>\n",
              "      <th>536346</th>\n",
              "      <td>C536548</td>\n",
              "      <td>12/1/2018</td>\n",
              "      <td>21218</td>\n",
              "      <td>Red Spotty Biscuit Tin</td>\n",
              "      <td>14.09</td>\n",
              "      <td>-3</td>\n",
              "      <td>12472.0</td>\n",
              "      <td>Germany</td>\n",
              "    </tr>\n",
              "    <tr>\n",
              "      <th>536347</th>\n",
              "      <td>C536548</td>\n",
              "      <td>12/1/2018</td>\n",
              "      <td>20957</td>\n",
              "      <td>Porcelain Hanging Bell Small</td>\n",
              "      <td>11.74</td>\n",
              "      <td>-1</td>\n",
              "      <td>12472.0</td>\n",
              "      <td>Germany</td>\n",
              "    </tr>\n",
              "    <tr>\n",
              "      <th>536348</th>\n",
              "      <td>C536548</td>\n",
              "      <td>12/1/2018</td>\n",
              "      <td>22580</td>\n",
              "      <td>Advent Calendar Gingham Sack</td>\n",
              "      <td>16.35</td>\n",
              "      <td>-4</td>\n",
              "      <td>12472.0</td>\n",
              "      <td>Germany</td>\n",
              "    </tr>\n",
              "    <tr>\n",
              "      <th>536349</th>\n",
              "      <td>C536548</td>\n",
              "      <td>12/1/2018</td>\n",
              "      <td>22767</td>\n",
              "      <td>Triple Photo Frame Cornice</td>\n",
              "      <td>20.45</td>\n",
              "      <td>-2</td>\n",
              "      <td>12472.0</td>\n",
              "      <td>Germany</td>\n",
              "    </tr>\n",
              "  </tbody>\n",
              "</table>\n",
              "</div>"
            ],
            "text/plain": [
              "       TransactionNo       Date ProductNo                   ProductName  \\\n",
              "536345       C536548  12/1/2018     22168  Organiser Wood Antique White   \n",
              "536346       C536548  12/1/2018     21218        Red Spotty Biscuit Tin   \n",
              "536347       C536548  12/1/2018     20957  Porcelain Hanging Bell Small   \n",
              "536348       C536548  12/1/2018     22580  Advent Calendar Gingham Sack   \n",
              "536349       C536548  12/1/2018     22767    Triple Photo Frame Cornice   \n",
              "\n",
              "        Price  Quantity  CustomerNo  Country  \n",
              "536345  18.96        -2     12472.0  Germany  \n",
              "536346  14.09        -3     12472.0  Germany  \n",
              "536347  11.74        -1     12472.0  Germany  \n",
              "536348  16.35        -4     12472.0  Germany  \n",
              "536349  20.45        -2     12472.0  Germany  "
            ]
          },
          "execution_count": 4,
          "metadata": {},
          "output_type": "execute_result"
        }
      ],
      "source": [
        "# Sampling the data based on tails (5 least ranks)\n",
        "df.tail()"
      ]
    },
    {
      "cell_type": "markdown",
      "id": "297f62da",
      "metadata": {
        "id": "297f62da",
        "papermill": {
          "duration": 0.010522,
          "end_time": "2023-09-07T15:44:54.559933",
          "exception": false,
          "start_time": "2023-09-07T15:44:54.549411",
          "status": "completed"
        },
        "tags": []
      },
      "source": [
        "# Understanding The Data\n",
        "\n",
        "#### Based on the source of the data, we can describe the dataset to understanding the meaning of the data. Each data can be describe as follow :\n",
        " 1. TransactionNo (categorical): a six-digit unique number that defines each transaction. The letter “C” in the code indicates a cancellation.\n",
        "\n",
        " 2. Date (numeric): the date when each transaction was generated.\n",
        "\n",
        " 3. ProductNo (categorical): a five or six-digit unique character used to identify a specific product.\n",
        "\n",
        " 4. Product (categorical): product/item name.\n",
        "\n",
        " 5. Price (numeric): the price of each product per unit in pound sterling (£).\n",
        "\n",
        " 6. Quantity (numeric): the quantity of each product per transaction. Negative values related to cancelled transactions.\n",
        "\n",
        " 7. CustomerNo (categorical): a five-digit unique number that defines each customer.\n",
        "\n",
        " 8. Country (categorical): name of the country where the customer resides.\n"
      ]
    },
    {
      "cell_type": "code",
      "execution_count": 5,
      "id": "08ba1146",
      "metadata": {
        "colab": {
          "base_uri": "https://localhost:8080/"
        },
        "execution": {
          "iopub.execute_input": "2023-09-07T15:44:54.583184Z",
          "iopub.status.busy": "2023-09-07T15:44:54.582828Z",
          "iopub.status.idle": "2023-09-07T15:44:54.589138Z",
          "shell.execute_reply": "2023-09-07T15:44:54.588136Z"
        },
        "id": "08ba1146",
        "outputId": "c4d76263-25c1-4b3c-8dee-7f3161f86eac",
        "papermill": {
          "duration": 0.020251,
          "end_time": "2023-09-07T15:44:54.591104",
          "exception": false,
          "start_time": "2023-09-07T15:44:54.570853",
          "status": "completed"
        },
        "tags": []
      },
      "outputs": [
        {
          "data": {
            "text/plain": [
              "(536350, 8)"
            ]
          },
          "execution_count": 5,
          "metadata": {},
          "output_type": "execute_result"
        }
      ],
      "source": [
        "# Print the shape of the dataset\n",
        "df.shape"
      ]
    },
    {
      "cell_type": "code",
      "execution_count": 6,
      "id": "7c49057c",
      "metadata": {
        "colab": {
          "base_uri": "https://localhost:8080/",
          "height": 300
        },
        "execution": {
          "iopub.execute_input": "2023-09-07T15:44:54.613803Z",
          "iopub.status.busy": "2023-09-07T15:44:54.613477Z",
          "iopub.status.idle": "2023-09-07T15:44:54.693184Z",
          "shell.execute_reply": "2023-09-07T15:44:54.692176Z"
        },
        "id": "7c49057c",
        "outputId": "65ee7fc0-2065-45fe-94ff-b420670362a8",
        "papermill": {
          "duration": 0.093693,
          "end_time": "2023-09-07T15:44:54.695472",
          "exception": false,
          "start_time": "2023-09-07T15:44:54.601779",
          "status": "completed"
        },
        "tags": []
      },
      "outputs": [
        {
          "data": {
            "text/html": [
              "<div>\n",
              "<style scoped>\n",
              "    .dataframe tbody tr th:only-of-type {\n",
              "        vertical-align: middle;\n",
              "    }\n",
              "\n",
              "    .dataframe tbody tr th {\n",
              "        vertical-align: top;\n",
              "    }\n",
              "\n",
              "    .dataframe thead th {\n",
              "        text-align: right;\n",
              "    }\n",
              "</style>\n",
              "<table border=\"1\" class=\"dataframe\">\n",
              "  <thead>\n",
              "    <tr style=\"text-align: right;\">\n",
              "      <th></th>\n",
              "      <th>Price</th>\n",
              "      <th>Quantity</th>\n",
              "      <th>CustomerNo</th>\n",
              "    </tr>\n",
              "  </thead>\n",
              "  <tbody>\n",
              "    <tr>\n",
              "      <th>count</th>\n",
              "      <td>536350.000000</td>\n",
              "      <td>536350.000000</td>\n",
              "      <td>536295.000000</td>\n",
              "    </tr>\n",
              "    <tr>\n",
              "      <th>mean</th>\n",
              "      <td>12.662182</td>\n",
              "      <td>9.919347</td>\n",
              "      <td>15227.893178</td>\n",
              "    </tr>\n",
              "    <tr>\n",
              "      <th>std</th>\n",
              "      <td>8.490450</td>\n",
              "      <td>216.662300</td>\n",
              "      <td>1716.582932</td>\n",
              "    </tr>\n",
              "    <tr>\n",
              "      <th>min</th>\n",
              "      <td>5.130000</td>\n",
              "      <td>-80995.000000</td>\n",
              "      <td>12004.000000</td>\n",
              "    </tr>\n",
              "    <tr>\n",
              "      <th>25%</th>\n",
              "      <td>10.990000</td>\n",
              "      <td>1.000000</td>\n",
              "      <td>13807.000000</td>\n",
              "    </tr>\n",
              "    <tr>\n",
              "      <th>50%</th>\n",
              "      <td>11.940000</td>\n",
              "      <td>3.000000</td>\n",
              "      <td>15152.000000</td>\n",
              "    </tr>\n",
              "    <tr>\n",
              "      <th>75%</th>\n",
              "      <td>14.090000</td>\n",
              "      <td>10.000000</td>\n",
              "      <td>16729.000000</td>\n",
              "    </tr>\n",
              "    <tr>\n",
              "      <th>max</th>\n",
              "      <td>660.620000</td>\n",
              "      <td>80995.000000</td>\n",
              "      <td>18287.000000</td>\n",
              "    </tr>\n",
              "  </tbody>\n",
              "</table>\n",
              "</div>"
            ],
            "text/plain": [
              "               Price       Quantity     CustomerNo\n",
              "count  536350.000000  536350.000000  536295.000000\n",
              "mean       12.662182       9.919347   15227.893178\n",
              "std         8.490450     216.662300    1716.582932\n",
              "min         5.130000  -80995.000000   12004.000000\n",
              "25%        10.990000       1.000000   13807.000000\n",
              "50%        11.940000       3.000000   15152.000000\n",
              "75%        14.090000      10.000000   16729.000000\n",
              "max       660.620000   80995.000000   18287.000000"
            ]
          },
          "execution_count": 6,
          "metadata": {},
          "output_type": "execute_result"
        }
      ],
      "source": [
        "# Print to describing about the dataset\n",
        "df.describe()"
      ]
    },
    {
      "cell_type": "code",
      "execution_count": 7,
      "id": "85f1a9fd",
      "metadata": {
        "colab": {
          "base_uri": "https://localhost:8080/"
        },
        "execution": {
          "iopub.execute_input": "2023-09-07T15:44:54.719352Z",
          "iopub.status.busy": "2023-09-07T15:44:54.718975Z",
          "iopub.status.idle": "2023-09-07T15:44:55.159922Z",
          "shell.execute_reply": "2023-09-07T15:44:55.158916Z"
        },
        "id": "85f1a9fd",
        "outputId": "00f454d6-b2ae-4780-fac1-29d3ca0ce64f",
        "papermill": {
          "duration": 0.455433,
          "end_time": "2023-09-07T15:44:55.161973",
          "exception": false,
          "start_time": "2023-09-07T15:44:54.706540",
          "status": "completed"
        },
        "tags": []
      },
      "outputs": [
        {
          "name": "stdout",
          "output_type": "stream",
          "text": [
            "<class 'pandas.core.frame.DataFrame'>\n",
            "RangeIndex: 536350 entries, 0 to 536349\n",
            "Data columns (total 8 columns):\n",
            " #   Column         Non-Null Count   Dtype  \n",
            "---  ------         --------------   -----  \n",
            " 0   TransactionNo  536350 non-null  object \n",
            " 1   Date           536350 non-null  object \n",
            " 2   ProductNo      536350 non-null  object \n",
            " 3   ProductName    536350 non-null  object \n",
            " 4   Price          536350 non-null  float64\n",
            " 5   Quantity       536350 non-null  int64  \n",
            " 6   CustomerNo     536295 non-null  float64\n",
            " 7   Country        536350 non-null  object \n",
            "dtypes: float64(2), int64(1), object(5)\n",
            "memory usage: 32.7+ MB\n"
          ]
        }
      ],
      "source": [
        "# Print to look for info about the dataset\n",
        "df.info()"
      ]
    },
    {
      "cell_type": "code",
      "execution_count": 8,
      "id": "537cd0a2",
      "metadata": {
        "colab": {
          "base_uri": "https://localhost:8080/"
        },
        "execution": {
          "iopub.execute_input": "2023-09-07T15:44:55.186740Z",
          "iopub.status.busy": "2023-09-07T15:44:55.186058Z",
          "iopub.status.idle": "2023-09-07T15:44:55.611258Z",
          "shell.execute_reply": "2023-09-07T15:44:55.610071Z"
        },
        "id": "537cd0a2",
        "outputId": "124d12ff-a223-48e9-9fcc-6e387c06c160",
        "papermill": {
          "duration": 0.440249,
          "end_time": "2023-09-07T15:44:55.613438",
          "exception": false,
          "start_time": "2023-09-07T15:44:55.173189",
          "status": "completed"
        },
        "tags": []
      },
      "outputs": [
        {
          "name": "stdout",
          "output_type": "stream",
          "text": [
            "Missing Values\n",
            "------------------------------\n",
            "TransactionNo     0\n",
            "Date              0\n",
            "ProductNo         0\n",
            "ProductName       0\n",
            "Price             0\n",
            "Quantity          0\n",
            "CustomerNo       55\n",
            "Country           0\n",
            "dtype: int64\n"
          ]
        }
      ],
      "source": [
        "# Print to searching about missing values\n",
        "print (\"Missing Values\")\n",
        "print (\"-\"*30)\n",
        "print(df.isnull().sum())"
      ]
    },
    {
      "cell_type": "code",
      "execution_count": 9,
      "id": "d46a190c",
      "metadata": {
        "colab": {
          "base_uri": "https://localhost:8080/"
        },
        "execution": {
          "iopub.execute_input": "2023-09-07T15:44:55.637687Z",
          "iopub.status.busy": "2023-09-07T15:44:55.636936Z",
          "iopub.status.idle": "2023-09-07T15:44:55.970597Z",
          "shell.execute_reply": "2023-09-07T15:44:55.969533Z"
        },
        "id": "d46a190c",
        "outputId": "2742ac9f-e22b-4fe0-f39c-4ee5ecbf48d0",
        "papermill": {
          "duration": 0.348038,
          "end_time": "2023-09-07T15:44:55.972773",
          "exception": false,
          "start_time": "2023-09-07T15:44:55.624735",
          "status": "completed"
        },
        "tags": []
      },
      "outputs": [
        {
          "name": "stdout",
          "output_type": "stream",
          "text": [
            "Data Duplicatioin\n",
            "------------------------------\n",
            "9994\n"
          ]
        }
      ],
      "source": [
        "# Searching for data duplicates\n",
        "print (\"Data Duplicatioin\")\n",
        "print (\"-\"*30)\n",
        "print(df.duplicated(keep=False).sum())"
      ]
    },
    {
      "cell_type": "code",
      "execution_count": 10,
      "id": "1b6975f6",
      "metadata": {
        "colab": {
          "base_uri": "https://localhost:8080/"
        },
        "execution": {
          "iopub.execute_input": "2023-09-07T15:44:55.997543Z",
          "iopub.status.busy": "2023-09-07T15:44:55.996846Z",
          "iopub.status.idle": "2023-09-07T15:44:56.217264Z",
          "shell.execute_reply": "2023-09-07T15:44:56.215948Z"
        },
        "id": "1b6975f6",
        "outputId": "3e5319ac-f9ec-4598-9d9a-8fbf4a816790",
        "papermill": {
          "duration": 0.23564,
          "end_time": "2023-09-07T15:44:56.219815",
          "exception": false,
          "start_time": "2023-09-07T15:44:55.984175",
          "status": "completed"
        },
        "tags": []
      },
      "outputs": [
        {
          "name": "stdout",
          "output_type": "stream",
          "text": [
            "Unique Values\n",
            "------------------------------\n",
            "TransactionNo    23204\n",
            "Date               305\n",
            "ProductNo         3768\n",
            "ProductName       3768\n",
            "Price              530\n",
            "Quantity           510\n",
            "CustomerNo        4738\n",
            "Country             38\n",
            "dtype: int64\n"
          ]
        }
      ],
      "source": [
        "# Check the unique value on Dataset\n",
        "print(\"Unique Values\")\n",
        "print(\"-\"*30)\n",
        "print(df.nunique())"
      ]
    },
    {
      "cell_type": "code",
      "execution_count": 11,
      "id": "efaa8e58",
      "metadata": {
        "colab": {
          "base_uri": "https://localhost:8080/"
        },
        "execution": {
          "iopub.execute_input": "2023-09-07T15:44:56.245815Z",
          "iopub.status.busy": "2023-09-07T15:44:56.245447Z",
          "iopub.status.idle": "2023-09-07T15:44:56.322642Z",
          "shell.execute_reply": "2023-09-07T15:44:56.321514Z"
        },
        "id": "efaa8e58",
        "outputId": "9b691ff5-f79d-4d06-d646-abdf389da56b",
        "papermill": {
          "duration": 0.092247,
          "end_time": "2023-09-07T15:44:56.324671",
          "exception": false,
          "start_time": "2023-09-07T15:44:56.232424",
          "status": "completed"
        },
        "tags": []
      },
      "outputs": [
        {
          "name": "stdout",
          "output_type": "stream",
          "text": [
            "There's 38 Country in this Dataset\n",
            "------------------------------\n",
            "Including : ['United Kingdom' 'Norway' 'Belgium' 'Germany' 'France' 'Austria'\n",
            " 'Netherlands' 'EIRE' 'USA' 'Channel Islands' 'Iceland' 'Portugal' 'Spain'\n",
            " 'Finland' 'Italy' 'Greece' 'Japan' 'Sweden' 'Denmark' 'Cyprus' 'Malta'\n",
            " 'Switzerland' 'Australia' 'Czech Republic' 'Poland' 'Hong Kong'\n",
            " 'Singapore' 'RSA' 'Israel' 'Unspecified' 'United Arab Emirates' 'Canada'\n",
            " 'European Community' 'Bahrain' 'Brazil' 'Saudi Arabia' 'Lebanon'\n",
            " 'Lithuania']\n"
          ]
        }
      ],
      "source": [
        "print(f\"There's {df['Country'].nunique()} Country in this Dataset\")\n",
        "print(\"-\"*30)\n",
        "print('Including :', df['Country'].unique())"
      ]
    },
    {
      "cell_type": "markdown",
      "id": "953b308b",
      "metadata": {
        "id": "953b308b",
        "papermill": {
          "duration": 0.011552,
          "end_time": "2023-09-07T15:44:56.347959",
          "exception": false,
          "start_time": "2023-09-07T15:44:56.336407",
          "status": "completed"
        },
        "tags": []
      },
      "source": [
        "From here we learn that :\n",
        "\n",
        "1. The dataset contain (536350 rows of transaction, 8 collumns of attributes).\n",
        "2. The 'Date' collumn stored as an object (text), which is not a proper date and time format\n",
        "3. The 'CustomerNo' collumn stored as an float numbers, which can cause ambiguousity\n",
        "4. Total of country that this database have is 38 Country. Which mean this online shop business have transaction across the country in the world.\n",
        "5. Some data have missing values, including the CustomerNo, which is unexpected. Every transaction mustly have a CustomerNo in there.\n",
        "6. In Quantity collumn, there have negative values. It can cause ambigousity to.\n",
        "7. In Transaction collumn, we must remember that if theres have letter \"C\" in the first value. That indicate cancellation."
      ]
    },
    {
      "cell_type": "markdown",
      "id": "fb9311f4",
      "metadata": {
        "id": "fb9311f4",
        "papermill": {
          "duration": 0.011128,
          "end_time": "2023-09-07T15:44:56.370862",
          "exception": false,
          "start_time": "2023-09-07T15:44:56.359734",
          "status": "completed"
        },
        "tags": []
      },
      "source": [
        "# Data Cleaning"
      ]
    },
    {
      "cell_type": "code",
      "execution_count": 12,
      "id": "ebce8185",
      "metadata": {
        "colab": {
          "base_uri": "https://localhost:8080/",
          "height": 224
        },
        "execution": {
          "iopub.execute_input": "2023-09-07T15:44:56.395323Z",
          "iopub.status.busy": "2023-09-07T15:44:56.394983Z",
          "iopub.status.idle": "2023-09-07T15:44:56.411955Z",
          "shell.execute_reply": "2023-09-07T15:44:56.411077Z"
        },
        "id": "ebce8185",
        "outputId": "10974e64-a6ed-4275-c857-6eb43e57c280",
        "papermill": {
          "duration": 0.03154,
          "end_time": "2023-09-07T15:44:56.413797",
          "exception": false,
          "start_time": "2023-09-07T15:44:56.382257",
          "status": "completed"
        },
        "tags": []
      },
      "outputs": [
        {
          "name": "stdout",
          "output_type": "stream",
          "text": [
            "Rows CostumerNo With Missing Values\n"
          ]
        },
        {
          "data": {
            "text/html": [
              "<div>\n",
              "<style scoped>\n",
              "    .dataframe tbody tr th:only-of-type {\n",
              "        vertical-align: middle;\n",
              "    }\n",
              "\n",
              "    .dataframe tbody tr th {\n",
              "        vertical-align: top;\n",
              "    }\n",
              "\n",
              "    .dataframe thead th {\n",
              "        text-align: right;\n",
              "    }\n",
              "</style>\n",
              "<table border=\"1\" class=\"dataframe\">\n",
              "  <thead>\n",
              "    <tr style=\"text-align: right;\">\n",
              "      <th></th>\n",
              "      <th>TransactionNo</th>\n",
              "      <th>Date</th>\n",
              "      <th>ProductNo</th>\n",
              "      <th>ProductName</th>\n",
              "      <th>Price</th>\n",
              "      <th>Quantity</th>\n",
              "      <th>CustomerNo</th>\n",
              "      <th>Country</th>\n",
              "    </tr>\n",
              "  </thead>\n",
              "  <tbody>\n",
              "    <tr>\n",
              "      <th>6511</th>\n",
              "      <td>C581406</td>\n",
              "      <td>12/8/2019</td>\n",
              "      <td>46000M</td>\n",
              "      <td>Polyester Filler Pad 45x45cm</td>\n",
              "      <td>6.19</td>\n",
              "      <td>-240</td>\n",
              "      <td>NaN</td>\n",
              "      <td>United Kingdom</td>\n",
              "    </tr>\n",
              "    <tr>\n",
              "      <th>6512</th>\n",
              "      <td>C581406</td>\n",
              "      <td>12/8/2019</td>\n",
              "      <td>46000S</td>\n",
              "      <td>Polyester Filler Pad 40x40cm</td>\n",
              "      <td>6.19</td>\n",
              "      <td>-300</td>\n",
              "      <td>NaN</td>\n",
              "      <td>United Kingdom</td>\n",
              "    </tr>\n",
              "    <tr>\n",
              "      <th>90098</th>\n",
              "      <td>C575153</td>\n",
              "      <td>11/8/2019</td>\n",
              "      <td>22947</td>\n",
              "      <td>Wooden Advent Calendar Red</td>\n",
              "      <td>44.25</td>\n",
              "      <td>-1</td>\n",
              "      <td>NaN</td>\n",
              "      <td>United Kingdom</td>\n",
              "    </tr>\n",
              "    <tr>\n",
              "      <th>102671</th>\n",
              "      <td>C574288</td>\n",
              "      <td>11/3/2019</td>\n",
              "      <td>22178</td>\n",
              "      <td>Victorian Glass Hanging T-Light</td>\n",
              "      <td>25.37</td>\n",
              "      <td>-1</td>\n",
              "      <td>NaN</td>\n",
              "      <td>United Kingdom</td>\n",
              "    </tr>\n",
              "    <tr>\n",
              "      <th>117263</th>\n",
              "      <td>C573180</td>\n",
              "      <td>10/28/2019</td>\n",
              "      <td>23048</td>\n",
              "      <td>Set Of 10 Lanterns Fairy Light Star</td>\n",
              "      <td>14.50</td>\n",
              "      <td>-1</td>\n",
              "      <td>NaN</td>\n",
              "      <td>United Kingdom</td>\n",
              "    </tr>\n",
              "  </tbody>\n",
              "</table>\n",
              "</div>"
            ],
            "text/plain": [
              "       TransactionNo        Date ProductNo  \\\n",
              "6511         C581406   12/8/2019    46000M   \n",
              "6512         C581406   12/8/2019    46000S   \n",
              "90098        C575153   11/8/2019     22947   \n",
              "102671       C574288   11/3/2019     22178   \n",
              "117263       C573180  10/28/2019     23048   \n",
              "\n",
              "                                ProductName  Price  Quantity  CustomerNo  \\\n",
              "6511           Polyester Filler Pad 45x45cm   6.19      -240         NaN   \n",
              "6512           Polyester Filler Pad 40x40cm   6.19      -300         NaN   \n",
              "90098            Wooden Advent Calendar Red  44.25        -1         NaN   \n",
              "102671      Victorian Glass Hanging T-Light  25.37        -1         NaN   \n",
              "117263  Set Of 10 Lanterns Fairy Light Star  14.50        -1         NaN   \n",
              "\n",
              "               Country  \n",
              "6511    United Kingdom  \n",
              "6512    United Kingdom  \n",
              "90098   United Kingdom  \n",
              "102671  United Kingdom  \n",
              "117263  United Kingdom  "
            ]
          },
          "execution_count": 12,
          "metadata": {},
          "output_type": "execute_result"
        }
      ],
      "source": [
        "# Display the rows in the 'CostumerNo' collumn:\n",
        "rows_in_costumerno_missing = df[df['CustomerNo'].isnull()]\n",
        "print (\"Rows CostumerNo With Missing Values\")\n",
        "rows_in_costumerno_missing.head()"
      ]
    },
    {
      "cell_type": "code",
      "execution_count": 13,
      "id": "a343200f",
      "metadata": {
        "colab": {
          "base_uri": "https://localhost:8080/"
        },
        "execution": {
          "iopub.execute_input": "2023-09-07T15:44:56.439508Z",
          "iopub.status.busy": "2023-09-07T15:44:56.438561Z",
          "iopub.status.idle": "2023-09-07T15:44:57.290022Z",
          "shell.execute_reply": "2023-09-07T15:44:57.288775Z"
        },
        "id": "a343200f",
        "outputId": "1cdaebbc-6eec-45f6-fd37-a4bb190402a6",
        "papermill": {
          "duration": 0.866389,
          "end_time": "2023-09-07T15:44:57.292162",
          "exception": false,
          "start_time": "2023-09-07T15:44:56.425773",
          "status": "completed"
        },
        "tags": []
      },
      "outputs": [
        {
          "name": "stdout",
          "output_type": "stream",
          "text": [
            "Missing Values\n",
            "------------------------------\n",
            "TransactionNo    0\n",
            "Date             0\n",
            "ProductNo        0\n",
            "ProductName      0\n",
            "Price            0\n",
            "Quantity         0\n",
            "CustomerNo       0\n",
            "Country          0\n",
            "dtype: int64\n"
          ]
        }
      ],
      "source": [
        "#cleaning the data with missing values\n",
        "df = df.dropna()\n",
        "#checking the data\n",
        "print (\"Missing Values\")\n",
        "print (\"-\"*30)\n",
        "print(df.isnull().sum())"
      ]
    },
    {
      "cell_type": "code",
      "execution_count": 14,
      "id": "0d32bb78",
      "metadata": {
        "colab": {
          "base_uri": "https://localhost:8080/"
        },
        "execution": {
          "iopub.execute_input": "2023-09-07T15:44:57.317651Z",
          "iopub.status.busy": "2023-09-07T15:44:57.317305Z",
          "iopub.status.idle": "2023-09-07T15:44:57.682439Z",
          "shell.execute_reply": "2023-09-07T15:44:57.681264Z"
        },
        "id": "0d32bb78",
        "outputId": "9747327a-478e-4ecb-fdac-8bf4e630e605",
        "papermill": {
          "duration": 0.380186,
          "end_time": "2023-09-07T15:44:57.684424",
          "exception": false,
          "start_time": "2023-09-07T15:44:57.304238",
          "status": "completed"
        },
        "tags": []
      },
      "outputs": [
        {
          "name": "stdout",
          "output_type": "stream",
          "text": [
            "Data Duplicates\n",
            "------------------------------\n",
            "9994\n"
          ]
        }
      ],
      "source": [
        "#check if there's duplicates in dataset\n",
        "print ('Data Duplicates')\n",
        "print (\"-\"*30)\n",
        "print (df.duplicated(keep=False).sum())"
      ]
    },
    {
      "cell_type": "code",
      "execution_count": 15,
      "id": "65acc78c",
      "metadata": {
        "execution": {
          "iopub.execute_input": "2023-09-07T15:44:57.710242Z",
          "iopub.status.busy": "2023-09-07T15:44:57.709527Z",
          "iopub.status.idle": "2023-09-07T15:44:58.070065Z",
          "shell.execute_reply": "2023-09-07T15:44:58.068930Z"
        },
        "id": "65acc78c",
        "papermill": {
          "duration": 0.375883,
          "end_time": "2023-09-07T15:44:58.072535",
          "exception": false,
          "start_time": "2023-09-07T15:44:57.696652",
          "status": "completed"
        },
        "tags": []
      },
      "outputs": [],
      "source": [
        "#cleaning the duplicates\n",
        "df = df.drop_duplicates()"
      ]
    },
    {
      "cell_type": "code",
      "execution_count": 16,
      "id": "40f40065",
      "metadata": {
        "colab": {
          "base_uri": "https://localhost:8080/"
        },
        "execution": {
          "iopub.execute_input": "2023-09-07T15:44:58.099250Z",
          "iopub.status.busy": "2023-09-07T15:44:58.098418Z",
          "iopub.status.idle": "2023-09-07T15:44:58.423611Z",
          "shell.execute_reply": "2023-09-07T15:44:58.422606Z"
        },
        "id": "40f40065",
        "outputId": "c199299e-1442-47ce-ddf0-8341ed22d596",
        "papermill": {
          "duration": 0.340879,
          "end_time": "2023-09-07T15:44:58.425927",
          "exception": false,
          "start_time": "2023-09-07T15:44:58.085048",
          "status": "completed"
        },
        "tags": []
      },
      "outputs": [
        {
          "name": "stdout",
          "output_type": "stream",
          "text": [
            "Data Duplicates\n",
            "------------------------------\n",
            "0\n"
          ]
        }
      ],
      "source": [
        "#checking again if there's duplicates in dataset\n",
        "print ('Data Duplicates')\n",
        "print (\"-\"*30)\n",
        "print (df.duplicated(keep=False).sum())"
      ]
    },
    {
      "cell_type": "code",
      "execution_count": 17,
      "id": "e6533b63",
      "metadata": {
        "colab": {
          "base_uri": "https://localhost:8080/",
          "height": 300
        },
        "execution": {
          "iopub.execute_input": "2023-09-07T15:44:58.452648Z",
          "iopub.status.busy": "2023-09-07T15:44:58.452316Z",
          "iopub.status.idle": "2023-09-07T15:44:58.516807Z",
          "shell.execute_reply": "2023-09-07T15:44:58.515789Z"
        },
        "id": "e6533b63",
        "outputId": "f15425df-ac1d-455e-d98e-cda6e9cca412",
        "papermill": {
          "duration": 0.080319,
          "end_time": "2023-09-07T15:44:58.518718",
          "exception": false,
          "start_time": "2023-09-07T15:44:58.438399",
          "status": "completed"
        },
        "tags": []
      },
      "outputs": [
        {
          "data": {
            "text/html": [
              "<div>\n",
              "<style scoped>\n",
              "    .dataframe tbody tr th:only-of-type {\n",
              "        vertical-align: middle;\n",
              "    }\n",
              "\n",
              "    .dataframe tbody tr th {\n",
              "        vertical-align: top;\n",
              "    }\n",
              "\n",
              "    .dataframe thead th {\n",
              "        text-align: right;\n",
              "    }\n",
              "</style>\n",
              "<table border=\"1\" class=\"dataframe\">\n",
              "  <thead>\n",
              "    <tr style=\"text-align: right;\">\n",
              "      <th></th>\n",
              "      <th>Price</th>\n",
              "      <th>Quantity</th>\n",
              "      <th>CustomerNo</th>\n",
              "    </tr>\n",
              "  </thead>\n",
              "  <tbody>\n",
              "    <tr>\n",
              "      <th>count</th>\n",
              "      <td>531095.000000</td>\n",
              "      <td>531095.000000</td>\n",
              "      <td>531095.000000</td>\n",
              "    </tr>\n",
              "    <tr>\n",
              "      <th>mean</th>\n",
              "      <td>12.669635</td>\n",
              "      <td>9.993146</td>\n",
              "      <td>15222.612241</td>\n",
              "    </tr>\n",
              "    <tr>\n",
              "      <th>std</th>\n",
              "      <td>8.526181</td>\n",
              "      <td>217.710261</td>\n",
              "      <td>1716.633588</td>\n",
              "    </tr>\n",
              "    <tr>\n",
              "      <th>min</th>\n",
              "      <td>5.130000</td>\n",
              "      <td>-80995.000000</td>\n",
              "      <td>12004.000000</td>\n",
              "    </tr>\n",
              "    <tr>\n",
              "      <th>25%</th>\n",
              "      <td>10.990000</td>\n",
              "      <td>1.000000</td>\n",
              "      <td>13798.000000</td>\n",
              "    </tr>\n",
              "    <tr>\n",
              "      <th>50%</th>\n",
              "      <td>11.940000</td>\n",
              "      <td>3.000000</td>\n",
              "      <td>15146.000000</td>\n",
              "    </tr>\n",
              "    <tr>\n",
              "      <th>75%</th>\n",
              "      <td>14.090000</td>\n",
              "      <td>10.000000</td>\n",
              "      <td>16727.000000</td>\n",
              "    </tr>\n",
              "    <tr>\n",
              "      <th>max</th>\n",
              "      <td>660.620000</td>\n",
              "      <td>80995.000000</td>\n",
              "      <td>18287.000000</td>\n",
              "    </tr>\n",
              "  </tbody>\n",
              "</table>\n",
              "</div>"
            ],
            "text/plain": [
              "               Price       Quantity     CustomerNo\n",
              "count  531095.000000  531095.000000  531095.000000\n",
              "mean       12.669635       9.993146   15222.612241\n",
              "std         8.526181     217.710261    1716.633588\n",
              "min         5.130000  -80995.000000   12004.000000\n",
              "25%        10.990000       1.000000   13798.000000\n",
              "50%        11.940000       3.000000   15146.000000\n",
              "75%        14.090000      10.000000   16727.000000\n",
              "max       660.620000   80995.000000   18287.000000"
            ]
          },
          "execution_count": 17,
          "metadata": {},
          "output_type": "execute_result"
        }
      ],
      "source": [
        "#check description of the databased\n",
        "df.describe()"
      ]
    },
    {
      "cell_type": "markdown",
      "id": "6e726745",
      "metadata": {
        "id": "6e726745",
        "papermill": {
          "duration": 0.012333,
          "end_time": "2023-09-07T15:44:58.543699",
          "exception": false,
          "start_time": "2023-09-07T15:44:58.531366",
          "status": "completed"
        },
        "tags": []
      },
      "source": [
        "> if we look at the database, there have negative value in 'Quantity'. We must clean that\n",
        "and make sure that TransactionNo must'nt have 'C' indicator in there (Cancellation)."
      ]
    },
    {
      "cell_type": "markdown",
      "id": "eabcb6d2",
      "metadata": {},
      "source": [
        "Disini akan dilakukan pembagian data yaitu data yang terdapat pembatalan pembelian dan data yang tanpa pembatalan pembelian"
      ]
    },
    {
      "cell_type": "code",
      "execution_count": 18,
      "id": "cbd29a66",
      "metadata": {
        "colab": {
          "base_uri": "https://localhost:8080/",
          "height": 441
        },
        "execution": {
          "iopub.execute_input": "2023-09-07T15:44:58.570274Z",
          "iopub.status.busy": "2023-09-07T15:44:58.569903Z",
          "iopub.status.idle": "2023-09-07T15:44:58.788734Z",
          "shell.execute_reply": "2023-09-07T15:44:58.787722Z"
        },
        "id": "cbd29a66",
        "outputId": "8c171a64-f861-450a-a411-d7c7bd3c818a",
        "papermill": {
          "duration": 0.234479,
          "end_time": "2023-09-07T15:44:58.790704",
          "exception": false,
          "start_time": "2023-09-07T15:44:58.556225",
          "status": "completed"
        },
        "tags": []
      },
      "outputs": [
        {
          "name": "stdout",
          "output_type": "stream",
          "text": [
            "Cancelation Orders\n"
          ]
        },
        {
          "data": {
            "text/html": [
              "<div>\n",
              "<style scoped>\n",
              "    .dataframe tbody tr th:only-of-type {\n",
              "        vertical-align: middle;\n",
              "    }\n",
              "\n",
              "    .dataframe tbody tr th {\n",
              "        vertical-align: top;\n",
              "    }\n",
              "\n",
              "    .dataframe thead th {\n",
              "        text-align: right;\n",
              "    }\n",
              "</style>\n",
              "<table border=\"1\" class=\"dataframe\">\n",
              "  <thead>\n",
              "    <tr style=\"text-align: right;\">\n",
              "      <th></th>\n",
              "      <th>TransactionNo</th>\n",
              "      <th>Date</th>\n",
              "      <th>ProductNo</th>\n",
              "      <th>ProductName</th>\n",
              "      <th>Price</th>\n",
              "      <th>Quantity</th>\n",
              "      <th>CustomerNo</th>\n",
              "      <th>Country</th>\n",
              "    </tr>\n",
              "  </thead>\n",
              "  <tbody>\n",
              "    <tr>\n",
              "      <th>1616</th>\n",
              "      <td>C581484</td>\n",
              "      <td>12/9/2019</td>\n",
              "      <td>23843</td>\n",
              "      <td>Paper Craft Little Birdie</td>\n",
              "      <td>6.19</td>\n",
              "      <td>-80995</td>\n",
              "      <td>16446.0</td>\n",
              "      <td>United Kingdom</td>\n",
              "    </tr>\n",
              "    <tr>\n",
              "      <th>1617</th>\n",
              "      <td>C581490</td>\n",
              "      <td>12/9/2019</td>\n",
              "      <td>22178</td>\n",
              "      <td>Victorian Glass Hanging T-Light</td>\n",
              "      <td>6.19</td>\n",
              "      <td>-12</td>\n",
              "      <td>14397.0</td>\n",
              "      <td>United Kingdom</td>\n",
              "    </tr>\n",
              "    <tr>\n",
              "      <th>1618</th>\n",
              "      <td>C581490</td>\n",
              "      <td>12/9/2019</td>\n",
              "      <td>23144</td>\n",
              "      <td>Zinc T-Light Holder Stars Small</td>\n",
              "      <td>6.04</td>\n",
              "      <td>-11</td>\n",
              "      <td>14397.0</td>\n",
              "      <td>United Kingdom</td>\n",
              "    </tr>\n",
              "    <tr>\n",
              "      <th>1619</th>\n",
              "      <td>C581568</td>\n",
              "      <td>12/9/2019</td>\n",
              "      <td>21258</td>\n",
              "      <td>Victorian Sewing Box Large</td>\n",
              "      <td>6.19</td>\n",
              "      <td>-5</td>\n",
              "      <td>15311.0</td>\n",
              "      <td>United Kingdom</td>\n",
              "    </tr>\n",
              "    <tr>\n",
              "      <th>1620</th>\n",
              "      <td>C581569</td>\n",
              "      <td>12/9/2019</td>\n",
              "      <td>84978</td>\n",
              "      <td>Hanging Heart Jar T-Light Holder</td>\n",
              "      <td>6.19</td>\n",
              "      <td>-1</td>\n",
              "      <td>17315.0</td>\n",
              "      <td>United Kingdom</td>\n",
              "    </tr>\n",
              "    <tr>\n",
              "      <th>...</th>\n",
              "      <td>...</td>\n",
              "      <td>...</td>\n",
              "      <td>...</td>\n",
              "      <td>...</td>\n",
              "      <td>...</td>\n",
              "      <td>...</td>\n",
              "      <td>...</td>\n",
              "      <td>...</td>\n",
              "    </tr>\n",
              "    <tr>\n",
              "      <th>536345</th>\n",
              "      <td>C536548</td>\n",
              "      <td>12/1/2018</td>\n",
              "      <td>22168</td>\n",
              "      <td>Organiser Wood Antique White</td>\n",
              "      <td>18.96</td>\n",
              "      <td>-2</td>\n",
              "      <td>12472.0</td>\n",
              "      <td>Germany</td>\n",
              "    </tr>\n",
              "    <tr>\n",
              "      <th>536346</th>\n",
              "      <td>C536548</td>\n",
              "      <td>12/1/2018</td>\n",
              "      <td>21218</td>\n",
              "      <td>Red Spotty Biscuit Tin</td>\n",
              "      <td>14.09</td>\n",
              "      <td>-3</td>\n",
              "      <td>12472.0</td>\n",
              "      <td>Germany</td>\n",
              "    </tr>\n",
              "    <tr>\n",
              "      <th>536347</th>\n",
              "      <td>C536548</td>\n",
              "      <td>12/1/2018</td>\n",
              "      <td>20957</td>\n",
              "      <td>Porcelain Hanging Bell Small</td>\n",
              "      <td>11.74</td>\n",
              "      <td>-1</td>\n",
              "      <td>12472.0</td>\n",
              "      <td>Germany</td>\n",
              "    </tr>\n",
              "    <tr>\n",
              "      <th>536348</th>\n",
              "      <td>C536548</td>\n",
              "      <td>12/1/2018</td>\n",
              "      <td>22580</td>\n",
              "      <td>Advent Calendar Gingham Sack</td>\n",
              "      <td>16.35</td>\n",
              "      <td>-4</td>\n",
              "      <td>12472.0</td>\n",
              "      <td>Germany</td>\n",
              "    </tr>\n",
              "    <tr>\n",
              "      <th>536349</th>\n",
              "      <td>C536548</td>\n",
              "      <td>12/1/2018</td>\n",
              "      <td>22767</td>\n",
              "      <td>Triple Photo Frame Cornice</td>\n",
              "      <td>20.45</td>\n",
              "      <td>-2</td>\n",
              "      <td>12472.0</td>\n",
              "      <td>Germany</td>\n",
              "    </tr>\n",
              "  </tbody>\n",
              "</table>\n",
              "<p>8494 rows × 8 columns</p>\n",
              "</div>"
            ],
            "text/plain": [
              "       TransactionNo       Date ProductNo                       ProductName  \\\n",
              "1616         C581484  12/9/2019     23843         Paper Craft Little Birdie   \n",
              "1617         C581490  12/9/2019     22178   Victorian Glass Hanging T-Light   \n",
              "1618         C581490  12/9/2019     23144   Zinc T-Light Holder Stars Small   \n",
              "1619         C581568  12/9/2019     21258        Victorian Sewing Box Large   \n",
              "1620         C581569  12/9/2019     84978  Hanging Heart Jar T-Light Holder   \n",
              "...              ...        ...       ...                               ...   \n",
              "536345       C536548  12/1/2018     22168      Organiser Wood Antique White   \n",
              "536346       C536548  12/1/2018     21218            Red Spotty Biscuit Tin   \n",
              "536347       C536548  12/1/2018     20957      Porcelain Hanging Bell Small   \n",
              "536348       C536548  12/1/2018     22580      Advent Calendar Gingham Sack   \n",
              "536349       C536548  12/1/2018     22767        Triple Photo Frame Cornice   \n",
              "\n",
              "        Price  Quantity  CustomerNo         Country  \n",
              "1616     6.19    -80995     16446.0  United Kingdom  \n",
              "1617     6.19       -12     14397.0  United Kingdom  \n",
              "1618     6.04       -11     14397.0  United Kingdom  \n",
              "1619     6.19        -5     15311.0  United Kingdom  \n",
              "1620     6.19        -1     17315.0  United Kingdom  \n",
              "...       ...       ...         ...             ...  \n",
              "536345  18.96        -2     12472.0         Germany  \n",
              "536346  14.09        -3     12472.0         Germany  \n",
              "536347  11.74        -1     12472.0         Germany  \n",
              "536348  16.35        -4     12472.0         Germany  \n",
              "536349  20.45        -2     12472.0         Germany  \n",
              "\n",
              "[8494 rows x 8 columns]"
            ]
          },
          "execution_count": 18,
          "metadata": {},
          "output_type": "execute_result"
        }
      ],
      "source": [
        "# Searching the TransactionNo with 'C' indicators\n",
        "df_cancel = df[df['TransactionNo'].str.startswith('C') & (df['Quantity'] < 0)]\n",
        "\n",
        "# Print the cancelation rows\n",
        "print (\"Cancelation Orders\")\n",
        "df_cancel"
      ]
    },
    {
      "cell_type": "code",
      "execution_count": 19,
      "id": "34b98ff9",
      "metadata": {},
      "outputs": [
        {
          "data": {
            "text/html": [
              "<div>\n",
              "<style scoped>\n",
              "    .dataframe tbody tr th:only-of-type {\n",
              "        vertical-align: middle;\n",
              "    }\n",
              "\n",
              "    .dataframe tbody tr th {\n",
              "        vertical-align: top;\n",
              "    }\n",
              "\n",
              "    .dataframe thead th {\n",
              "        text-align: right;\n",
              "    }\n",
              "</style>\n",
              "<table border=\"1\" class=\"dataframe\">\n",
              "  <thead>\n",
              "    <tr style=\"text-align: right;\">\n",
              "      <th></th>\n",
              "      <th>Price</th>\n",
              "      <th>Quantity</th>\n",
              "      <th>CustomerNo</th>\n",
              "    </tr>\n",
              "  </thead>\n",
              "  <tbody>\n",
              "    <tr>\n",
              "      <th>count</th>\n",
              "      <td>8494.000000</td>\n",
              "      <td>8494.000000</td>\n",
              "      <td>8494.000000</td>\n",
              "    </tr>\n",
              "    <tr>\n",
              "      <th>mean</th>\n",
              "      <td>14.667710</td>\n",
              "      <td>-31.496586</td>\n",
              "      <td>14994.995526</td>\n",
              "    </tr>\n",
              "    <tr>\n",
              "      <th>std</th>\n",
              "      <td>25.241861</td>\n",
              "      <td>1197.896194</td>\n",
              "      <td>1706.171419</td>\n",
              "    </tr>\n",
              "    <tr>\n",
              "      <th>min</th>\n",
              "      <td>5.460000</td>\n",
              "      <td>-80995.000000</td>\n",
              "      <td>12346.000000</td>\n",
              "    </tr>\n",
              "    <tr>\n",
              "      <th>25%</th>\n",
              "      <td>11.340000</td>\n",
              "      <td>-6.000000</td>\n",
              "      <td>13520.750000</td>\n",
              "    </tr>\n",
              "    <tr>\n",
              "      <th>50%</th>\n",
              "      <td>12.860000</td>\n",
              "      <td>-2.000000</td>\n",
              "      <td>14901.500000</td>\n",
              "    </tr>\n",
              "    <tr>\n",
              "      <th>75%</th>\n",
              "      <td>15.320000</td>\n",
              "      <td>-1.000000</td>\n",
              "      <td>16393.000000</td>\n",
              "    </tr>\n",
              "    <tr>\n",
              "      <th>max</th>\n",
              "      <td>660.620000</td>\n",
              "      <td>-1.000000</td>\n",
              "      <td>18282.000000</td>\n",
              "    </tr>\n",
              "  </tbody>\n",
              "</table>\n",
              "</div>"
            ],
            "text/plain": [
              "             Price      Quantity    CustomerNo\n",
              "count  8494.000000   8494.000000   8494.000000\n",
              "mean     14.667710    -31.496586  14994.995526\n",
              "std      25.241861   1197.896194   1706.171419\n",
              "min       5.460000 -80995.000000  12346.000000\n",
              "25%      11.340000     -6.000000  13520.750000\n",
              "50%      12.860000     -2.000000  14901.500000\n",
              "75%      15.320000     -1.000000  16393.000000\n",
              "max     660.620000     -1.000000  18282.000000"
            ]
          },
          "execution_count": 19,
          "metadata": {},
          "output_type": "execute_result"
        }
      ],
      "source": [
        "df_cancel.describe()"
      ]
    },
    {
      "cell_type": "code",
      "execution_count": 20,
      "id": "08fac110",
      "metadata": {},
      "outputs": [
        {
          "name": "stderr",
          "output_type": "stream",
          "text": [
            "C:\\Users\\Zarel\\AppData\\Local\\Temp\\ipykernel_23800\\123655012.py:2: SettingWithCopyWarning: \n",
            "A value is trying to be set on a copy of a slice from a DataFrame.\n",
            "Try using .loc[row_indexer,col_indexer] = value instead\n",
            "\n",
            "See the caveats in the documentation: https://pandas.pydata.org/pandas-docs/stable/user_guide/indexing.html#returning-a-view-versus-a-copy\n",
            "  df_cancel['Quantity'] = df_cancel['Quantity'].abs()\n"
          ]
        },
        {
          "data": {
            "text/html": [
              "<div>\n",
              "<style scoped>\n",
              "    .dataframe tbody tr th:only-of-type {\n",
              "        vertical-align: middle;\n",
              "    }\n",
              "\n",
              "    .dataframe tbody tr th {\n",
              "        vertical-align: top;\n",
              "    }\n",
              "\n",
              "    .dataframe thead th {\n",
              "        text-align: right;\n",
              "    }\n",
              "</style>\n",
              "<table border=\"1\" class=\"dataframe\">\n",
              "  <thead>\n",
              "    <tr style=\"text-align: right;\">\n",
              "      <th></th>\n",
              "      <th>TransactionNo</th>\n",
              "      <th>Date</th>\n",
              "      <th>ProductNo</th>\n",
              "      <th>ProductName</th>\n",
              "      <th>Price</th>\n",
              "      <th>Quantity</th>\n",
              "      <th>CustomerNo</th>\n",
              "      <th>Country</th>\n",
              "    </tr>\n",
              "  </thead>\n",
              "  <tbody>\n",
              "    <tr>\n",
              "      <th>1616</th>\n",
              "      <td>C581484</td>\n",
              "      <td>12/9/2019</td>\n",
              "      <td>23843</td>\n",
              "      <td>Paper Craft Little Birdie</td>\n",
              "      <td>6.19</td>\n",
              "      <td>80995</td>\n",
              "      <td>16446.0</td>\n",
              "      <td>United Kingdom</td>\n",
              "    </tr>\n",
              "    <tr>\n",
              "      <th>1617</th>\n",
              "      <td>C581490</td>\n",
              "      <td>12/9/2019</td>\n",
              "      <td>22178</td>\n",
              "      <td>Victorian Glass Hanging T-Light</td>\n",
              "      <td>6.19</td>\n",
              "      <td>12</td>\n",
              "      <td>14397.0</td>\n",
              "      <td>United Kingdom</td>\n",
              "    </tr>\n",
              "    <tr>\n",
              "      <th>1618</th>\n",
              "      <td>C581490</td>\n",
              "      <td>12/9/2019</td>\n",
              "      <td>23144</td>\n",
              "      <td>Zinc T-Light Holder Stars Small</td>\n",
              "      <td>6.04</td>\n",
              "      <td>11</td>\n",
              "      <td>14397.0</td>\n",
              "      <td>United Kingdom</td>\n",
              "    </tr>\n",
              "    <tr>\n",
              "      <th>1619</th>\n",
              "      <td>C581568</td>\n",
              "      <td>12/9/2019</td>\n",
              "      <td>21258</td>\n",
              "      <td>Victorian Sewing Box Large</td>\n",
              "      <td>6.19</td>\n",
              "      <td>5</td>\n",
              "      <td>15311.0</td>\n",
              "      <td>United Kingdom</td>\n",
              "    </tr>\n",
              "    <tr>\n",
              "      <th>1620</th>\n",
              "      <td>C581569</td>\n",
              "      <td>12/9/2019</td>\n",
              "      <td>84978</td>\n",
              "      <td>Hanging Heart Jar T-Light Holder</td>\n",
              "      <td>6.19</td>\n",
              "      <td>1</td>\n",
              "      <td>17315.0</td>\n",
              "      <td>United Kingdom</td>\n",
              "    </tr>\n",
              "    <tr>\n",
              "      <th>...</th>\n",
              "      <td>...</td>\n",
              "      <td>...</td>\n",
              "      <td>...</td>\n",
              "      <td>...</td>\n",
              "      <td>...</td>\n",
              "      <td>...</td>\n",
              "      <td>...</td>\n",
              "      <td>...</td>\n",
              "    </tr>\n",
              "    <tr>\n",
              "      <th>536345</th>\n",
              "      <td>C536548</td>\n",
              "      <td>12/1/2018</td>\n",
              "      <td>22168</td>\n",
              "      <td>Organiser Wood Antique White</td>\n",
              "      <td>18.96</td>\n",
              "      <td>2</td>\n",
              "      <td>12472.0</td>\n",
              "      <td>Germany</td>\n",
              "    </tr>\n",
              "    <tr>\n",
              "      <th>536346</th>\n",
              "      <td>C536548</td>\n",
              "      <td>12/1/2018</td>\n",
              "      <td>21218</td>\n",
              "      <td>Red Spotty Biscuit Tin</td>\n",
              "      <td>14.09</td>\n",
              "      <td>3</td>\n",
              "      <td>12472.0</td>\n",
              "      <td>Germany</td>\n",
              "    </tr>\n",
              "    <tr>\n",
              "      <th>536347</th>\n",
              "      <td>C536548</td>\n",
              "      <td>12/1/2018</td>\n",
              "      <td>20957</td>\n",
              "      <td>Porcelain Hanging Bell Small</td>\n",
              "      <td>11.74</td>\n",
              "      <td>1</td>\n",
              "      <td>12472.0</td>\n",
              "      <td>Germany</td>\n",
              "    </tr>\n",
              "    <tr>\n",
              "      <th>536348</th>\n",
              "      <td>C536548</td>\n",
              "      <td>12/1/2018</td>\n",
              "      <td>22580</td>\n",
              "      <td>Advent Calendar Gingham Sack</td>\n",
              "      <td>16.35</td>\n",
              "      <td>4</td>\n",
              "      <td>12472.0</td>\n",
              "      <td>Germany</td>\n",
              "    </tr>\n",
              "    <tr>\n",
              "      <th>536349</th>\n",
              "      <td>C536548</td>\n",
              "      <td>12/1/2018</td>\n",
              "      <td>22767</td>\n",
              "      <td>Triple Photo Frame Cornice</td>\n",
              "      <td>20.45</td>\n",
              "      <td>2</td>\n",
              "      <td>12472.0</td>\n",
              "      <td>Germany</td>\n",
              "    </tr>\n",
              "  </tbody>\n",
              "</table>\n",
              "<p>8494 rows × 8 columns</p>\n",
              "</div>"
            ],
            "text/plain": [
              "       TransactionNo       Date ProductNo                       ProductName  \\\n",
              "1616         C581484  12/9/2019     23843         Paper Craft Little Birdie   \n",
              "1617         C581490  12/9/2019     22178   Victorian Glass Hanging T-Light   \n",
              "1618         C581490  12/9/2019     23144   Zinc T-Light Holder Stars Small   \n",
              "1619         C581568  12/9/2019     21258        Victorian Sewing Box Large   \n",
              "1620         C581569  12/9/2019     84978  Hanging Heart Jar T-Light Holder   \n",
              "...              ...        ...       ...                               ...   \n",
              "536345       C536548  12/1/2018     22168      Organiser Wood Antique White   \n",
              "536346       C536548  12/1/2018     21218            Red Spotty Biscuit Tin   \n",
              "536347       C536548  12/1/2018     20957      Porcelain Hanging Bell Small   \n",
              "536348       C536548  12/1/2018     22580      Advent Calendar Gingham Sack   \n",
              "536349       C536548  12/1/2018     22767        Triple Photo Frame Cornice   \n",
              "\n",
              "        Price  Quantity  CustomerNo         Country  \n",
              "1616     6.19     80995     16446.0  United Kingdom  \n",
              "1617     6.19        12     14397.0  United Kingdom  \n",
              "1618     6.04        11     14397.0  United Kingdom  \n",
              "1619     6.19         5     15311.0  United Kingdom  \n",
              "1620     6.19         1     17315.0  United Kingdom  \n",
              "...       ...       ...         ...             ...  \n",
              "536345  18.96         2     12472.0         Germany  \n",
              "536346  14.09         3     12472.0         Germany  \n",
              "536347  11.74         1     12472.0         Germany  \n",
              "536348  16.35         4     12472.0         Germany  \n",
              "536349  20.45         2     12472.0         Germany  \n",
              "\n",
              "[8494 rows x 8 columns]"
            ]
          },
          "execution_count": 20,
          "metadata": {},
          "output_type": "execute_result"
        }
      ],
      "source": [
        "# lalu kemudian nilai minus (-) diubah menjadi positif agar dapat dihitung nantinya\n",
        "df_cancel['Quantity'] = df_cancel['Quantity'].abs()\n",
        "df_cancel"
      ]
    },
    {
      "cell_type": "code",
      "execution_count": 21,
      "id": "a622c26f",
      "metadata": {
        "execution": {
          "iopub.execute_input": "2023-09-07T15:44:58.843988Z",
          "iopub.status.busy": "2023-09-07T15:44:58.843220Z",
          "iopub.status.idle": "2023-09-07T15:44:58.888065Z",
          "shell.execute_reply": "2023-09-07T15:44:58.887010Z"
        },
        "id": "a622c26f",
        "papermill": {
          "duration": 0.06125,
          "end_time": "2023-09-07T15:44:58.890331",
          "exception": false,
          "start_time": "2023-09-07T15:44:58.829081",
          "status": "completed"
        },
        "tags": []
      },
      "outputs": [],
      "source": [
        "# Delete Cancelation Transaction based on Quantity below 0\n",
        "df_surplus = df[df['Quantity'] > 0]"
      ]
    },
    {
      "cell_type": "code",
      "execution_count": 22,
      "id": "332291c6",
      "metadata": {
        "colab": {
          "base_uri": "https://localhost:8080/",
          "height": 300
        },
        "execution": {
          "iopub.execute_input": "2023-09-07T15:44:58.917458Z",
          "iopub.status.busy": "2023-09-07T15:44:58.917105Z",
          "iopub.status.idle": "2023-09-07T15:44:58.982530Z",
          "shell.execute_reply": "2023-09-07T15:44:58.981545Z"
        },
        "id": "332291c6",
        "outputId": "500b0d1a-8ddf-4353-ec90-b13a095e11c6",
        "papermill": {
          "duration": 0.081473,
          "end_time": "2023-09-07T15:44:58.984898",
          "exception": false,
          "start_time": "2023-09-07T15:44:58.903425",
          "status": "completed"
        },
        "tags": []
      },
      "outputs": [
        {
          "data": {
            "text/html": [
              "<div>\n",
              "<style scoped>\n",
              "    .dataframe tbody tr th:only-of-type {\n",
              "        vertical-align: middle;\n",
              "    }\n",
              "\n",
              "    .dataframe tbody tr th {\n",
              "        vertical-align: top;\n",
              "    }\n",
              "\n",
              "    .dataframe thead th {\n",
              "        text-align: right;\n",
              "    }\n",
              "</style>\n",
              "<table border=\"1\" class=\"dataframe\">\n",
              "  <thead>\n",
              "    <tr style=\"text-align: right;\">\n",
              "      <th></th>\n",
              "      <th>Price</th>\n",
              "      <th>Quantity</th>\n",
              "      <th>CustomerNo</th>\n",
              "    </tr>\n",
              "  </thead>\n",
              "  <tbody>\n",
              "    <tr>\n",
              "      <th>count</th>\n",
              "      <td>522601.000000</td>\n",
              "      <td>522601.000000</td>\n",
              "      <td>522601.000000</td>\n",
              "    </tr>\n",
              "    <tr>\n",
              "      <th>mean</th>\n",
              "      <td>12.637160</td>\n",
              "      <td>10.667492</td>\n",
              "      <td>15226.311767</td>\n",
              "    </tr>\n",
              "    <tr>\n",
              "      <th>std</th>\n",
              "      <td>7.965974</td>\n",
              "      <td>157.542420</td>\n",
              "      <td>1716.555479</td>\n",
              "    </tr>\n",
              "    <tr>\n",
              "      <th>min</th>\n",
              "      <td>5.130000</td>\n",
              "      <td>1.000000</td>\n",
              "      <td>12004.000000</td>\n",
              "    </tr>\n",
              "    <tr>\n",
              "      <th>25%</th>\n",
              "      <td>10.990000</td>\n",
              "      <td>1.000000</td>\n",
              "      <td>13804.000000</td>\n",
              "    </tr>\n",
              "    <tr>\n",
              "      <th>50%</th>\n",
              "      <td>11.940000</td>\n",
              "      <td>4.000000</td>\n",
              "      <td>15152.000000</td>\n",
              "    </tr>\n",
              "    <tr>\n",
              "      <th>75%</th>\n",
              "      <td>14.090000</td>\n",
              "      <td>12.000000</td>\n",
              "      <td>16729.000000</td>\n",
              "    </tr>\n",
              "    <tr>\n",
              "      <th>max</th>\n",
              "      <td>660.620000</td>\n",
              "      <td>80995.000000</td>\n",
              "      <td>18287.000000</td>\n",
              "    </tr>\n",
              "  </tbody>\n",
              "</table>\n",
              "</div>"
            ],
            "text/plain": [
              "               Price       Quantity     CustomerNo\n",
              "count  522601.000000  522601.000000  522601.000000\n",
              "mean       12.637160      10.667492   15226.311767\n",
              "std         7.965974     157.542420    1716.555479\n",
              "min         5.130000       1.000000   12004.000000\n",
              "25%        10.990000       1.000000   13804.000000\n",
              "50%        11.940000       4.000000   15152.000000\n",
              "75%        14.090000      12.000000   16729.000000\n",
              "max       660.620000   80995.000000   18287.000000"
            ]
          },
          "execution_count": 22,
          "metadata": {},
          "output_type": "execute_result"
        }
      ],
      "source": [
        "# Checking the databased again\n",
        "df_surplus.describe()"
      ]
    },
    {
      "cell_type": "code",
      "execution_count": 23,
      "id": "66c2028d",
      "metadata": {
        "colab": {
          "base_uri": "https://localhost:8080/"
        },
        "execution": {
          "iopub.execute_input": "2023-09-07T15:44:59.013436Z",
          "iopub.status.busy": "2023-09-07T15:44:59.013072Z",
          "iopub.status.idle": "2023-09-07T15:44:59.409790Z",
          "shell.execute_reply": "2023-09-07T15:44:59.408268Z"
        },
        "id": "66c2028d",
        "outputId": "56d9d440-4b46-45af-fc62-212d7b6fa6ff",
        "papermill": {
          "duration": 0.413824,
          "end_time": "2023-09-07T15:44:59.412055",
          "exception": false,
          "start_time": "2023-09-07T15:44:58.998231",
          "status": "completed"
        },
        "tags": []
      },
      "outputs": [
        {
          "name": "stdout",
          "output_type": "stream",
          "text": [
            "<class 'pandas.core.frame.DataFrame'>\n",
            "Index: 522601 entries, 0 to 536324\n",
            "Data columns (total 8 columns):\n",
            " #   Column         Non-Null Count   Dtype  \n",
            "---  ------         --------------   -----  \n",
            " 0   TransactionNo  522601 non-null  object \n",
            " 1   Date           522601 non-null  object \n",
            " 2   ProductNo      522601 non-null  object \n",
            " 3   ProductName    522601 non-null  object \n",
            " 4   Price          522601 non-null  float64\n",
            " 5   Quantity       522601 non-null  int64  \n",
            " 6   CustomerNo     522601 non-null  float64\n",
            " 7   Country        522601 non-null  object \n",
            "dtypes: float64(2), int64(1), object(5)\n",
            "memory usage: 35.9+ MB\n"
          ]
        }
      ],
      "source": [
        "df_surplus.info()"
      ]
    },
    {
      "cell_type": "code",
      "execution_count": 24,
      "id": "65614d26",
      "metadata": {},
      "outputs": [
        {
          "name": "stdout",
          "output_type": "stream",
          "text": [
            "Stored 'df_surplus' (DataFrame)\n",
            "Stored 'df_cancel' (DataFrame)\n"
          ]
        }
      ],
      "source": [
        "%store df_surplus\n",
        "%store df_cancel"
      ]
    }
  ],
  "metadata": {
    "colab": {
      "provenance": []
    },
    "kernelspec": {
      "display_name": "Python 3",
      "language": "python",
      "name": "python3"
    },
    "language_info": {
      "codemirror_mode": {
        "name": "ipython",
        "version": 3
      },
      "file_extension": ".py",
      "mimetype": "text/x-python",
      "name": "python",
      "nbconvert_exporter": "python",
      "pygments_lexer": "ipython3",
      "version": "3.9.0"
    },
    "papermill": {
      "default_parameters": {},
      "duration": 21.648621,
      "end_time": "2023-09-07T15:45:03.524940",
      "environment_variables": {},
      "exception": null,
      "input_path": "__notebook__.ipynb",
      "output_path": "__notebook__.ipynb",
      "parameters": {},
      "start_time": "2023-09-07T15:44:41.876319",
      "version": "2.4.0"
    }
  },
  "nbformat": 4,
  "nbformat_minor": 5
}
